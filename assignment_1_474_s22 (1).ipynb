{
 "cells": [
  {
   "cell_type": "markdown",
   "metadata": {
    "id": "NIHF2JXRE7UX"
   },
   "source": [
    "# Programming Assignment 1 - Understanding upvotes on top reddit posts\n",
    "\n",
    "After completing this project, you will be able to do the following:\n",
    "\n",
    "- Collect and save reddit data using the reddit API (through the ```praw``` library)\n",
    "- Be able to conduct descriptive analyses, via manipulation of data stored in a pandas dataframe, and via the creation and exploration of graphs, of the number of upvotes of reddit comments\n",
    "- Be able to conduct a linear regression to help understand the factors associated with a top post having many upvotes on reddit\n",
    "- **574 Only**: Be able to implement additional feature sets and/or a new model and describe why those decisions were made and what their effects were on performance\n",
    "\n",
    "# Resources you can use to complete this assignment (a COMPLETE list)\n",
    "\n",
    "**NOTE: You ARE allowed to use Google to find things that fit this list (i.e. it is often easy to google something like \"plotly draw line graph\" to find the right part of the plotly documentation).**\n",
    "\n",
    "- Anything linked to in this article\n",
    "- Anything linked to from the course web page\n",
    "- Any materials from another online course taught at a university (**if you use this, you MUST provide a link to the exact document used**)\n",
    "- Anything posted by Kenny, Navid, or Yincheng on Piazza\n",
    "\n",
    "# Setup\n",
    "\n",
    "- For this assignment, you will need to install the PRAW library for scraping reddit data.\n",
    "\n",
    "# Grading\n",
    "\n",
    "There are three parts to the grading:\n",
    "\n",
    "1. **Written Report (60 points)**: You will submit a PDF report that provides answers to questions here, and that contains plots we request.  These same questions are also posted in the assignment PDF, for convenience. **Again, the questions in the Assignment PDF and here are the same (for the written report), we just put them in both places for convenience.**.\n",
    "\n",
    "2. **Saved file from Part 1.3 (10 points)**: See below for details. \n",
    "\n",
    "3. **Coding spot checks (30 points)** - We will select 6 problems to spot check. This means that we will check to make sure that your code is written in a reasonable way and that it obtains the desired results when we run your code. For example, your code should not be written in a way that makes it exceedingly slow, e.g. by using for loops where a vectorized approach would be applicable. We will *not* tell you which problems we are spot checking.\n",
    "\n",
    "\n",
    "As such, you will submit, one member of your group will subit as a zip file on UBLearns, a ```.zip``` file that contains 3 things:\n",
    "- Your completed jupyter notebook.\n",
    "- Your written report, answering all questions asked here (and copied in the assignment PDF)\n",
    "- Your saved file from Part 1.3 below"
   ]
  },
  {
   "cell_type": "code",
   "execution_count": null,
   "metadata": {
    "colab": {
     "base_uri": "https://localhost:8080/"
    },
    "id": "YBPK3TzEQrbM",
    "outputId": "afc19d02-32c1-4897-c798-8c0fca16b384"
   },
   "outputs": [
    {
     "name": "stdout",
     "output_type": "stream",
     "text": [
      "Collecting praw\n",
      "  Downloading praw-7.5.0-py3-none-any.whl (176 kB)\n",
      "\u001b[?25l\r",
      "\u001b[K     |█▉                              | 10 kB 19.2 MB/s eta 0:00:01\r",
      "\u001b[K     |███▊                            | 20 kB 11.8 MB/s eta 0:00:01\r",
      "\u001b[K     |█████▋                          | 30 kB 8.3 MB/s eta 0:00:01\r",
      "\u001b[K     |███████▍                        | 40 kB 7.5 MB/s eta 0:00:01\r",
      "\u001b[K     |█████████▎                      | 51 kB 3.1 MB/s eta 0:00:01\r",
      "\u001b[K     |███████████▏                    | 61 kB 3.7 MB/s eta 0:00:01\r",
      "\u001b[K     |█████████████                   | 71 kB 4.2 MB/s eta 0:00:01\r",
      "\u001b[K     |██████████████▉                 | 81 kB 4.7 MB/s eta 0:00:01\r",
      "\u001b[K     |████████████████▊               | 92 kB 5.3 MB/s eta 0:00:01\r",
      "\u001b[K     |██████████████████▋             | 102 kB 3.8 MB/s eta 0:00:01\r",
      "\u001b[K     |████████████████████▍           | 112 kB 3.8 MB/s eta 0:00:01\r",
      "\u001b[K     |██████████████████████▎         | 122 kB 3.8 MB/s eta 0:00:01\r",
      "\u001b[K     |████████████████████████▏       | 133 kB 3.8 MB/s eta 0:00:01\r",
      "\u001b[K     |██████████████████████████      | 143 kB 3.8 MB/s eta 0:00:01\r",
      "\u001b[K     |███████████████████████████▉    | 153 kB 3.8 MB/s eta 0:00:01\r",
      "\u001b[K     |█████████████████████████████▊  | 163 kB 3.8 MB/s eta 0:00:01\r",
      "\u001b[K     |███████████████████████████████▌| 174 kB 3.8 MB/s eta 0:00:01\r",
      "\u001b[K     |████████████████████████████████| 176 kB 3.8 MB/s \n",
      "\u001b[?25hCollecting prawcore<3,>=2.1\n",
      "  Downloading prawcore-2.3.0-py3-none-any.whl (16 kB)\n",
      "Collecting update-checker>=0.18\n",
      "  Downloading update_checker-0.18.0-py3-none-any.whl (7.0 kB)\n",
      "Collecting websocket-client>=0.54.0\n",
      "  Downloading websocket_client-1.2.3-py3-none-any.whl (53 kB)\n",
      "\u001b[K     |████████████████████████████████| 53 kB 1.5 MB/s \n",
      "\u001b[?25hRequirement already satisfied: requests<3.0,>=2.6.0 in /usr/local/lib/python3.7/dist-packages (from prawcore<3,>=2.1->praw) (2.23.0)\n",
      "Requirement already satisfied: chardet<4,>=3.0.2 in /usr/local/lib/python3.7/dist-packages (from requests<3.0,>=2.6.0->prawcore<3,>=2.1->praw) (3.0.4)\n",
      "Requirement already satisfied: idna<3,>=2.5 in /usr/local/lib/python3.7/dist-packages (from requests<3.0,>=2.6.0->prawcore<3,>=2.1->praw) (2.10)\n",
      "Requirement already satisfied: certifi>=2017.4.17 in /usr/local/lib/python3.7/dist-packages (from requests<3.0,>=2.6.0->prawcore<3,>=2.1->praw) (2021.10.8)\n",
      "Requirement already satisfied: urllib3!=1.25.0,!=1.25.1,<1.26,>=1.21.1 in /usr/local/lib/python3.7/dist-packages (from requests<3.0,>=2.6.0->prawcore<3,>=2.1->praw) (1.24.3)\n",
      "Installing collected packages: websocket-client, update-checker, prawcore, praw\n",
      "Successfully installed praw-7.5.0 prawcore-2.3.0 update-checker-0.18.0 websocket-client-1.2.3\n"
     ]
    }
   ],
   "source": [
    "!pip install praw"
   ]
  },
  {
   "cell_type": "code",
   "execution_count": null,
   "metadata": {
    "id": "6H7DHmkLE7Ud"
   },
   "outputs": [],
   "source": [
    "# This is a comment in the code. All comments in python are preceeded by a pound sign\n",
    "# Comments can be plain English, because the computer ignores them when running the code.\n",
    "\n",
    "# This should be all the imports you need for this project.\n",
    "\n",
    "# The line of code below this comment imports code written by other people in the form of the \n",
    "# praw library\n",
    "\n",
    "import praw\n",
    "import pandasql as ps\n",
    "import numpy as np\n",
    "import pandas as pd\n",
    "import plotly.express as px\n",
    "import os\n"
   ]
  },
  {
   "cell_type": "markdown",
   "metadata": {
    "id": "8zxI0nwJE7Uf"
   },
   "source": [
    "# Part 1: Data collection"
   ]
  },
  {
   "cell_type": "markdown",
   "metadata": {
    "id": "TVdYBuvpE7Ug"
   },
   "source": [
    "## Step 1: Creating a reddit account\n",
    "\n",
    "If you don't have one already, the first thing you'll need to do is go to [reddit](http://www.reddit.com/) and create a reddit account.\n",
    "\n",
    "## Step 2: Creating a reddit app\n",
    "\n",
    "Now, we're going to create a reddit app. Make sure you're signed in to your reddit account, and then go to the [app page](https://ssl.reddit.com/prefs/apps/).  From here, click on the \"create an app\" button. <b>Make sure that you've selected the \"script\" option in the checkbox</b>, and then fill in a name and description. For the two URL fields, it doesn't really matter what you put. Your input should look something like mine.\n",
    "\n",
    "<img width=\"1000px\" src=\"./reddit_tut_0.png\" style=\"max-width:95%;border:3px solid black;\"></img>\n",
    "    \n",
    "Cool! Now hit \"create app\" button.\n",
    "\n",
    "## Step 3: Scraping some reddit data\n",
    "\n",
    "### 3a - setting up your API credentials\n",
    "We're now going to pull down some real, live reddit posts and take a look at them! To do so, we're going to need some information from our app.  Reddit uses this information to keep track of who is accessing their data, and in what ways they're accessing it.  In other words, reddit wants to make sure it knows who might be doing bad things with their data or to their platform, so they can shut those apps down. We'll return to that point in a bit.  But, for now, you'll need to edit the code below to enter in your ```client_id```, your ```client_secret```, and your ```username```  in order for you to be able to collect data.  ***Note - PLEASE TRY TO REMEMBER TO REMOVE YOUR SECRET INFORMATION BEFORE SUBMITTING THE ASSIGNMENT***. You can find the first two on the app creation page, where the red boxes are in the image below:\n",
    "\n",
    "<img width=\"1000px\" src=\"reddit_tut_1.png\" style=\"max-width:95%;border:3px solid black;\"></img>\n",
    "\n",
    "Enter your information between the appropriate quotation marks in the (python) code below, replacing the phrase ```ENTER_YOUR_XXX_HERE```.\n",
    "\n",
    " ***Make sure to push ```SHIFT+ENTER``` after you've changed the code!*** "
   ]
  },
  {
   "cell_type": "code",
   "execution_count": null,
   "metadata": {
    "id": "bCWWx9ZME7Ug"
   },
   "outputs": [],
   "source": [
    "your_client_id = 'O9WkRA9ukOJuaSTlUdCJCA'\n",
    "your_client_secret = 'tZ9v_ShhxzaCvVJ35TKpl_6fWr_j5w'\n",
    "your_username = \"iamnabeelkhan\""
   ]
  },
  {
   "cell_type": "markdown",
   "metadata": {
    "id": "KQEkCEZrE7Uh"
   },
   "source": [
    "### 3b - Selecting subreddits\n",
    "\n",
    "Ok, we're almost all set up to scrape! to do so, we're going to use a python library called [praw](https://praw.readthedocs.io/).  Praw is a relatively powerful tool, allowing you to do a bunch of cool things with the reddit API.  For this assignment, you're just going to do the basics:\n",
    "\n",
    "Specifically, **<span style=\"color: red;\">create a variable called ```subreddits``` in the code box below. The variable should point to a ```list``` data structure that has the names of 3 subreddits you want to pull data from.</span>**"
   ]
  },
  {
   "cell_type": "code",
   "execution_count": null,
   "metadata": {
    "id": "ipq0n_eXE7Uh"
   },
   "outputs": [],
   "source": [
    "subreddits = ['AskReddit','worldnews','soccer']"
   ]
  },
  {
   "cell_type": "markdown",
   "metadata": {
    "id": "vgrg0SkpE7Ui"
   },
   "source": [
    "### 3c - Setting up our authentication mechanism for our application\n",
    "\n",
    "The last step before we start crawling is to set ourselves up to make authenticated calls to the reddit API. **<span style=\"color: red;\">Use the PRAW library to create an instance of the class ```praw.Reddit``` that you can use to scrape the reddit API.</span>**\n"
   ]
  },
  {
   "cell_type": "code",
   "execution_count": null,
   "metadata": {
    "id": "yM1oZs6pE7Uj"
   },
   "outputs": [],
   "source": [
    "# Code for 3c should go here\n",
    "reddit = praw.Reddit(client_id=your_client_id, client_secret=your_client_secret, user_agent=your_username)\n"
   ]
  },
  {
   "cell_type": "markdown",
   "metadata": {
    "id": "j3BeZ2jME7Uj"
   },
   "source": [
    "### 3d - Finally, some scraping!\n",
    "\n",
    "OK! Now we can finally pull some data down from the reddit API!\n",
    "\n",
    "<span style=\"color: red;\">Use the ```praw``` library to pull down the **top 1000 posts of all time from EACH of the 3 subreddits you selected.** Note: You may not get all 1000, due to oddities with the reddit API. However, your code should specify that it *wants* up to 1000 posts.</span>"
   ]
  },
  {
   "cell_type": "code",
   "execution_count": null,
   "metadata": {
    "colab": {
     "base_uri": "https://localhost:8080/"
    },
    "id": "dsB24a_cE7Uk",
    "outputId": "8359920a-d68a-4b03-f57a-1a6e4cb84300"
   },
   "outputs": [
    {
     "name": "stderr",
     "output_type": "stream",
     "text": [
      "It appears that you are using PRAW in an asynchronous environment.\n",
      "It is strongly recommended to use Async PRAW: https://asyncpraw.readthedocs.io.\n",
      "See https://praw.readthedocs.io/en/latest/getting_started/multiple_instances.html#discord-bots-and-asynchronous-environments for more info.\n",
      "\n",
      "It appears that you are using PRAW in an asynchronous environment.\n",
      "It is strongly recommended to use Async PRAW: https://asyncpraw.readthedocs.io.\n",
      "See https://praw.readthedocs.io/en/latest/getting_started/multiple_instances.html#discord-bots-and-asynchronous-environments for more info.\n",
      "\n",
      "It appears that you are using PRAW in an asynchronous environment.\n",
      "It is strongly recommended to use Async PRAW: https://asyncpraw.readthedocs.io.\n",
      "See https://praw.readthedocs.io/en/latest/getting_started/multiple_instances.html#discord-bots-and-asynchronous-environments for more info.\n",
      "\n",
      "It appears that you are using PRAW in an asynchronous environment.\n",
      "It is strongly recommended to use Async PRAW: https://asyncpraw.readthedocs.io.\n",
      "See https://praw.readthedocs.io/en/latest/getting_started/multiple_instances.html#discord-bots-and-asynchronous-environments for more info.\n",
      "\n",
      "It appears that you are using PRAW in an asynchronous environment.\n",
      "It is strongly recommended to use Async PRAW: https://asyncpraw.readthedocs.io.\n",
      "See https://praw.readthedocs.io/en/latest/getting_started/multiple_instances.html#discord-bots-and-asynchronous-environments for more info.\n",
      "\n",
      "It appears that you are using PRAW in an asynchronous environment.\n",
      "It is strongly recommended to use Async PRAW: https://asyncpraw.readthedocs.io.\n",
      "See https://praw.readthedocs.io/en/latest/getting_started/multiple_instances.html#discord-bots-and-asynchronous-environments for more info.\n",
      "\n",
      "It appears that you are using PRAW in an asynchronous environment.\n",
      "It is strongly recommended to use Async PRAW: https://asyncpraw.readthedocs.io.\n",
      "See https://praw.readthedocs.io/en/latest/getting_started/multiple_instances.html#discord-bots-and-asynchronous-environments for more info.\n",
      "\n",
      "It appears that you are using PRAW in an asynchronous environment.\n",
      "It is strongly recommended to use Async PRAW: https://asyncpraw.readthedocs.io.\n",
      "See https://praw.readthedocs.io/en/latest/getting_started/multiple_instances.html#discord-bots-and-asynchronous-environments for more info.\n",
      "\n",
      "It appears that you are using PRAW in an asynchronous environment.\n",
      "It is strongly recommended to use Async PRAW: https://asyncpraw.readthedocs.io.\n",
      "See https://praw.readthedocs.io/en/latest/getting_started/multiple_instances.html#discord-bots-and-asynchronous-environments for more info.\n",
      "\n",
      "It appears that you are using PRAW in an asynchronous environment.\n",
      "It is strongly recommended to use Async PRAW: https://asyncpraw.readthedocs.io.\n",
      "See https://praw.readthedocs.io/en/latest/getting_started/multiple_instances.html#discord-bots-and-asynchronous-environments for more info.\n",
      "\n",
      "It appears that you are using PRAW in an asynchronous environment.\n",
      "It is strongly recommended to use Async PRAW: https://asyncpraw.readthedocs.io.\n",
      "See https://praw.readthedocs.io/en/latest/getting_started/multiple_instances.html#discord-bots-and-asynchronous-environments for more info.\n",
      "\n",
      "It appears that you are using PRAW in an asynchronous environment.\n",
      "It is strongly recommended to use Async PRAW: https://asyncpraw.readthedocs.io.\n",
      "See https://praw.readthedocs.io/en/latest/getting_started/multiple_instances.html#discord-bots-and-asynchronous-environments for more info.\n",
      "\n",
      "It appears that you are using PRAW in an asynchronous environment.\n",
      "It is strongly recommended to use Async PRAW: https://asyncpraw.readthedocs.io.\n",
      "See https://praw.readthedocs.io/en/latest/getting_started/multiple_instances.html#discord-bots-and-asynchronous-environments for more info.\n",
      "\n",
      "It appears that you are using PRAW in an asynchronous environment.\n",
      "It is strongly recommended to use Async PRAW: https://asyncpraw.readthedocs.io.\n",
      "See https://praw.readthedocs.io/en/latest/getting_started/multiple_instances.html#discord-bots-and-asynchronous-environments for more info.\n",
      "\n",
      "It appears that you are using PRAW in an asynchronous environment.\n",
      "It is strongly recommended to use Async PRAW: https://asyncpraw.readthedocs.io.\n",
      "See https://praw.readthedocs.io/en/latest/getting_started/multiple_instances.html#discord-bots-and-asynchronous-environments for more info.\n",
      "\n",
      "It appears that you are using PRAW in an asynchronous environment.\n",
      "It is strongly recommended to use Async PRAW: https://asyncpraw.readthedocs.io.\n",
      "See https://praw.readthedocs.io/en/latest/getting_started/multiple_instances.html#discord-bots-and-asynchronous-environments for more info.\n",
      "\n",
      "It appears that you are using PRAW in an asynchronous environment.\n",
      "It is strongly recommended to use Async PRAW: https://asyncpraw.readthedocs.io.\n",
      "See https://praw.readthedocs.io/en/latest/getting_started/multiple_instances.html#discord-bots-and-asynchronous-environments for more info.\n",
      "\n",
      "It appears that you are using PRAW in an asynchronous environment.\n",
      "It is strongly recommended to use Async PRAW: https://asyncpraw.readthedocs.io.\n",
      "See https://praw.readthedocs.io/en/latest/getting_started/multiple_instances.html#discord-bots-and-asynchronous-environments for more info.\n",
      "\n",
      "It appears that you are using PRAW in an asynchronous environment.\n",
      "It is strongly recommended to use Async PRAW: https://asyncpraw.readthedocs.io.\n",
      "See https://praw.readthedocs.io/en/latest/getting_started/multiple_instances.html#discord-bots-and-asynchronous-environments for more info.\n",
      "\n",
      "It appears that you are using PRAW in an asynchronous environment.\n",
      "It is strongly recommended to use Async PRAW: https://asyncpraw.readthedocs.io.\n",
      "See https://praw.readthedocs.io/en/latest/getting_started/multiple_instances.html#discord-bots-and-asynchronous-environments for more info.\n",
      "\n",
      "It appears that you are using PRAW in an asynchronous environment.\n",
      "It is strongly recommended to use Async PRAW: https://asyncpraw.readthedocs.io.\n",
      "See https://praw.readthedocs.io/en/latest/getting_started/multiple_instances.html#discord-bots-and-asynchronous-environments for more info.\n",
      "\n",
      "It appears that you are using PRAW in an asynchronous environment.\n",
      "It is strongly recommended to use Async PRAW: https://asyncpraw.readthedocs.io.\n",
      "See https://praw.readthedocs.io/en/latest/getting_started/multiple_instances.html#discord-bots-and-asynchronous-environments for more info.\n",
      "\n",
      "It appears that you are using PRAW in an asynchronous environment.\n",
      "It is strongly recommended to use Async PRAW: https://asyncpraw.readthedocs.io.\n",
      "See https://praw.readthedocs.io/en/latest/getting_started/multiple_instances.html#discord-bots-and-asynchronous-environments for more info.\n",
      "\n",
      "It appears that you are using PRAW in an asynchronous environment.\n",
      "It is strongly recommended to use Async PRAW: https://asyncpraw.readthedocs.io.\n",
      "See https://praw.readthedocs.io/en/latest/getting_started/multiple_instances.html#discord-bots-and-asynchronous-environments for more info.\n",
      "\n",
      "It appears that you are using PRAW in an asynchronous environment.\n",
      "It is strongly recommended to use Async PRAW: https://asyncpraw.readthedocs.io.\n",
      "See https://praw.readthedocs.io/en/latest/getting_started/multiple_instances.html#discord-bots-and-asynchronous-environments for more info.\n",
      "\n",
      "It appears that you are using PRAW in an asynchronous environment.\n",
      "It is strongly recommended to use Async PRAW: https://asyncpraw.readthedocs.io.\n",
      "See https://praw.readthedocs.io/en/latest/getting_started/multiple_instances.html#discord-bots-and-asynchronous-environments for more info.\n",
      "\n",
      "It appears that you are using PRAW in an asynchronous environment.\n",
      "It is strongly recommended to use Async PRAW: https://asyncpraw.readthedocs.io.\n",
      "See https://praw.readthedocs.io/en/latest/getting_started/multiple_instances.html#discord-bots-and-asynchronous-environments for more info.\n",
      "\n",
      "It appears that you are using PRAW in an asynchronous environment.\n",
      "It is strongly recommended to use Async PRAW: https://asyncpraw.readthedocs.io.\n",
      "See https://praw.readthedocs.io/en/latest/getting_started/multiple_instances.html#discord-bots-and-asynchronous-environments for more info.\n",
      "\n",
      "It appears that you are using PRAW in an asynchronous environment.\n",
      "It is strongly recommended to use Async PRAW: https://asyncpraw.readthedocs.io.\n",
      "See https://praw.readthedocs.io/en/latest/getting_started/multiple_instances.html#discord-bots-and-asynchronous-environments for more info.\n",
      "\n",
      "It appears that you are using PRAW in an asynchronous environment.\n",
      "It is strongly recommended to use Async PRAW: https://asyncpraw.readthedocs.io.\n",
      "See https://praw.readthedocs.io/en/latest/getting_started/multiple_instances.html#discord-bots-and-asynchronous-environments for more info.\n",
      "\n"
     ]
    },
    {
     "name": "stdout",
     "output_type": "stream",
     "text": [
      "2976\n"
     ]
    }
   ],
   "source": [
    "# Code for 3d should go here\n",
    "sub = []\n",
    "for subreddit in subreddits:\n",
    "    for submission in reddit.subreddit(f\"{subreddit}\").top(\"all\", limit= 1000):\n",
    "    #print(type(submission))\n",
    "        sub.append(submission)\n",
    "    #print(submission.title)\n",
    "print(len(sub))"
   ]
  },
  {
   "cell_type": "code",
   "execution_count": null,
   "metadata": {
    "colab": {
     "base_uri": "https://localhost:8080/"
    },
    "id": "vSwiNScjRU8i",
    "outputId": "f5c2b84d-3aef-4d60-e817-b7190755478d"
   },
   "outputs": [
    {
     "data": {
      "text/plain": [
       "2976"
      ]
     },
     "execution_count": 10,
     "metadata": {},
     "output_type": "execute_result"
    }
   ],
   "source": [
    "len(sub)"
   ]
  },
  {
   "cell_type": "markdown",
   "metadata": {
    "id": "1IwB-nv-E7Uk"
   },
   "source": [
    "## Answering some questions about your data and the API\n",
    "\n",
    "### 1.1 Understanding APIs\n",
    "***Note, Part 1 questions can be answered by carefully reading the [documentation of the PRAW library carefully](https://praw.readthedocs.io/en/v3.6.2/pages/getting_started.html) and/or the [reddit API documentation](https://github.com/reddit-archive/reddit/wiki/API#rules).***\n",
    "\n",
    "- **1.1.1** How many API calls were required to collect the submissions?\n",
    "- **1.1.2** Why did we set the submission limit at 1000?\n",
    "- **1.1.3** How long, in minutes, would it take you to collect 1000 posts from 25 different subreddits? What about from 500 different subreddits? *Hint: You'll have to consider how many API requests you are allowed to make in a given time period.*\n",
    "\n",
    "### 1.2 Thinking about your sample\n",
    "\n",
    "You collected (approximately) the top 1000 submissions from 3 different subreddits. \n",
    "\n",
    "- **1.2.1** Do you think these posts are representative of **all** the posts on that subreddit? (Yes or no, only) \n",
    "- **1.2.2** Why or why not? That is, if you think so, why do you think there's not much sampling bias here? If not, what do you think might be different about these top posts than other posts?\n",
    "\n"
   ]
  },
  {
   "cell_type": "markdown",
   "metadata": {
    "id": "DGmYs_C6E7Ul"
   },
   "source": [
    "## Saving out your data\n",
    "\n",
    "Finally, we're going to save your data out and submit it. For this part, [this section of the API documentation may be useful](https://praw.readthedocs.io/en/latest/getting_started/quick_start.html#determine-available-attributes-of-an-object). Similarly, note that saving CSVs is sometimes easiest by first converting your data into a ```pandas``` dataframe, and then just calling ```.to_csv()```.\n",
    "\n",
    "<span style=\"color: red;\">You will save the data you have collected out to a CSV file. This CSV file should be called ```part1_data.csv```. The file should contain a column for each of the fields listed in the ```fields_to_capture``` list below. Additionally, you should save out the **author's name** (hint, the author attribute of the ```praw.Submission``` data structure is a ```praw.Redditor``` object. You will need to access that object to get the author name. Call this column ```author_name`` in your CSV file. </span>\n",
    "\n",
    "**Note: Some posts will not have data for some of these columns. That is fine! You can make these fields blank in the CSV, then.**"
   ]
  },
  {
   "cell_type": "code",
   "execution_count": null,
   "metadata": {
    "id": "D0a43KXjE7Ul"
   },
   "outputs": [],
   "source": [
    "# Don't change this!\n",
    "fields_to_capture = [ 'created_utc', \n",
    "                     'is_crosspostable', 'is_self', 'is_video', 'locked', 'media_only', 'over_18',\n",
    "                     'subreddit_id', 'subreddit_name_prefixed', 'subreddit_subscribers', \n",
    "                     'title', 'permalink', \n",
    "                     'total_awards_received', 'downs','gilded','num_comments', 'num_crossposts', 'num_reports', \n",
    "                     'ups']"
   ]
  },
  {
   "cell_type": "code",
   "execution_count": null,
   "metadata": {
    "colab": {
     "base_uri": "https://localhost:8080/",
     "height": 35
    },
    "id": "XfXT5zxMSqZi",
    "outputId": "bd621f44-23b1-45b5-b613-913437af9852"
   },
   "outputs": [
    {
     "data": {
      "application/vnd.google.colaboratory.intrinsic+json": {
       "type": "string"
      },
      "text/plain": [
       "\"People who haven't pooped in 2019 yet, why are you still holding on to last years shit?\""
      ]
     },
     "execution_count": 12,
     "metadata": {},
     "output_type": "execute_result"
    }
   ],
   "source": [
    "sub[0].title"
   ]
  },
  {
   "cell_type": "code",
   "execution_count": null,
   "metadata": {
    "id": "zoJV4TXZE7Um"
   },
   "outputs": [],
   "source": [
    "# Write the code here to save out the data\n",
    "parsed_data = []\n",
    "\n",
    "for field in fields_to_capture:\n",
    "    exec('parsed_data.append ([sub[i].{} for i in range(len(sub))])'.format(field))\n"
   ]
  },
  {
   "cell_type": "code",
   "execution_count": null,
   "metadata": {
    "colab": {
     "base_uri": "https://localhost:8080/"
    },
    "id": "I3ukiLKJgdYb",
    "outputId": "e4985ef9-1341-46c6-8a85-77e419a8d1d9"
   },
   "outputs": [
    {
     "data": {
      "text/plain": [
       "((19, 2976), (19, 2976))"
      ]
     },
     "execution_count": 14,
     "metadata": {},
     "output_type": "execute_result"
    }
   ],
   "source": [
    "(len(fields_to_capture),len(sub)), np.array(parsed_data).shape"
   ]
  },
  {
   "cell_type": "code",
   "execution_count": null,
   "metadata": {
    "id": "kY1v6pykguGm"
   },
   "outputs": [],
   "source": [
    "part1_data = pd.DataFrame(parsed_data).T\n",
    "part1_data.columns = fields_to_capture"
   ]
  },
  {
   "cell_type": "code",
   "execution_count": null,
   "metadata": {
    "id": "f3yfAuglhLxv"
   },
   "outputs": [],
   "source": [
    "  part1_data.to_csv('part1_data.csv')"
   ]
  },
  {
   "cell_type": "markdown",
   "metadata": {
    "id": "Gz2nlxsbE7Um"
   },
   "source": [
    "### 1.3 Grading for saving data\n",
    "\n",
    "Submit your saved data from the reddit API in a file named ```part1_data.csv```. For grading for Part 1.3, we will check that:\n",
    "- We can read in the saved file using ```pandas.read_csv()```\n",
    "- The resulting file has data from three subreddits, approximately 1000 from each (give or take what the API decides to give you, which is out of your control).\n",
    "- The resulting file has all the necessary columns, i.e. those listed in ```fields_to_capture```.\n"
   ]
  },
  {
   "cell_type": "markdown",
   "metadata": {
    "id": "t2IXZXZVE7Um"
   },
   "source": [
    "# Part 2 - Analyzing an existing dataset\n",
    "\n",
    "For this section of the assignment, the entire class will use ```part2_data.csv```.  We will ask you to analyze these data in a variety of ways. Parts of this will be submitted in your written report, and other parts will be evaluated automatically.\n",
    "\n",
    "**Part 2 data consists of the top 1000 (ish) posts from 24 different subreddits**."
   ]
  },
  {
   "cell_type": "code",
   "execution_count": null,
   "metadata": {
    "colab": {
     "base_uri": "https://localhost:8080/"
    },
    "id": "FrtUpXVtZKnC",
    "outputId": "42d4a690-f14c-4e52-907a-870fdfa10b5b"
   },
   "outputs": [
    {
     "name": "stdout",
     "output_type": "stream",
     "text": [
      "part1_data.csv  \u001b[0m\u001b[01;34msample_data\u001b[0m/\n"
     ]
    }
   ],
   "source": [
    "ls"
   ]
  },
  {
   "cell_type": "code",
   "execution_count": null,
   "metadata": {
    "colab": {
     "base_uri": "https://localhost:8080/",
     "height": 670
    },
    "id": "-tmGbPKzE7Um",
    "outputId": "8f7fd571-530e-466a-9164-f1c8d2b4ddd2"
   },
   "outputs": [
    {
     "data": {
      "text/html": [
       "\n",
       "  <div id=\"df-afa40ca6-a71f-4cc0-b64a-c63e9852f73b\">\n",
       "    <div class=\"colab-df-container\">\n",
       "      <div>\n",
       "<style scoped>\n",
       "    .dataframe tbody tr th:only-of-type {\n",
       "        vertical-align: middle;\n",
       "    }\n",
       "\n",
       "    .dataframe tbody tr th {\n",
       "        vertical-align: top;\n",
       "    }\n",
       "\n",
       "    .dataframe thead th {\n",
       "        text-align: right;\n",
       "    }\n",
       "</style>\n",
       "<table border=\"1\" class=\"dataframe\">\n",
       "  <thead>\n",
       "    <tr style=\"text-align: right;\">\n",
       "      <th></th>\n",
       "      <th>created_utc</th>\n",
       "      <th>is_crosspostable</th>\n",
       "      <th>is_self</th>\n",
       "      <th>is_video</th>\n",
       "      <th>locked</th>\n",
       "      <th>media_only</th>\n",
       "      <th>over_18</th>\n",
       "      <th>score</th>\n",
       "      <th>subreddit_id</th>\n",
       "      <th>subreddit_name_prefixed</th>\n",
       "      <th>subreddit_subscribers</th>\n",
       "      <th>title</th>\n",
       "      <th>permalink</th>\n",
       "      <th>total_awards_received</th>\n",
       "      <th>downs</th>\n",
       "      <th>gilded</th>\n",
       "      <th>num_comments</th>\n",
       "      <th>num_crossposts</th>\n",
       "      <th>num_reports</th>\n",
       "      <th>ups</th>\n",
       "      <th>author_name</th>\n",
       "    </tr>\n",
       "  </thead>\n",
       "  <tbody>\n",
       "    <tr>\n",
       "      <th>0</th>\n",
       "      <td>1.582163e+09</td>\n",
       "      <td>False</td>\n",
       "      <td>True</td>\n",
       "      <td>False</td>\n",
       "      <td>False</td>\n",
       "      <td>False</td>\n",
       "      <td>False</td>\n",
       "      <td>146606</td>\n",
       "      <td>t5_2qh72</td>\n",
       "      <td>r/Jokes</td>\n",
       "      <td>22101145</td>\n",
       "      <td>Sad News: The founder of /r/jokes has passed away</td>\n",
       "      <td>/r/Jokes/comments/f6lii3/sad_news_the_founder_...</td>\n",
       "      <td>200</td>\n",
       "      <td>0</td>\n",
       "      <td>5</td>\n",
       "      <td>1699</td>\n",
       "      <td>9</td>\n",
       "      <td>NaN</td>\n",
       "      <td>146606</td>\n",
       "      <td>error521</td>\n",
       "    </tr>\n",
       "    <tr>\n",
       "      <th>1</th>\n",
       "      <td>1.511295e+09</td>\n",
       "      <td>False</td>\n",
       "      <td>True</td>\n",
       "      <td>False</td>\n",
       "      <td>False</td>\n",
       "      <td>False</td>\n",
       "      <td>False</td>\n",
       "      <td>137607</td>\n",
       "      <td>t5_2qh72</td>\n",
       "      <td>r/Jokes</td>\n",
       "      <td>22101145</td>\n",
       "      <td>Calm down about the Net Neutrality thing...</td>\n",
       "      <td>/r/Jokes/comments/7ekt23/calm_down_about_the_n...</td>\n",
       "      <td>15</td>\n",
       "      <td>0</td>\n",
       "      <td>2</td>\n",
       "      <td>1614</td>\n",
       "      <td>2</td>\n",
       "      <td>NaN</td>\n",
       "      <td>137607</td>\n",
       "      <td>Victorinox2</td>\n",
       "    </tr>\n",
       "    <tr>\n",
       "      <th>2</th>\n",
       "      <td>1.499278e+09</td>\n",
       "      <td>False</td>\n",
       "      <td>True</td>\n",
       "      <td>False</td>\n",
       "      <td>False</td>\n",
       "      <td>False</td>\n",
       "      <td>False</td>\n",
       "      <td>108795</td>\n",
       "      <td>t5_2qh72</td>\n",
       "      <td>r/Jokes</td>\n",
       "      <td>22101145</td>\n",
       "      <td>V</td>\n",
       "      <td>/r/Jokes/comments/6lfqep/v/</td>\n",
       "      <td>29</td>\n",
       "      <td>0</td>\n",
       "      <td>7</td>\n",
       "      <td>1360</td>\n",
       "      <td>1</td>\n",
       "      <td>NaN</td>\n",
       "      <td>108795</td>\n",
       "      <td>MadGo</td>\n",
       "    </tr>\n",
       "    <tr>\n",
       "      <th>3</th>\n",
       "      <td>1.565449e+09</td>\n",
       "      <td>False</td>\n",
       "      <td>True</td>\n",
       "      <td>False</td>\n",
       "      <td>False</td>\n",
       "      <td>False</td>\n",
       "      <td>True</td>\n",
       "      <td>105444</td>\n",
       "      <td>t5_2qh72</td>\n",
       "      <td>r/Jokes</td>\n",
       "      <td>22101145</td>\n",
       "      <td>If your surprised that Jeffrey Epstein commite...</td>\n",
       "      <td>/r/Jokes/comments/coj45m/if_your_surprised_tha...</td>\n",
       "      <td>48</td>\n",
       "      <td>0</td>\n",
       "      <td>11</td>\n",
       "      <td>2418</td>\n",
       "      <td>7</td>\n",
       "      <td>NaN</td>\n",
       "      <td>105444</td>\n",
       "      <td>williseeyoutonight</td>\n",
       "    </tr>\n",
       "    <tr>\n",
       "      <th>4</th>\n",
       "      <td>1.539007e+09</td>\n",
       "      <td>False</td>\n",
       "      <td>True</td>\n",
       "      <td>False</td>\n",
       "      <td>False</td>\n",
       "      <td>False</td>\n",
       "      <td>False</td>\n",
       "      <td>100954</td>\n",
       "      <td>t5_2qh72</td>\n",
       "      <td>r/Jokes</td>\n",
       "      <td>22101145</td>\n",
       "      <td>A new Navy recruit has his first day on the su...</td>\n",
       "      <td>/r/Jokes/comments/9mf1cz/a_new_navy_recruit_ha...</td>\n",
       "      <td>25</td>\n",
       "      <td>0</td>\n",
       "      <td>9</td>\n",
       "      <td>772</td>\n",
       "      <td>6</td>\n",
       "      <td>NaN</td>\n",
       "      <td>100954</td>\n",
       "      <td>Ckarini</td>\n",
       "    </tr>\n",
       "  </tbody>\n",
       "</table>\n",
       "</div>\n",
       "      <button class=\"colab-df-convert\" onclick=\"convertToInteractive('df-afa40ca6-a71f-4cc0-b64a-c63e9852f73b')\"\n",
       "              title=\"Convert this dataframe to an interactive table.\"\n",
       "              style=\"display:none;\">\n",
       "        \n",
       "  <svg xmlns=\"http://www.w3.org/2000/svg\" height=\"24px\"viewBox=\"0 0 24 24\"\n",
       "       width=\"24px\">\n",
       "    <path d=\"M0 0h24v24H0V0z\" fill=\"none\"/>\n",
       "    <path d=\"M18.56 5.44l.94 2.06.94-2.06 2.06-.94-2.06-.94-.94-2.06-.94 2.06-2.06.94zm-11 1L8.5 8.5l.94-2.06 2.06-.94-2.06-.94L8.5 2.5l-.94 2.06-2.06.94zm10 10l.94 2.06.94-2.06 2.06-.94-2.06-.94-.94-2.06-.94 2.06-2.06.94z\"/><path d=\"M17.41 7.96l-1.37-1.37c-.4-.4-.92-.59-1.43-.59-.52 0-1.04.2-1.43.59L10.3 9.45l-7.72 7.72c-.78.78-.78 2.05 0 2.83L4 21.41c.39.39.9.59 1.41.59.51 0 1.02-.2 1.41-.59l7.78-7.78 2.81-2.81c.8-.78.8-2.07 0-2.86zM5.41 20L4 18.59l7.72-7.72 1.47 1.35L5.41 20z\"/>\n",
       "  </svg>\n",
       "      </button>\n",
       "      \n",
       "  <style>\n",
       "    .colab-df-container {\n",
       "      display:flex;\n",
       "      flex-wrap:wrap;\n",
       "      gap: 12px;\n",
       "    }\n",
       "\n",
       "    .colab-df-convert {\n",
       "      background-color: #E8F0FE;\n",
       "      border: none;\n",
       "      border-radius: 50%;\n",
       "      cursor: pointer;\n",
       "      display: none;\n",
       "      fill: #1967D2;\n",
       "      height: 32px;\n",
       "      padding: 0 0 0 0;\n",
       "      width: 32px;\n",
       "    }\n",
       "\n",
       "    .colab-df-convert:hover {\n",
       "      background-color: #E2EBFA;\n",
       "      box-shadow: 0px 1px 2px rgba(60, 64, 67, 0.3), 0px 1px 3px 1px rgba(60, 64, 67, 0.15);\n",
       "      fill: #174EA6;\n",
       "    }\n",
       "\n",
       "    [theme=dark] .colab-df-convert {\n",
       "      background-color: #3B4455;\n",
       "      fill: #D2E3FC;\n",
       "    }\n",
       "\n",
       "    [theme=dark] .colab-df-convert:hover {\n",
       "      background-color: #434B5C;\n",
       "      box-shadow: 0px 1px 3px 1px rgba(0, 0, 0, 0.15);\n",
       "      filter: drop-shadow(0px 1px 2px rgba(0, 0, 0, 0.3));\n",
       "      fill: #FFFFFF;\n",
       "    }\n",
       "  </style>\n",
       "\n",
       "      <script>\n",
       "        const buttonEl =\n",
       "          document.querySelector('#df-afa40ca6-a71f-4cc0-b64a-c63e9852f73b button.colab-df-convert');\n",
       "        buttonEl.style.display =\n",
       "          google.colab.kernel.accessAllowed ? 'block' : 'none';\n",
       "\n",
       "        async function convertToInteractive(key) {\n",
       "          const element = document.querySelector('#df-afa40ca6-a71f-4cc0-b64a-c63e9852f73b');\n",
       "          const dataTable =\n",
       "            await google.colab.kernel.invokeFunction('convertToInteractive',\n",
       "                                                     [key], {});\n",
       "          if (!dataTable) return;\n",
       "\n",
       "          const docLinkHtml = 'Like what you see? Visit the ' +\n",
       "            '<a target=\"_blank\" href=https://colab.research.google.com/notebooks/data_table.ipynb>data table notebook</a>'\n",
       "            + ' to learn more about interactive tables.';\n",
       "          element.innerHTML = '';\n",
       "          dataTable['output_type'] = 'display_data';\n",
       "          await google.colab.output.renderOutput(dataTable, element);\n",
       "          const docLink = document.createElement('div');\n",
       "          docLink.innerHTML = docLinkHtml;\n",
       "          element.appendChild(docLink);\n",
       "        }\n",
       "      </script>\n",
       "    </div>\n",
       "  </div>\n",
       "  "
      ],
      "text/plain": [
       "    created_utc  is_crosspostable  ...     ups         author_name\n",
       "0  1.582163e+09             False  ...  146606            error521\n",
       "1  1.511295e+09             False  ...  137607         Victorinox2\n",
       "2  1.499278e+09             False  ...  108795               MadGo\n",
       "3  1.565449e+09             False  ...  105444  williseeyoutonight\n",
       "4  1.539007e+09             False  ...  100954             Ckarini\n",
       "\n",
       "[5 rows x 21 columns]"
      ]
     },
     "execution_count": 13,
     "metadata": {},
     "output_type": "execute_result"
    }
   ],
   "source": [
    "part2_data = pd.read_csv(\"part2_data.csv\")\n",
    "part2_data.head()"
   ]
  },
  {
   "cell_type": "code",
   "execution_count": null,
   "metadata": {
    "id": "7OyatbcvafBs"
   },
   "outputs": [],
   "source": []
  },
  {
   "cell_type": "code",
   "execution_count": null,
   "metadata": {
    "colab": {
     "base_uri": "https://localhost:8080/",
     "height": 348
    },
    "id": "kJiM-iZSZch8",
    "outputId": "17214d22-d023-4c10-902a-b45eff18f431"
   },
   "outputs": [
    {
     "ename": "MessageError",
     "evalue": "ignored",
     "output_type": "error",
     "traceback": [
      "\u001b[0;31m---------------------------------------------------------------------------\u001b[0m",
      "\u001b[0;31mMessageError\u001b[0m                              Traceback (most recent call last)",
      "\u001b[0;32m<ipython-input-14-d5df0069828e>\u001b[0m in \u001b[0;36m<module>\u001b[0;34m()\u001b[0m\n\u001b[1;32m      1\u001b[0m \u001b[0;32mfrom\u001b[0m \u001b[0mgoogle\u001b[0m\u001b[0;34m.\u001b[0m\u001b[0mcolab\u001b[0m \u001b[0;32mimport\u001b[0m \u001b[0mdrive\u001b[0m\u001b[0;34m\u001b[0m\u001b[0;34m\u001b[0m\u001b[0m\n\u001b[0;32m----> 2\u001b[0;31m \u001b[0mdrive\u001b[0m\u001b[0;34m.\u001b[0m\u001b[0mmount\u001b[0m\u001b[0;34m(\u001b[0m\u001b[0;34m'/content/drive'\u001b[0m\u001b[0;34m)\u001b[0m\u001b[0;34m\u001b[0m\u001b[0;34m\u001b[0m\u001b[0m\n\u001b[0m",
      "\u001b[0;32m/usr/local/lib/python3.7/dist-packages/google/colab/drive.py\u001b[0m in \u001b[0;36mmount\u001b[0;34m(mountpoint, force_remount, timeout_ms, use_metadata_server)\u001b[0m\n\u001b[1;32m    113\u001b[0m       \u001b[0mforce_remount\u001b[0m\u001b[0;34m=\u001b[0m\u001b[0mforce_remount\u001b[0m\u001b[0;34m,\u001b[0m\u001b[0;34m\u001b[0m\u001b[0;34m\u001b[0m\u001b[0m\n\u001b[1;32m    114\u001b[0m       \u001b[0mtimeout_ms\u001b[0m\u001b[0;34m=\u001b[0m\u001b[0mtimeout_ms\u001b[0m\u001b[0;34m,\u001b[0m\u001b[0;34m\u001b[0m\u001b[0;34m\u001b[0m\u001b[0m\n\u001b[0;32m--> 115\u001b[0;31m       ephemeral=True)\n\u001b[0m\u001b[1;32m    116\u001b[0m \u001b[0;34m\u001b[0m\u001b[0m\n\u001b[1;32m    117\u001b[0m \u001b[0;34m\u001b[0m\u001b[0m\n",
      "\u001b[0;32m/usr/local/lib/python3.7/dist-packages/google/colab/drive.py\u001b[0m in \u001b[0;36m_mount\u001b[0;34m(mountpoint, force_remount, timeout_ms, use_metadata_server, ephemeral)\u001b[0m\n\u001b[1;32m    133\u001b[0m   \u001b[0;32mif\u001b[0m \u001b[0mephemeral\u001b[0m\u001b[0;34m:\u001b[0m\u001b[0;34m\u001b[0m\u001b[0;34m\u001b[0m\u001b[0m\n\u001b[1;32m    134\u001b[0m     _message.blocking_request(\n\u001b[0;32m--> 135\u001b[0;31m         'request_auth', request={'authType': 'dfs_ephemeral'}, timeout_sec=None)\n\u001b[0m\u001b[1;32m    136\u001b[0m \u001b[0;34m\u001b[0m\u001b[0m\n\u001b[1;32m    137\u001b[0m   \u001b[0mmountpoint\u001b[0m \u001b[0;34m=\u001b[0m \u001b[0m_os\u001b[0m\u001b[0;34m.\u001b[0m\u001b[0mpath\u001b[0m\u001b[0;34m.\u001b[0m\u001b[0mexpanduser\u001b[0m\u001b[0;34m(\u001b[0m\u001b[0mmountpoint\u001b[0m\u001b[0;34m)\u001b[0m\u001b[0;34m\u001b[0m\u001b[0;34m\u001b[0m\u001b[0m\n",
      "\u001b[0;32m/usr/local/lib/python3.7/dist-packages/google/colab/_message.py\u001b[0m in \u001b[0;36mblocking_request\u001b[0;34m(request_type, request, timeout_sec, parent)\u001b[0m\n\u001b[1;32m    173\u001b[0m   request_id = send_request(\n\u001b[1;32m    174\u001b[0m       request_type, request, parent=parent, expect_reply=True)\n\u001b[0;32m--> 175\u001b[0;31m   \u001b[0;32mreturn\u001b[0m \u001b[0mread_reply_from_input\u001b[0m\u001b[0;34m(\u001b[0m\u001b[0mrequest_id\u001b[0m\u001b[0;34m,\u001b[0m \u001b[0mtimeout_sec\u001b[0m\u001b[0;34m)\u001b[0m\u001b[0;34m\u001b[0m\u001b[0;34m\u001b[0m\u001b[0m\n\u001b[0m",
      "\u001b[0;32m/usr/local/lib/python3.7/dist-packages/google/colab/_message.py\u001b[0m in \u001b[0;36mread_reply_from_input\u001b[0;34m(message_id, timeout_sec)\u001b[0m\n\u001b[1;32m    104\u001b[0m         reply.get('colab_msg_id') == message_id):\n\u001b[1;32m    105\u001b[0m       \u001b[0;32mif\u001b[0m \u001b[0;34m'error'\u001b[0m \u001b[0;32min\u001b[0m \u001b[0mreply\u001b[0m\u001b[0;34m:\u001b[0m\u001b[0;34m\u001b[0m\u001b[0;34m\u001b[0m\u001b[0m\n\u001b[0;32m--> 106\u001b[0;31m         \u001b[0;32mraise\u001b[0m \u001b[0mMessageError\u001b[0m\u001b[0;34m(\u001b[0m\u001b[0mreply\u001b[0m\u001b[0;34m[\u001b[0m\u001b[0;34m'error'\u001b[0m\u001b[0;34m]\u001b[0m\u001b[0;34m)\u001b[0m\u001b[0;34m\u001b[0m\u001b[0;34m\u001b[0m\u001b[0m\n\u001b[0m\u001b[1;32m    107\u001b[0m       \u001b[0;32mreturn\u001b[0m \u001b[0mreply\u001b[0m\u001b[0;34m.\u001b[0m\u001b[0mget\u001b[0m\u001b[0;34m(\u001b[0m\u001b[0;34m'data'\u001b[0m\u001b[0;34m,\u001b[0m \u001b[0;32mNone\u001b[0m\u001b[0;34m)\u001b[0m\u001b[0;34m\u001b[0m\u001b[0;34m\u001b[0m\u001b[0m\n\u001b[1;32m    108\u001b[0m \u001b[0;34m\u001b[0m\u001b[0m\n",
      "\u001b[0;31mMessageError\u001b[0m: Error: credential propagation was unsuccessful"
     ]
    }
   ],
   "source": [
    "from google.colab import drive\n",
    "drive.mount('/content/drive')"
   ]
  },
  {
   "cell_type": "markdown",
   "metadata": {
    "id": "zT_5Fdv0E7Un"
   },
   "source": [
    "## Part 2.1 - Quick Descriptive Analyses\n",
    "\n",
    "Answers to each of the questions below should be provided in your written report. Additionally, we expect code to be written below that shows how you obtained answers to each of these questions. We will spot-check several of these. **Note, each of these can be answered using *only pandas*. \n",
    "\n",
    "\n",
    "### Univariate descriptive analyses\n",
    "- **2.1.1** What are the names (```subreddit_name_prefixed```) of the 25 different subreddits that are in ```part2_data.csv```?\n",
    "- **2.1.2** How many reddit authors (```author_name```) have a post in more than one unique subreddit in ```part2_data.csv``` (e.g. they have a top post in both ```r/news``` and ```r/hockey```)?\n",
    "- **2.1.3** What is the mean number of upvotes (```ups```) for posts in ```r/Jokes```?\n",
    "- **2.1.4** What is the variance of the number of upvotes in ```r/news```?\n",
    "- **2.1.5** What is the standard deviation of the number of upvotes received across the entire dataset? \n",
    "- **2.1.6** (No code for this) Mathematically, what is the relationship between the standard deviation of the number of upvotes and the variance of upvotes?\n",
    "- **2.1.7** Which subreddit had the third highest median number of upvotes?\n",
    "\n",
    "### Conditional probability\n",
    "- **2.1.8** What is the conditional probability of an author having a top post in ```r/news```, given that they have a top post in ```r/worldnews```?\n"
   ]
  },
  {
   "cell_type": "code",
   "execution_count": null,
   "metadata": {
    "id": "RApwHwUQTCPQ"
   },
   "outputs": [],
   "source": []
  },
  {
   "cell_type": "code",
   "execution_count": null,
   "metadata": {
    "colab": {
     "base_uri": "https://localhost:8080/"
    },
    "id": "KY8_BuolE7Un",
    "outputId": "1aa63d87-7468-4248-cc47-1f299a0881ab"
   },
   "outputs": [
    {
     "data": {
      "text/plain": [
       "array(['r/Jokes', 'r/news', 'r/science', 'r/WritingPrompts',\n",
       "       'r/Showerthoughts', 'r/worldnews', 'r/todayilearned',\n",
       "       'r/learnprogramming', 'r/announcements', 'r/funny', 'r/food',\n",
       "       'r/sports', 'r/gadgets', 'r/aww', 'r/mildlyinteresting', 'r/memes',\n",
       "       'r/technology', 'r/travel', 'r/books', 'r/gaming', 'r/cats',\n",
       "       'r/conspiracy', 'r/PoliticalHumor', 'r/hockey'], dtype=object)"
      ]
     },
     "execution_count": 15,
     "metadata": {},
     "output_type": "execute_result"
    }
   ],
   "source": [
    "# from numpy.ma.extras import unique\n",
    "# Put your code for 2.1.1 here\n",
    "part2_data.subreddit_name_prefixed.unique()\n",
    "# print(unique(part2_data.subreddit_name_prefixed))"
   ]
  },
  {
   "cell_type": "code",
   "execution_count": null,
   "metadata": {
    "colab": {
     "base_uri": "https://localhost:8080/"
    },
    "id": "NyTYEE5YE7Uo",
    "outputId": "fc256c98-a58d-47b8-ecd6-905b30bb0bba"
   },
   "outputs": [
    {
     "data": {
      "text/plain": [
       "569"
      ]
     },
     "execution_count": 16,
     "metadata": {},
     "output_type": "execute_result"
    }
   ],
   "source": [
    "# Put your code for 2.1.2 here\n",
    "\n",
    "authcounts = part2_data.groupby('author_name').subreddit_name_prefixed.nunique()\n",
    "len(authcounts[authcounts>1])\n",
    "\n",
    "# sub_data = ps.sqldf(\"SELECT DISTINCT P.author_name FROM part2_data P, part2_data P1 where (P.subreddit_name_prefixed <> P1.subreddit_name_prefixed) and (P.author_name = P1.author_name);\", globals())\n",
    "# print(sub_data)"
   ]
  },
  {
   "cell_type": "code",
   "execution_count": null,
   "metadata": {
    "colab": {
     "base_uri": "https://localhost:8080/"
    },
    "id": "rihiEUMVE7Up",
    "outputId": "3ef569ba-0173-4589-91a6-43c1018e2876"
   },
   "outputs": [
    {
     "data": {
      "text/plain": [
       "41057.7813440321"
      ]
     },
     "execution_count": 17,
     "metadata": {},
     "output_type": "execute_result"
    }
   ],
   "source": [
    "# Put your code for 2.1.3 here\n",
    "\n",
    "part2_data[part2_data.subreddit_name_prefixed == 'r/Jokes']['ups'].mean()\n",
    "\n",
    "# query = \"\"\"select * from part2_data where subreddit_name_prefixed = 'r/Jokes'\"\"\"\n",
    "# df = ps.sqldf(query, locals())\n",
    "# print(np.mean(df.ups))"
   ]
  },
  {
   "cell_type": "code",
   "execution_count": null,
   "metadata": {
    "colab": {
     "base_uri": "https://localhost:8080/"
    },
    "id": "ekoNb34fE7Up",
    "outputId": "f812048c-cd7c-4d6b-b529-c987be368b66"
   },
   "outputs": [
    {
     "data": {
      "text/plain": [
       "600707867.6203133"
      ]
     },
     "execution_count": 18,
     "metadata": {},
     "output_type": "execute_result"
    }
   ],
   "source": [
    "# Put your code for 2.1.4 here\n",
    "part2_data[part2_data.subreddit_name_prefixed == 'r/news']['ups'].var()\n",
    "# query = \"\"\"select * from part2_data where subreddit_name_prefixed = 'r/news'\"\"\"\n",
    "# df = ps.sqldf(query, locals())\n",
    "# print(np.var(df.ups))"
   ]
  },
  {
   "cell_type": "code",
   "execution_count": null,
   "metadata": {
    "colab": {
     "base_uri": "https://localhost:8080/"
    },
    "id": "MFbbzo5AE7Uq",
    "outputId": "399f09df-e829-4e80-e25f-7ad8817b6034"
   },
   "outputs": [
    {
     "name": "stdout",
     "output_type": "stream",
     "text": [
      "43101.54614748169\n"
     ]
    }
   ],
   "source": [
    "# Put your code for 2.1.5 here\n",
    "print(np.std(part2_data.ups))"
   ]
  },
  {
   "cell_type": "code",
   "execution_count": null,
   "metadata": {
    "id": "jufb4qHPE7Uq"
   },
   "outputs": [],
   "source": [
    "# Put your code for 2.1.6 here\n",
    "# (No code for this) Mathematically, what is the relationship between the standard deviation of the number of upvotes and the variance of upvotes?\n"
   ]
  },
  {
   "cell_type": "code",
   "execution_count": null,
   "metadata": {
    "colab": {
     "base_uri": "https://localhost:8080/",
     "height": 35
    },
    "id": "WgPVF3VHE7Uq",
    "outputId": "4680d68b-1665-41df-c6dd-60ee1da66179"
   },
   "outputs": [
    {
     "data": {
      "application/vnd.google.colaboratory.intrinsic+json": {
       "type": "string"
      },
      "text/plain": [
       "'r/aww'"
      ]
     },
     "execution_count": 21,
     "metadata": {},
     "output_type": "execute_result"
    }
   ],
   "source": [
    "# Put your code for 2.1.7 here\n",
    "part2_data.groupby('subreddit_name_prefixed').ups.median().sort_values(ascending = False).index[2]"
   ]
  },
  {
   "cell_type": "markdown",
   "metadata": {
    "id": "t_0RGcxQE7Uq"
   },
   "source": [
    "## Part 2.2 - Plotting and the like\n",
    "Where we have asked you to create a plot below, make sure to provide the resulting plot in your written report.  \n",
    "\n",
    "**You are free to use whatever plotting software you wish! Although I personally think [seaborn](https://seaborn.pydata.org/), [plotly](https://plotly.com/python), or [altair](https://altair-viz.github.io/) will make these the easiest, the lecture notes also have examples using matplotlib.**\n"
   ]
  },
  {
   "cell_type": "markdown",
   "metadata": {
    "id": "Inyymj1zE7Ur"
   },
   "source": [
    "### Part 2.1 - Histograms\n",
    "\n",
    "Plot a histogram for the distribution of upvotes for each subreddit separately (*hint: you will want to use \"faceting\" to make this easy on yourself*). **All plot titles and axis labels should be legible in the PDF you submit**.\n",
    "\n",
    "- **2.2.1** - Submit your histogram image in your assignment\n",
    "- **2.2.2** - Based on your histogram, which subreddit would you say is the *least* popular? (Note, there is more than one reasonable answer here. We are looking mostly for how you justify your response using the histogram)\n"
   ]
  },
  {
   "cell_type": "code",
   "execution_count": null,
   "metadata": {
    "colab": {
     "base_uri": "https://localhost:8080/",
     "height": 264
    },
    "id": "z_Ec15kxE7Ur",
    "outputId": "cb357007-3c74-41a7-be8c-95319bc2512b"
   },
   "outputs": [
    {
     "ename": "NameError",
     "evalue": "ignored",
     "output_type": "error",
     "traceback": [
      "\u001b[0;31m---------------------------------------------------------------------------\u001b[0m",
      "\u001b[0;31mNameError\u001b[0m                                 Traceback (most recent call last)",
      "\u001b[0;32m<ipython-input-10-601eb232c16f>\u001b[0m in \u001b[0;36m<module>\u001b[0;34m()\u001b[0m\n\u001b[1;32m      6\u001b[0m \u001b[0msns\u001b[0m\u001b[0;34m.\u001b[0m\u001b[0mset_theme\u001b[0m\u001b[0;34m(\u001b[0m\u001b[0mstyle\u001b[0m\u001b[0;34m=\u001b[0m\u001b[0;34m\"darkgrid\"\u001b[0m\u001b[0;34m)\u001b[0m\u001b[0;34m\u001b[0m\u001b[0;34m\u001b[0m\u001b[0m\n\u001b[1;32m      7\u001b[0m \u001b[0;34m\u001b[0m\u001b[0m\n\u001b[0;32m----> 8\u001b[0;31m \u001b[0mfig\u001b[0m \u001b[0;34m=\u001b[0m \u001b[0msns\u001b[0m\u001b[0;34m.\u001b[0m\u001b[0mFacetGrid\u001b[0m\u001b[0;34m(\u001b[0m \u001b[0mpart2_data\u001b[0m\u001b[0;34m[\u001b[0m\u001b[0;34m[\u001b[0m\u001b[0;34m\"ups\"\u001b[0m\u001b[0;34m,\u001b[0m \u001b[0;34m\"subreddit_name_prefixed\"\u001b[0m \u001b[0;34m]\u001b[0m\u001b[0;34m]\u001b[0m\u001b[0;34m,\u001b[0m \u001b[0mcol\u001b[0m\u001b[0;34m=\u001b[0m\u001b[0;34m\"subreddit_name_prefixed\"\u001b[0m\u001b[0;34m,\u001b[0m \u001b[0mcol_wrap\u001b[0m\u001b[0;34m=\u001b[0m\u001b[0;36m4\u001b[0m\u001b[0;34m,\u001b[0m \u001b[0mheight\u001b[0m\u001b[0;34m=\u001b[0m \u001b[0;36m2\u001b[0m\u001b[0;34m,\u001b[0m \u001b[0maspect\u001b[0m \u001b[0;34m=\u001b[0m \u001b[0;36m2\u001b[0m\u001b[0;34m)\u001b[0m\u001b[0;34m\u001b[0m\u001b[0;34m\u001b[0m\u001b[0m\n\u001b[0m\u001b[1;32m      9\u001b[0m \u001b[0;34m\u001b[0m\u001b[0m\n\u001b[1;32m     10\u001b[0m \u001b[0mfig\u001b[0m\u001b[0;34m.\u001b[0m\u001b[0mmap\u001b[0m\u001b[0;34m(\u001b[0m\u001b[0msns\u001b[0m\u001b[0;34m.\u001b[0m\u001b[0mhistplot\u001b[0m\u001b[0;34m,\u001b[0m \u001b[0;34m'ups'\u001b[0m\u001b[0;34m)\u001b[0m\u001b[0;34m\u001b[0m\u001b[0;34m\u001b[0m\u001b[0m\n",
      "\u001b[0;31mNameError\u001b[0m: name 'part2_data' is not defined"
     ]
    }
   ],
   "source": [
    "# Code for 2.2.1 here\n",
    "# Nabeel\n",
    "\n",
    "import seaborn as sns\n",
    "# import matplotlib.pyplot as plt\n",
    "sns.set_theme(style=\"darkgrid\")\n",
    "\n",
    "fig = sns.FacetGrid( part2_data[[\"ups\", \"subreddit_name_prefixed\" ]], col=\"subreddit_name_prefixed\", col_wrap=4, height= 2, aspect = 2)\n",
    "\n",
    "fig.map(sns.histplot, 'ups')\n",
    "\n",
    "# sns.displot(\n",
    "#     part2_data, x=\"ups\", col=\"subreddit_name_prefixed\"\n",
    "# )"
   ]
  },
  {
   "cell_type": "markdown",
   "metadata": {
    "id": "9GJ464vKE7Ur"
   },
   "source": [
    "### Ploting and using the empirical CDF\n",
    "\n",
    "The *[empirical cumulative distribution function (eCDF)](https://en.wikipedia.org/wiki/Empirical_distribution_function)* is an empirical estimator for the CDF of a random variable. Below we have plotted for you (using ```plotly```) the eCDFs of the distribution of upvotes for three different subreddits. Using the plots below, answer the following questions:\n",
    "\n",
    "**Note, you can use your mouse to scroll over the information in the plot, that will make answering these questions much easier!**\n",
    "\n",
    "- **2.2.3** - **Approximately (within 1-2 percentage points)** what percent of top posts for each of the three subreddits plotted below have less than 100,000 upvotes? (Give answers for each subreddit)\n",
    "- **2.2.4** - **Approximately (within 1-2 percentage points)** what is the probability that a post on each of the three subreddits plotted below has more than 70,000 upvotes? (Give answers for each subreddit)"
   ]
  },
  {
   "cell_type": "code",
   "execution_count": null,
   "metadata": {
    "colab": {
     "base_uri": "https://localhost:8080/",
     "height": 417
    },
    "id": "VXAnLJMiE7Ur",
    "outputId": "8eb3c572-af72-4d0c-a87b-38707dee7286"
   },
   "outputs": [
    {
     "data": {
      "text/html": [
       "<html>\n",
       "<head><meta charset=\"utf-8\" /></head>\n",
       "<body>\n",
       "    <div>            <script src=\"https://cdnjs.cloudflare.com/ajax/libs/mathjax/2.7.5/MathJax.js?config=TeX-AMS-MML_SVG\"></script><script type=\"text/javascript\">if (window.MathJax) {MathJax.Hub.Config({SVG: {font: \"STIX-Web\"}});}</script>                <script type=\"text/javascript\">window.PlotlyConfig = {MathJaxConfig: 'local'};</script>\n",
       "        <script src=\"https://cdn.plot.ly/plotly-2.8.3.min.js\"></script>                <div id=\"bd18a310-a0a8-4a59-b43d-8b770a04ecee\" class=\"plotly-graph-div\" style=\"height:400px; width:800px;\"></div>            <script type=\"text/javascript\">                                    window.PLOTLYENV=window.PLOTLYENV || {};                                    if (document.getElementById(\"bd18a310-a0a8-4a59-b43d-8b770a04ecee\")) {                    Plotly.newPlot(                        \"bd18a310-a0a8-4a59-b43d-8b770a04ecee\",                        [{\"hovertemplate\":\"subreddit_name_prefixed=r/news<br>ups=%{x}<br>probability=%{y}<extra></extra>\",\"legendgroup\":\"\",\"line\":{\"dash\":\"solid\",\"shape\":\"hv\"},\"marker\":{\"color\":\"#636efa\",\"symbol\":\"circle\"},\"mode\":\"lines\",\"name\":\"\",\"showlegend\":false,\"x\":[64000,64008,64011,64012,64038,64043,64058,64096,64124,64158,64192,64202,64203,64221,64253,64273,64308,64315,64319,64368,64426,64463,64464,64467,64481,64483,64556,64571,64658,64671,64705,64708,64719,64748,64754,64765,64794,64814,64836,64924,64924,64949,64961,64968,65051,65090,65132,65149,65170,65174,65199,65209,65221,65279,65297,65313,65354,65365,65376,65382,65392,65419,65445,65449,65450,65582,65599,65605,65630,65637,65639,65648,65664,65665,65681,65681,65686,65786,65789,65815,65837,65859,65910,65911,65915,65940,65991,65994,66019,66053,66070,66137,66197,66212,66241,66247,66252,66268,66283,66309,66313,66321,66325,66383,66407,66457,66460,66486,66489,66506,66506,66537,66544,66602,66661,66663,66678,66787,66799,66813,66829,66834,66870,66884,66963,66986,66993,67036,67046,67052,67067,67114,67118,67128,67134,67182,67225,67230,67247,67267,67269,67349,67457,67489,67508,67512,67552,67602,67607,67619,67626,67634,67657,67672,67719,67749,67760,67761,67793,67803,67824,67824,67829,67858,67861,67877,67881,67892,67963,67964,67966,67973,67976,67978,67983,67988,67994,68021,68092,68109,68125,68137,68141,68145,68174,68177,68195,68233,68245,68251,68266,68273,68274,68294,68309,68356,68364,68391,68398,68418,68419,68424,68429,68442,68446,68494,68500,68520,68604,68608,68620,68655,68689,68841,68845,68905,68942,68946,68955,68965,68991,69008,69063,69068,69095,69122,69169,69189,69191,69195,69226,69233,69288,69301,69315,69315,69327,69342,69372,69381,69408,69410,69418,69430,69437,69439,69497,69523,69546,69562,69580,69593,69609,69617,69637,69669,69689,69730,69745,69804,69840,69853,69855,69873,69894,70008,70015,70024,70028,70043,70045,70062,70064,70102,70134,70148,70156,70162,70176,70271,70279,70328,70388,70421,70488,70550,70558,70632,70640,70651,70729,70772,70780,70815,70819,70922,70923,70957,70957,70968,70979,70993,71030,71071,71143,71148,71159,71223,71262,71324,71330,71337,71362,71374,71391,71431,71454,71537,71538,71563,71604,71608,71635,71657,71687,71691,71749,71798,71812,71819,71826,71874,71880,72071,72071,72080,72083,72094,72124,72125,72139,72143,72197,72201,72242,72296,72379,72417,72428,72432,72445,72500,72515,72554,72575,72575,72593,72601,72604,72614,72614,72615,72622,72622,72624,72629,72672,72684,72733,72737,72770,72772,72788,72792,72801,72805,72841,72918,72995,72997,73047,73077,73090,73102,73143,73180,73372,73395,73406,73446,73451,73491,73562,73581,73593,73594,73611,73632,73712,73714,73744,73772,73807,73868,73966,73973,73989,74020,74037,74039,74044,74049,74114,74121,74147,74155,74162,74201,74241,74266,74354,74394,74440,74448,74459,74515,74543,74615,74616,74720,74724,74748,74770,74782,74849,74854,74898,74965,74965,74968,75061,75088,75136,75180,75183,75187,75190,75191,75319,75414,75440,75457,75484,75487,75514,75559,75635,75669,75759,75785,75809,75853,75855,75890,75910,76051,76190,76205,76369,76404,76412,76506,76554,76616,76646,76666,76697,76713,76738,76775,76779,76788,76823,76829,76904,76904,76956,77048,77111,77186,77205,77231,77256,77275,77322,77406,77412,77423,77434,77436,77457,77463,77509,77529,77554,77595,77606,77647,77699,77721,77738,77864,77899,77933,77951,77954,77968,77975,77975,77992,78022,78032,78213,78236,78279,78324,78349,78398,78441,78503,78525,78564,78603,78637,78659,78703,78724,78741,78829,78961,78992,79023,79026,79050,79066,79083,79117,79165,79310,79331,79363,79410,79413,79437,79480,79596,79646,79650,79752,79783,79823,79828,79955,80005,80135,80185,80194,80217,80231,80369,80395,80405,80418,80543,80574,80607,80620,80635,80730,80813,80819,80837,80876,80895,80945,80964,80985,81004,81007,81014,81088,81148,81252,81265,81309,81340,81387,81402,81411,81476,81481,81500,81555,81561,81607,81633,81677,81705,81719,81729,81817,81841,81893,81933,82071,82076,82121,82135,82160,82235,82302,82326,82457,82483,82526,82552,82633,82672,82677,82687,82709,82717,82725,82741,82835,82840,82859,82945,83058,83092,83255,83286,83312,83323,83365,83381,83420,83608,83685,83710,83811,83853,83862,83869,83912,84031,84106,84185,84270,84288,84372,84474,84485,84504,84511,84527,84640,84851,84879,84891,85071,85102,85218,85253,85293,85309,85317,85367,85400,85413,85438,85624,85812,85848,85910,86160,86169,86171,86299,86388,86483,86499,86590,86643,86733,86740,86788,86850,86908,86979,87020,87038,87148,87176,87180,87286,87372,87495,87521,87541,87686,87697,87729,87779,87886,87912,87923,87941,88177,88194,88302,88509,88595,88636,88664,88857,88955,89021,89098,89212,89374,89604,89614,89695,89833,89840,89862,90085,90334,90429,90459,90492,90660,90666,90808,90811,90839,90887,90942,90987,90999,91011,91103,91147,91168,91380,91465,91479,91481,91482,91541,91610,91689,91780,91835,91975,92108,92182,92214,92230,92266,92438,92535,92736,92915,92919,93000,93263,93432,93584,93655,93727,93752,93784,93957,94037,94159,94174,94264,94384,94398,94489,94490,94706,94732,94770,94948,94963,95012,95277,95282,95448,95564,95572,95660,95763,95946,96010,96141,96467,96618,96893,97025,97056,97100,97106,97448,97505,97604,97811,97957,98000,98156,98167,98170,98336,99003,99009,99083,99096,99272,99278,99285,99620,99674,99835,100089,100252,100270,100906,101009,101142,101392,101540,101594,101674,101805,101852,102159,102160,102357,102631,102971,103058,103113,103242,103383,103920,104196,104225,104822,104939,104986,105236,105783,105871,106108,106547,106853,107248,107306,107570,107603,107663,107672,107847,107913,108120,108188,108221,108285,108365,108715,108716,109036,109191,109371,109637,109888,110064,110420,110658,111597,111610,111812,111997,112004,112056,112075,112341,112920,113319,114228,114258,114570,114806,114820,114959,115107,115227,115735,116269,116512,116526,116623,116773,116874,117452,117467,117869,118442,118493,118559,119144,119222,119447,119476,119480,119849,119852,119971,120210,120279,120499,121229,121530,121851,121996,122058,123002,123163,123737,123962,124448,124885,126710,127179,128386,128936,129151,129845,131234,131435,133380,133969,135921,136600,137800,137989,140277,140604,141051,141339,143111,144175,146888,147344,149748,149912,149933,152238,154083,154266,154796,155780,157567,161566,161758,165201,170196,171080,171106,175651,176883,177997,186247,188173,200822,213679,222636,226325,233323,250271,365116],\"xaxis\":\"x\",\"y\":[0.001006036217303823,0.002012072434607646,0.0030181086519114686,0.004024144869215292,0.005030181086519115,0.006036217303822937,0.007042253521126761,0.008048289738430584,0.009054325955734407,0.01006036217303823,0.011066398390342052,0.012072434607645875,0.013078470824949699,0.014084507042253521,0.015090543259557344,0.01609657947686117,0.01710261569416499,0.018108651911468814,0.019114688128772636,0.02012072434607646,0.02112676056338028,0.022132796780684104,0.023138832997987926,0.02414486921529175,0.025150905432595575,0.026156941649899398,0.02716297786720322,0.028169014084507043,0.029175050301810865,0.030181086519114688,0.03118712273641851,0.03219315895372234,0.03319919517102616,0.03420523138832998,0.035211267605633804,0.03621730382293763,0.03722334004024145,0.03822937625754527,0.039235412474849095,0.04024144869215292,0.04124748490945674,0.04225352112676056,0.043259557344064385,0.04426559356136821,0.04527162977867203,0.04627766599597585,0.047283702213279676,0.0482897384305835,0.04929577464788732,0.05030181086519115,0.05130784708249497,0.052313883299798795,0.05331991951710262,0.05432595573440644,0.05533199195171026,0.056338028169014086,0.05734406438631791,0.05835010060362173,0.059356136820925554,0.060362173038229376,0.0613682092555332,0.06237424547283702,0.06338028169014084,0.06438631790744467,0.06539235412474849,0.06639839034205232,0.06740442655935613,0.06841046277665996,0.06941649899396378,0.07042253521126761,0.07142857142857142,0.07243460764587525,0.07344064386317907,0.0744466800804829,0.07545271629778671,0.07645875251509054,0.07746478873239436,0.07847082494969819,0.079476861167002,0.08048289738430583,0.08148893360160966,0.08249496981891348,0.08350100603621731,0.08450704225352113,0.08551307847082495,0.08651911468812877,0.0875251509054326,0.08853118712273642,0.08953722334004025,0.09054325955734406,0.09154929577464789,0.0925553319919517,0.09356136820925554,0.09456740442655935,0.09557344064386318,0.096579476861167,0.09758551307847083,0.09859154929577464,0.09959758551307847,0.1006036217303823,0.10160965794768612,0.10261569416498995,0.10362173038229376,0.10462776659959759,0.1056338028169014,0.10663983903420524,0.10764587525150905,0.10865191146881288,0.1096579476861167,0.11066398390342053,0.11167002012072434,0.11267605633802817,0.11368209255533199,0.11468812877263582,0.11569416498993963,0.11670020120724346,0.11770623742454728,0.11871227364185111,0.11971830985915492,0.12072434607645875,0.12173038229376258,0.1227364185110664,0.12374245472837023,0.12474849094567404,0.12575452716297786,0.1267605633802817,0.12776659959758552,0.12877263581488935,0.12977867203219315,0.13078470824949698,0.1317907444668008,0.13279678068410464,0.13380281690140844,0.13480885311871227,0.1358148893360161,0.13682092555331993,0.13782696177062373,0.13883299798792756,0.1398390342052314,0.14084507042253522,0.14185110663983905,0.14285714285714285,0.14386317907444668,0.1448692152917505,0.14587525150905434,0.14688128772635814,0.14788732394366197,0.1488933601609658,0.14989939637826963,0.15090543259557343,0.15191146881287726,0.1529175050301811,0.15392354124748492,0.15492957746478872,0.15593561368209255,0.15694164989939638,0.1579476861167002,0.158953722334004,0.15995975855130784,0.16096579476861167,0.1619718309859155,0.16297786720321933,0.16398390342052313,0.16498993963782696,0.1659959758551308,0.16700201207243462,0.16800804828973842,0.16901408450704225,0.17002012072434608,0.1710261569416499,0.1720321931589537,0.17303822937625754,0.17404426559356137,0.1750503018108652,0.176056338028169,0.17706237424547283,0.17806841046277666,0.1790744466800805,0.18008048289738432,0.18108651911468812,0.18209255533199195,0.18309859154929578,0.1841046277665996,0.1851106639839034,0.18611670020120724,0.18712273641851107,0.1881287726358149,0.1891348088531187,0.19014084507042253,0.19114688128772636,0.1921529175050302,0.193158953722334,0.19416498993963782,0.19517102615694165,0.19617706237424548,0.19718309859154928,0.1981891348088531,0.19919517102615694,0.20020120724346077,0.2012072434607646,0.2022132796780684,0.20321931589537223,0.20422535211267606,0.2052313883299799,0.2062374245472837,0.20724346076458752,0.20824949698189135,0.20925553319919518,0.21026156941649898,0.2112676056338028,0.21227364185110664,0.21327967806841047,0.21428571428571427,0.2152917505030181,0.21629778672032193,0.21730382293762576,0.21830985915492956,0.2193158953722334,0.22032193158953722,0.22132796780684105,0.22233400402414488,0.22334004024144868,0.2243460764587525,0.22535211267605634,0.22635814889336017,0.22736418511066397,0.2283702213279678,0.22937625754527163,0.23038229376257546,0.23138832997987926,0.2323943661971831,0.23340040241448692,0.23440643863179075,0.23541247484909456,0.23641851106639838,0.23742454728370221,0.23843058350100604,0.23943661971830985,0.24044265593561368,0.2414486921529175,0.24245472837022133,0.24346076458752516,0.24446680080482897,0.2454728370221328,0.24647887323943662,0.24748490945674045,0.24849094567404426,0.24949698189134809,0.2505030181086519,0.2515090543259557,0.25251509054325955,0.2535211267605634,0.2545271629778672,0.25553319919517103,0.25653923541247486,0.2575452716297787,0.25855130784708247,0.2595573440643863,0.2605633802816901,0.26156941649899396,0.2625754527162978,0.2635814889336016,0.26458752515090544,0.2655935613682093,0.2665995975855131,0.2676056338028169,0.2686116700201207,0.26961770623742454,0.27062374245472837,0.2716297786720322,0.272635814889336,0.27364185110663986,0.2746478873239437,0.27565392354124746,0.2766599597585513,0.2776659959758551,0.27867203219315895,0.2796780684104628,0.2806841046277666,0.28169014084507044,0.28269617706237427,0.2837022132796781,0.28470824949698187,0.2857142857142857,0.28672032193158953,0.28772635814889336,0.2887323943661972,0.289738430583501,0.29074446680080485,0.2917505030181087,0.29275653923541245,0.2937625754527163,0.2947686116700201,0.29577464788732394,0.29678068410462777,0.2977867203219316,0.2987927565392354,0.29979879275653926,0.3008048289738431,0.30181086519114686,0.3028169014084507,0.3038229376257545,0.30482897384305835,0.3058350100603622,0.306841046277666,0.30784708249496984,0.30885311871227367,0.30985915492957744,0.31086519114688127,0.3118712273641851,0.31287726358148893,0.31388329979879276,0.3148893360160966,0.3158953722334004,0.31690140845070425,0.317907444668008,0.31891348088531185,0.3199195171026157,0.3209255533199195,0.32193158953722334,0.32293762575452717,0.323943661971831,0.32494969818913483,0.32595573440643866,0.32696177062374243,0.32796780684104626,0.3289738430583501,0.3299798792756539,0.33098591549295775,0.3319919517102616,0.3329979879275654,0.33400402414486924,0.335010060362173,0.33601609657947684,0.33702213279678067,0.3380281690140845,0.33903420523138833,0.34004024144869216,0.341046277665996,0.3420523138832998,0.34305835010060365,0.3440643863179074,0.34507042253521125,0.3460764587525151,0.3470824949698189,0.34808853118712274,0.34909456740442657,0.3501006036217304,0.35110663983903423,0.352112676056338,0.35311871227364183,0.35412474849094566,0.3551307847082495,0.3561368209255533,0.35714285714285715,0.358148893360161,0.3591549295774648,0.36016096579476864,0.3611670020120724,0.36217303822937624,0.3631790744466801,0.3641851106639839,0.36519114688128773,0.36619718309859156,0.3672032193158954,0.3682092555331992,0.369215291750503,0.3702213279678068,0.37122736418511065,0.3722334004024145,0.3732394366197183,0.37424547283702214,0.37525150905432597,0.3762575452716298,0.3772635814889336,0.3782696177062374,0.37927565392354123,0.38028169014084506,0.3812877263581489,0.3822937625754527,0.38329979879275655,0.3843058350100604,0.3853118712273642,0.386317907444668,0.3873239436619718,0.38832997987927564,0.3893360160965795,0.3903420523138833,0.39134808853118713,0.39235412474849096,0.3933601609657948,0.39436619718309857,0.3953722334004024,0.3963782696177062,0.39738430583501005,0.3983903420523139,0.3993963782696177,0.40040241448692154,0.4014084507042254,0.4024144869215292,0.403420523138833,0.4044265593561368,0.40543259557344064,0.40643863179074446,0.4074446680080483,0.4084507042253521,0.40945674044265595,0.4104627766599598,0.41146881287726356,0.4124748490945674,0.4134808853118712,0.41448692152917505,0.4154929577464789,0.4164989939637827,0.41750503018108653,0.41851106639839036,0.41951710261569414,0.42052313883299797,0.4215291750503018,0.4225352112676056,0.42354124748490946,0.4245472837022133,0.4255533199195171,0.42655935613682094,0.4275653923541248,0.42857142857142855,0.4295774647887324,0.4305835010060362,0.43158953722334004,0.43259557344064387,0.4336016096579477,0.4346076458752515,0.43561368209255535,0.43661971830985913,0.43762575452716296,0.4386317907444668,0.4396378269617706,0.44064386317907445,0.4416498993963783,0.4426559356136821,0.44366197183098594,0.44466800804828976,0.44567404426559354,0.44668008048289737,0.4476861167002012,0.448692152917505,0.44969818913480886,0.4507042253521127,0.4517102615694165,0.45271629778672035,0.4537223340040241,0.45472837022132795,0.4557344064386318,0.4567404426559356,0.45774647887323944,0.45875251509054327,0.4597585513078471,0.4607645875251509,0.46177062374245476,0.46277665995975853,0.46378269617706236,0.4647887323943662,0.46579476861167,0.46680080482897385,0.4678068410462777,0.4688128772635815,0.46981891348088534,0.4708249496981891,0.47183098591549294,0.47283702213279677,0.4738430583501006,0.47484909456740443,0.47585513078470826,0.4768611670020121,0.4778672032193159,0.4788732394366197,0.4798792756539235,0.48088531187122735,0.4818913480885312,0.482897384305835,0.48390342052313884,0.48490945674044267,0.4859154929577465,0.4869215291750503,0.4879275653923541,0.48893360160965793,0.48993963782696176,0.4909456740442656,0.4919517102615694,0.49295774647887325,0.4939637826961771,0.4949698189134809,0.4959758551307847,0.4969818913480885,0.49798792756539234,0.49899396378269617,0.5,0.5010060362173038,0.5020120724346077,0.5030181086519114,0.5040241448692153,0.5050301810865191,0.506036217303823,0.5070422535211268,0.5080482897384306,0.5090543259557344,0.5100603621730382,0.5110663983903421,0.5120724346076458,0.5130784708249497,0.5140845070422535,0.5150905432595574,0.5160965794768612,0.5171026156941649,0.5181086519114688,0.5191146881287726,0.5201207243460765,0.5211267605633803,0.5221327967806841,0.5231388329979879,0.5241448692152918,0.5251509054325956,0.5261569416498993,0.5271629778672032,0.528169014084507,0.5291750503018109,0.5301810865191147,0.5311871227364185,0.5321931589537223,0.5331991951710262,0.53420523138833,0.5352112676056338,0.5362173038229376,0.5372233400402414,0.5382293762575453,0.5392354124748491,0.540241448692153,0.5412474849094567,0.5422535211267606,0.5432595573440644,0.5442655935613682,0.545271629778672,0.5462776659959758,0.5472837022132797,0.5482897384305835,0.5492957746478874,0.5503018108651911,0.5513078470824949,0.5523138832997988,0.5533199195171026,0.5543259557344065,0.5553319919517102,0.5563380281690141,0.5573440643863179,0.5583501006036218,0.5593561368209256,0.5603621730382293,0.5613682092555332,0.562374245472837,0.5633802816901409,0.5643863179074446,0.5653923541247485,0.5663983903420523,0.5674044265593562,0.56841046277666,0.5694164989939637,0.5704225352112676,0.5714285714285714,0.5724346076458753,0.5734406438631791,0.5744466800804829,0.5754527162977867,0.5764587525150905,0.5774647887323944,0.5784708249496981,0.579476861167002,0.5804828973843058,0.5814889336016097,0.5824949698189135,0.5835010060362174,0.5845070422535211,0.5855130784708249,0.5865191146881288,0.5875251509054326,0.5885311871227364,0.5895372233400402,0.5905432595573441,0.5915492957746479,0.5925553319919518,0.5935613682092555,0.5945674044265593,0.5955734406438632,0.596579476861167,0.5975855130784709,0.5985915492957746,0.5995975855130785,0.6006036217303823,0.6016096579476862,0.60261569416499,0.6036217303822937,0.6046277665995976,0.6056338028169014,0.6066398390342053,0.607645875251509,0.6086519114688129,0.6096579476861167,0.6106639839034205,0.6116700201207244,0.6126760563380281,0.613682092555332,0.6146881287726358,0.6156941649899397,0.6167002012072434,0.6177062374245473,0.6187122736418511,0.6197183098591549,0.6207243460764588,0.6217303822937625,0.6227364185110664,0.6237424547283702,0.6247484909456741,0.6257545271629779,0.6267605633802817,0.6277665995975855,0.6287726358148893,0.6297786720321932,0.630784708249497,0.6317907444668008,0.6327967806841046,0.6338028169014085,0.6348088531187123,0.635814889336016,0.6368209255533199,0.6378269617706237,0.6388329979879276,0.6398390342052314,0.6408450704225352,0.641851106639839,0.6428571428571429,0.6438631790744467,0.6448692152917505,0.6458752515090543,0.6468812877263581,0.647887323943662,0.6488933601609658,0.6498993963782697,0.6509054325955734,0.6519114688128773,0.6529175050301811,0.6539235412474849,0.6549295774647887,0.6559356136820925,0.6569416498993964,0.6579476861167002,0.6589537223340041,0.6599597585513078,0.6609657947686117,0.6619718309859155,0.6629778672032193,0.6639839034205232,0.6649899396378269,0.6659959758551308,0.6670020120724346,0.6680080482897385,0.6690140845070423,0.670020120724346,0.6710261569416499,0.6720321931589537,0.6730382293762576,0.6740442655935613,0.6750503018108652,0.676056338028169,0.6770623742454729,0.6780684104627767,0.6790744466800804,0.6800804828973843,0.6810865191146881,0.682092555331992,0.6830985915492958,0.6841046277665996,0.6851106639839034,0.6861167002012073,0.6871227364185111,0.6881287726358148,0.6891348088531187,0.6901408450704225,0.6911468812877264,0.6921529175050302,0.693158953722334,0.6941649899396378,0.6951710261569416,0.6961770623742455,0.6971830985915493,0.6981891348088531,0.6991951710261569,0.7002012072434608,0.7012072434607646,0.7022132796780685,0.7032193158953722,0.704225352112676,0.7052313883299799,0.7062374245472837,0.7072434607645876,0.7082494969818913,0.7092555331991952,0.710261569416499,0.7112676056338029,0.7122736418511066,0.7132796780684104,0.7142857142857143,0.7152917505030181,0.716297786720322,0.7173038229376257,0.7183098591549296,0.7193158953722334,0.7203219315895373,0.721327967806841,0.7223340040241448,0.7233400402414487,0.7243460764587525,0.7253521126760564,0.7263581488933601,0.727364185110664,0.7283702213279678,0.7293762575452716,0.7303822937625755,0.7313883299798792,0.7323943661971831,0.7334004024144869,0.7344064386317908,0.7354124748490946,0.7364185110663984,0.7374245472837022,0.738430583501006,0.7394366197183099,0.7404426559356136,0.7414486921529175,0.7424547283702213,0.7434607645875252,0.744466800804829,0.7454728370221329,0.7464788732394366,0.7474849094567404,0.7484909456740443,0.7494969818913481,0.7505030181086519,0.7515090543259557,0.7525150905432596,0.7535211267605634,0.7545271629778671,0.755533199195171,0.7565392354124748,0.7575452716297787,0.7585513078470825,0.7595573440643864,0.7605633802816901,0.761569416498994,0.7625754527162978,0.7635814889336016,0.7645875251509054,0.7655935613682092,0.7665995975855131,0.7676056338028169,0.7686116700201208,0.7696177062374245,0.7706237424547284,0.7716297786720322,0.772635814889336,0.7736418511066399,0.7746478873239436,0.7756539235412475,0.7766599597585513,0.7776659959758552,0.778672032193159,0.7796780684104627,0.7806841046277666,0.7816901408450704,0.7826961770623743,0.783702213279678,0.7847082494969819,0.7857142857142857,0.7867203219315896,0.7877263581488934,0.7887323943661971,0.789738430583501,0.7907444668008048,0.7917505030181087,0.7927565392354124,0.7937625754527163,0.7947686116700201,0.795774647887324,0.7967806841046278,0.7977867203219315,0.7987927565392354,0.7997987927565392,0.8008048289738431,0.8018108651911469,0.8028169014084507,0.8038229376257545,0.8048289738430584,0.8058350100603622,0.806841046277666,0.8078470824949698,0.8088531187122736,0.8098591549295775,0.8108651911468813,0.8118712273641852,0.8128772635814889,0.8138832997987927,0.8148893360160966,0.8158953722334004,0.8169014084507042,0.817907444668008,0.8189134808853119,0.8199195171026157,0.8209255533199196,0.8219315895372233,0.8229376257545271,0.823943661971831,0.8249496981891348,0.8259557344064387,0.8269617706237424,0.8279678068410463,0.8289738430583501,0.829979879275654,0.8309859154929577,0.8319919517102615,0.8329979879275654,0.8340040241448692,0.8350100603621731,0.8360160965794768,0.8370221327967807,0.8380281690140845,0.8390342052313883,0.8400402414486922,0.8410462776659959,0.8420523138832998,0.8430583501006036,0.8440643863179075,0.8450704225352113,0.8460764587525151,0.8470824949698189,0.8480885311871227,0.8490945674044266,0.8501006036217303,0.8511066398390342,0.852112676056338,0.8531187122736419,0.8541247484909457,0.8551307847082495,0.8561368209255533,0.8571428571428571,0.858148893360161,0.8591549295774648,0.8601609657947686,0.8611670020120724,0.8621730382293763,0.8631790744466801,0.864185110663984,0.8651911468812877,0.8661971830985915,0.8672032193158954,0.8682092555331992,0.869215291750503,0.8702213279678068,0.8712273641851107,0.8722334004024145,0.8732394366197183,0.8742454728370221,0.8752515090543259,0.8762575452716298,0.8772635814889336,0.8782696177062375,0.8792756539235412,0.8802816901408451,0.8812877263581489,0.8822937625754527,0.8832997987927566,0.8843058350100603,0.8853118712273642,0.886317907444668,0.8873239436619719,0.8883299798792756,0.8893360160965795,0.8903420523138833,0.8913480885311871,0.892354124748491,0.8933601609657947,0.8943661971830986,0.8953722334004024,0.8963782696177063,0.89738430583501,0.8983903420523138,0.8993963782696177,0.9004024144869215,0.9014084507042254,0.9024144869215291,0.903420523138833,0.9044265593561368,0.9054325955734407,0.9064386317907445,0.9074446680080482,0.9084507042253521,0.9094567404426559,0.9104627766599598,0.9114688128772636,0.9124748490945674,0.9134808853118712,0.9144869215291751,0.9154929577464789,0.9164989939637826,0.9175050301810865,0.9185110663983903,0.9195171026156942,0.920523138832998,0.9215291750503019,0.9225352112676056,0.9235412474849095,0.9245472837022133,0.9255533199195171,0.9265593561368209,0.9275653923541247,0.9285714285714286,0.9295774647887324,0.9305835010060363,0.93158953722334,0.9325955734406438,0.9336016096579477,0.9346076458752515,0.9356136820925554,0.9366197183098591,0.937625754527163,0.9386317907444668,0.9396378269617707,0.9406438631790744,0.9416498993963782,0.9426559356136821,0.9436619718309859,0.9446680080482898,0.9456740442655935,0.9466800804828974,0.9476861167002012,0.9486921529175051,0.9496981891348089,0.9507042253521126,0.9517102615694165,0.9527162977867203,0.9537223340040242,0.954728370221328,0.9557344064386318,0.9567404426559356,0.9577464788732394,0.9587525150905433,0.959758551307847,0.9607645875251509,0.9617706237424547,0.9627766599597586,0.9637826961770624,0.9647887323943662,0.96579476861167,0.9668008048289738,0.9678068410462777,0.9688128772635815,0.9698189134808853,0.9708249496981891,0.971830985915493,0.9728370221327968,0.9738430583501007,0.9748490945674044,0.9758551307847082,0.9768611670020121,0.9778672032193159,0.9788732394366197,0.9798792756539235,0.9808853118712274,0.9818913480885312,0.9828973843058351,0.9839034205231388,0.9849094567404426,0.9859154929577465,0.9869215291750503,0.9879275653923542,0.9889336016096579,0.9899396378269618,0.9909456740442656,0.9919517102615694,0.9929577464788732,0.993963782696177,0.9949698189134809,0.9959758551307847,0.9969818913480886,0.9979879275653923,0.9989939637826962,1.0],\"yaxis\":\"y\",\"type\":\"scattergl\"},{\"hovertemplate\":\"subreddit_name_prefixed=r/science<br>ups=%{x}<br>probability=%{y}<extra></extra>\",\"legendgroup\":\"\",\"line\":{\"dash\":\"solid\",\"shape\":\"hv\"},\"marker\":{\"color\":\"#636efa\",\"symbol\":\"circle\"},\"mode\":\"lines\",\"name\":\"\",\"showlegend\":false,\"x\":[41945,41955,41988,42006,42013,42025,42027,42038,42058,42063,42068,42093,42094,42105,42111,42116,42119,42119,42123,42137,42149,42158,42184,42193,42232,42237,42238,42274,42314,42324,42325,42333,42334,42359,42362,42376,42407,42484,42495,42502,42506,42525,42528,42547,42549,42595,42604,42633,42645,42646,42652,42658,42661,42682,42696,42717,42748,42751,42757,42764,42822,42823,42826,42832,42841,42850,42869,42879,42909,42941,42948,42967,42979,42980,42993,42996,43008,43045,43072,43089,43098,43118,43120,43134,43144,43175,43175,43196,43196,43200,43206,43207,43222,43226,43241,43280,43282,43298,43322,43336,43369,43372,43388,43388,43401,43406,43418,43419,43431,43465,43472,43483,43499,43508,43534,43573,43580,43592,43606,43608,43616,43616,43646,43662,43668,43669,43678,43689,43744,43767,43768,43797,43811,43825,43838,43853,43878,43888,43902,43921,43922,43937,43958,43966,43966,43972,43988,43999,44040,44043,44122,44123,44181,44191,44200,44234,44234,44245,44253,44270,44277,44283,44425,44452,44457,44459,44473,44486,44506,44506,44513,44532,44571,44602,44669,44684,44733,44737,44738,44752,44757,44763,44786,44817,44827,44839,44842,44852,44949,44988,45012,45053,45057,45059,45069,45087,45104,45109,45127,45157,45188,45276,45284,45288,45292,45330,45359,45361,45370,45411,45414,45432,45439,45491,45494,45557,45586,45587,45614,45620,45647,45662,45663,45664,45677,45706,45713,45728,45739,45755,45756,45758,45791,45808,45857,45863,45864,45875,45894,45895,45907,45908,45933,45938,45952,45960,46040,46047,46051,46057,46062,46118,46130,46165,46166,46177,46181,46210,46253,46277,46303,46322,46352,46359,46364,46399,46447,46466,46504,46507,46528,46530,46547,46550,46552,46604,46630,46661,46679,46695,46740,46748,46765,46766,46769,46775,46800,46820,46862,46867,46878,46920,46968,46975,46997,47024,47029,47042,47043,47053,47053,47059,47085,47100,47111,47127,47148,47182,47223,47241,47250,47284,47321,47385,47401,47443,47452,47459,47532,47535,47540,47563,47588,47604,47608,47644,47689,47828,47866,47879,47906,47916,48004,48023,48031,48066,48081,48090,48145,48180,48201,48203,48245,48269,48272,48278,48311,48312,48314,48323,48349,48356,48370,48436,48436,48473,48486,48533,48534,48549,48564,48597,48601,48607,48629,48640,48656,48669,48699,48725,48801,48834,48875,48888,48888,48899,48902,48905,48910,48916,48949,48949,48981,48988,48998,49014,49019,49023,49046,49052,49067,49093,49106,49123,49148,49150,49154,49252,49261,49264,49280,49283,49294,49296,49335,49381,49485,49517,49524,49598,49599,49606,49633,49643,49676,49687,49694,49737,49776,49787,49825,49874,49887,49900,49917,49972,49979,49987,50014,50014,50062,50145,50151,50173,50275,50286,50324,50362,50392,50484,50514,50537,50538,50538,50617,50686,50693,50724,50729,50750,50759,50774,50779,50787,50793,50806,50851,50874,50886,50888,50895,50934,50940,50947,50958,50970,50979,50991,50997,51051,51066,51092,51129,51153,51182,51214,51220,51232,51235,51276,51333,51408,51442,51445,51473,51540,51550,51594,51597,51603,51616,51676,51754,51761,51780,51839,51839,51862,51937,51948,51959,51972,52014,52016,52059,52059,52073,52125,52198,52229,52269,52273,52274,52310,52351,52414,52494,52502,52534,52545,52548,52574,52578,52581,52606,52629,52656,52670,52772,52829,52847,52928,52942,52942,52959,52968,52973,52975,53021,53023,53027,53028,53046,53068,53089,53128,53145,53161,53219,53255,53256,53257,53276,53311,53326,53517,53557,53564,53565,53601,53625,53655,53672,53696,53701,53738,53810,53873,53875,53892,53921,53980,53998,54002,54008,54084,54142,54185,54198,54213,54279,54296,54316,54355,54359,54400,54409,54428,54433,54512,54528,54664,54683,54728,54730,54784,54869,54921,54950,55032,55058,55141,55200,55201,55315,55362,55378,55388,55406,55411,55414,55513,55521,55530,55576,55579,55615,55655,55658,55715,55715,55748,55765,55796,55872,55903,55990,55998,56030,56065,56070,56150,56167,56223,56225,56259,56312,56371,56397,56439,56572,56638,56660,56678,56720,56751,56776,56812,56921,56925,56962,57053,57094,57095,57100,57102,57104,57154,57217,57218,57251,57258,57263,57264,57300,57300,57303,57346,57390,57402,57415,57424,57446,57533,57568,57620,57654,57672,57678,57727,57897,57942,58055,58131,58146,58227,58257,58282,58415,58435,58502,58567,58568,58736,58800,58809,58885,58896,58990,59073,59173,59175,59284,59360,59489,59674,59755,59804,59804,59816,59867,59897,60051,60057,60098,60184,60187,60198,60297,60376,60392,60450,60519,60652,60665,60672,60769,60786,60816,60852,60994,60994,61169,61225,61270,61290,61292,61328,61418,61663,61678,61739,61783,61795,61842,61849,61937,61972,62016,62032,62181,62194,62224,62431,62510,62579,62607,62634,62679,62722,62796,62810,62814,62916,62926,63001,63031,63052,63096,63151,63168,63173,63217,63238,63251,63319,63424,63433,63655,63666,63783,63795,63860,64038,64129,64208,64250,64318,64349,64355,64554,64586,64723,64741,64743,64794,64796,64966,65034,65041,65078,65089,65109,65160,65170,65191,65268,65332,65351,65527,65615,65686,65702,65707,65896,65906,65916,65954,65978,66197,66219,66307,66318,66377,66438,66445,66481,66514,66533,67017,67076,67205,67467,67492,67561,67677,67771,67822,67938,67997,68022,68024,68049,68132,68242,68246,68408,68409,68550,68587,68643,68705,68762,68877,68967,69124,69160,69240,69241,69299,69447,69586,69658,69669,69874,69937,70180,70349,70355,70476,70628,70849,70968,71138,71266,71268,71400,71551,71720,71753,71778,71989,72177,72213,72382,72487,72545,72643,73257,73511,73572,73654,73772,73943,74032,74045,74108,74108,74237,74322,74587,74759,74767,74825,74906,75217,75403,75488,75658,75677,75798,76163,76180,76200,76398,76479,76628,76919,77099,77351,77395,77583,77627,78141,78196,78293,78462,78474,78729,78800,79241,79492,79806,79982,80075,80109,80862,81853,82000,82019,82255,82552,82982,83067,83636,83684,83998,84777,84789,84844,85486,86117,86779,87243,87280,88043,88573,89045,89150,89211,89240,89344,89754,90512,90608,90654,90857,91520,91794,91846,92356,93409,94085,94803,97228,97585,101695,104437,104594,104786,106105,109331,110666,110990,113722,114434,114564,124367,124694,155291,199297],\"xaxis\":\"x2\",\"y\":[0.0010090817356205853,0.0020181634712411706,0.0030272452068617556,0.004036326942482341,0.005045408678102927,0.006054490413723511,0.007063572149344097,0.008072653884964682,0.009081735620585268,0.010090817356205853,0.011099899091826439,0.012108980827447022,0.013118062563067608,0.014127144298688193,0.015136226034308779,0.016145307769929364,0.017154389505549948,0.018163471241170535,0.01917255297679112,0.020181634712411706,0.02119071644803229,0.022199798183652877,0.02320887991927346,0.024217961654894045,0.025227043390514632,0.026236125126135216,0.027245206861755803,0.028254288597376387,0.029263370332996974,0.030272452068617558,0.03128153380423814,0.03229061553985873,0.033299697275479316,0.034308779011099896,0.035317860746720484,0.03632694248234107,0.03733602421796166,0.03834510595358224,0.039354187689202826,0.04036326942482341,0.04137235116044399,0.04238143289606458,0.04339051463168517,0.044399596367305755,0.045408678102926335,0.04641775983854692,0.04742684157416751,0.04843592330978809,0.04944500504540868,0.050454086781029264,0.05146316851664985,0.05247225025227043,0.05348133198789102,0.054490413723511606,0.055499495459132187,0.056508577194752774,0.05751765893037336,0.05852674066599395,0.05953582240161453,0.060544904137235116,0.0615539858728557,0.06256306760847628,0.06357214934409687,0.06458123107971746,0.06559031281533804,0.06659939455095863,0.06760847628657922,0.06861755802219979,0.06962663975782038,0.07063572149344097,0.07164480322906155,0.07265388496468214,0.07366296670030273,0.07467204843592332,0.07568113017154389,0.07669021190716448,0.07769929364278506,0.07870837537840565,0.07971745711402624,0.08072653884964683,0.08173562058526741,0.08274470232088799,0.08375378405650857,0.08476286579212916,0.08577194752774975,0.08678102926337034,0.08779011099899092,0.08879919273461151,0.08980827447023208,0.09081735620585267,0.09182643794147326,0.09283551967709384,0.09384460141271443,0.09485368314833502,0.0958627648839556,0.09687184661957618,0.09788092835519677,0.09889001009081735,0.09989909182643794,0.10090817356205853,0.10191725529767912,0.1029263370332997,0.10393541876892028,0.10494450050454086,0.10595358224016145,0.10696266397578204,0.10797174571140263,0.10898082744702321,0.1099899091826438,0.11099899091826437,0.11200807265388496,0.11301715438950555,0.11402623612512613,0.11503531786074672,0.11604439959636731,0.1170534813319879,0.11806256306760847,0.11907164480322906,0.12008072653884964,0.12108980827447023,0.12209889001009082,0.1231079717457114,0.124117053481332,0.12512613521695257,0.12613521695257315,0.12714429868819374,0.12815338042381433,0.12916246215943492,0.1301715438950555,0.1311806256306761,0.13218970736629668,0.13319878910191726,0.13420787083753785,0.13521695257315844,0.136226034308779,0.13723511604439959,0.13824419778002017,0.13925327951564076,0.14026236125126135,0.14127144298688193,0.14228052472250252,0.1432896064581231,0.1442986881937437,0.14530776992936428,0.14631685166498487,0.14732593340060546,0.14833501513622604,0.14934409687184663,0.1503531786074672,0.15136226034308778,0.15237134207870837,0.15338042381432895,0.15438950554994954,0.15539858728557013,0.15640766902119072,0.1574167507568113,0.1584258324924319,0.15943491422805248,0.16044399596367306,0.16145307769929365,0.16246215943491424,0.16347124117053483,0.16448032290615539,0.16548940464177597,0.16649848637739656,0.16750756811301715,0.16851664984863773,0.16952573158425832,0.1705348133198789,0.1715438950554995,0.17255297679112008,0.17356205852674067,0.17457114026236126,0.17558022199798184,0.17658930373360243,0.17759838546922302,0.17860746720484358,0.17961654894046417,0.18062563067608475,0.18163471241170534,0.18264379414732593,0.18365287588294651,0.1846619576185671,0.1856710393541877,0.18668012108980828,0.18768920282542886,0.18869828456104945,0.18970736629667004,0.19071644803229063,0.1917255297679112,0.1927346115035318,0.19374369323915236,0.19475277497477295,0.19576185671039353,0.19677093844601412,0.1977800201816347,0.1987891019172553,0.19979818365287588,0.20080726538849647,0.20181634712411706,0.20282542885973764,0.20383451059535823,0.20484359233097882,0.2058526740665994,0.20686175580222,0.20787083753784055,0.20887991927346114,0.20988900100908173,0.21089808274470231,0.2119071644803229,0.2129162462159435,0.21392532795156408,0.21493440968718466,0.21594349142280525,0.21695257315842584,0.21796165489404642,0.218970736629667,0.2199798183652876,0.2209889001009082,0.22199798183652875,0.22300706357214933,0.22401614530776992,0.2250252270433905,0.2260343087790111,0.22704339051463168,0.22805247225025227,0.22906155398587286,0.23007063572149344,0.23107971745711403,0.23208879919273462,0.2330978809283552,0.2341069626639758,0.23511604439959638,0.23612512613521694,0.23713420787083753,0.23814328960645811,0.2391523713420787,0.2401614530776993,0.24117053481331988,0.24217961654894046,0.24318869828456105,0.24419778002018164,0.24520686175580222,0.2462159434914228,0.2472250252270434,0.248234106962664,0.24924318869828457,0.25025227043390513,0.2512613521695257,0.2522704339051463,0.2532795156407669,0.2542885973763875,0.25529767911200807,0.25630676084762866,0.25731584258324924,0.25832492431886983,0.2593340060544904,0.260343087790111,0.2613521695257316,0.2623612512613522,0.26337033299697277,0.26437941473259335,0.26538849646821394,0.26639757820383453,0.2674066599394551,0.2684157416750757,0.2694248234106963,0.2704339051463169,0.2714429868819374,0.272452068617558,0.2734611503531786,0.27447023208879917,0.27547931382441976,0.27648839556004035,0.27749747729566093,0.2785065590312815,0.2795156407669021,0.2805247225025227,0.2815338042381433,0.28254288597376387,0.28355196770938446,0.28456104944500504,0.28557013118062563,0.2865792129162462,0.2875882946518668,0.2885973763874874,0.289606458123108,0.29061553985872857,0.29162462159434915,0.29263370332996974,0.29364278506559033,0.2946518668012109,0.2956609485368315,0.2966700302724521,0.2976791120080727,0.29868819374369326,0.29969727547931385,0.3007063572149344,0.30171543895055497,0.30272452068617556,0.30373360242179614,0.30474268415741673,0.3057517658930373,0.3067608476286579,0.3077699293642785,0.3087790110998991,0.30978809283551967,0.31079717457114026,0.31180625630676084,0.31281533804238143,0.313824419778002,0.3148335015136226,0.3158425832492432,0.3168516649848638,0.31786074672048437,0.31886982845610495,0.31987891019172554,0.32088799192734613,0.3218970736629667,0.3229061553985873,0.3239152371342079,0.3249243188698285,0.32593340060544906,0.32694248234106965,0.32795156407669024,0.32896064581231077,0.32996972754793136,0.33097880928355194,0.33198789101917253,0.3329969727547931,0.3340060544904137,0.3350151362260343,0.3360242179616549,0.33703329969727547,0.33804238143289606,0.33905146316851664,0.34006054490413723,0.3410696266397578,0.3420787083753784,0.343087790110999,0.3440968718466196,0.34510595358224017,0.34611503531786075,0.34712411705348134,0.3481331987891019,0.3491422805247225,0.3501513622603431,0.3511604439959637,0.3521695257315843,0.35317860746720486,0.35418768920282545,0.35519677093844604,0.3562058526740666,0.35721493440968716,0.35822401614530774,0.35923309788092833,0.3602421796165489,0.3612512613521695,0.3622603430877901,0.3632694248234107,0.36427850655903127,0.36528758829465185,0.36629667003027244,0.36730575176589303,0.3683148335015136,0.3693239152371342,0.3703329969727548,0.3713420787083754,0.37235116044399597,0.37336024217961655,0.37436932391523714,0.3753784056508577,0.3763874873864783,0.3773965691220989,0.3784056508577195,0.3794147325933401,0.38042381432896066,0.38143289606458125,0.38244197780020184,0.3834510595358224,0.384460141271443,0.3854692230070636,0.38647830474268413,0.3874873864783047,0.3884964682139253,0.3895055499495459,0.3905146316851665,0.39152371342078707,0.39253279515640765,0.39354187689202824,0.39455095862764883,0.3955600403632694,0.39656912209889,0.3975782038345106,0.3985872855701312,0.39959636730575177,0.40060544904137235,0.40161453077699294,0.4026236125126135,0.4036326942482341,0.4046417759838547,0.4056508577194753,0.4066599394550959,0.40766902119071646,0.40867810292633705,0.40968718466195764,0.4106962663975782,0.4117053481331988,0.4127144298688194,0.41372351160444,0.4147325933400605,0.4157416750756811,0.4167507568113017,0.4177598385469223,0.41876892028254287,0.41977800201816345,0.42078708375378404,0.42179616548940463,0.4228052472250252,0.4238143289606458,0.4248234106962664,0.425832492431887,0.42684157416750756,0.42785065590312815,0.42885973763874874,0.4298688193743693,0.4308779011099899,0.4318869828456105,0.4328960645812311,0.4339051463168517,0.43491422805247226,0.43592330978809285,0.43693239152371344,0.437941473259334,0.4389505549949546,0.4399596367305752,0.4409687184661958,0.4419778002018164,0.4429868819374369,0.4439959636730575,0.4450050454086781,0.44601412714429867,0.44702320887991925,0.44803229061553984,0.44904137235116043,0.450050454086781,0.4510595358224016,0.4520686175580222,0.4530776992936428,0.45408678102926336,0.45509586276488395,0.45610494450050454,0.4571140262361251,0.4581231079717457,0.4591321897073663,0.4601412714429869,0.4611503531786075,0.46215943491422806,0.46316851664984865,0.46417759838546924,0.4651866801210898,0.4661957618567104,0.467204843592331,0.4682139253279516,0.4692230070635722,0.47023208879919276,0.47124117053481335,0.4722502522704339,0.47325933400605447,0.47426841574167505,0.47527749747729564,0.47628657921291623,0.4772956609485368,0.4783047426841574,0.479313824419778,0.4803229061553986,0.48133198789101916,0.48234106962663975,0.48335015136226034,0.4843592330978809,0.4853683148335015,0.4863773965691221,0.4873864783047427,0.4883955600403633,0.48940464177598386,0.49041372351160445,0.49142280524722504,0.4924318869828456,0.4934409687184662,0.4944500504540868,0.4954591321897074,0.496468213925328,0.49747729566094856,0.49848637739656915,0.49949545913218973,0.5005045408678103,0.5015136226034309,0.5025227043390514,0.5035317860746721,0.5045408678102926,0.5055499495459133,0.5065590312815338,0.5075681130171544,0.508577194752775,0.5095862764883956,0.5105953582240161,0.5116044399596368,0.5126135216952573,0.513622603430878,0.5146316851664985,0.515640766902119,0.5166498486377397,0.5176589303733602,0.5186680121089808,0.5196770938446014,0.520686175580222,0.5216952573158425,0.5227043390514632,0.5237134207870837,0.5247225025227044,0.5257315842583249,0.5267406659939455,0.5277497477295661,0.5287588294651867,0.5297679112008072,0.5307769929364279,0.5317860746720484,0.5327951564076691,0.5338042381432896,0.5348133198789102,0.5358224016145308,0.5368314833501514,0.5378405650857719,0.5388496468213926,0.5398587285570131,0.5408678102926338,0.5418768920282543,0.5428859737638748,0.5438950554994955,0.544904137235116,0.5459132189707366,0.5469223007063572,0.5479313824419778,0.5489404641775983,0.549949545913219,0.5509586276488395,0.5519677093844602,0.5529767911200807,0.5539858728557013,0.5549949545913219,0.5560040363269425,0.557013118062563,0.5580221997981837,0.5590312815338042,0.5600403632694249,0.5610494450050454,0.562058526740666,0.5630676084762866,0.5640766902119072,0.5650857719475277,0.5660948536831484,0.5671039354187689,0.5681130171543896,0.5691220988900101,0.5701311806256307,0.5711402623612513,0.5721493440968718,0.5731584258324924,0.574167507568113,0.5751765893037336,0.5761856710393541,0.5771947527749748,0.5782038345105953,0.579212916246216,0.5802219979818365,0.5812310797174571,0.5822401614530777,0.5832492431886983,0.5842583249243188,0.5852674066599395,0.58627648839556,0.5872855701311807,0.5882946518668012,0.5893037336024218,0.5903128153380424,0.591321897073663,0.5923309788092835,0.5933400605449042,0.5943491422805247,0.5953582240161454,0.5963673057517659,0.5973763874873865,0.5983854692230071,0.5993945509586277,0.6004036326942482,0.6014127144298688,0.6024217961654894,0.6034308779011099,0.6044399596367306,0.6054490413723511,0.6064581231079718,0.6074672048435923,0.6084762865792129,0.6094853683148335,0.6104944500504541,0.6115035317860746,0.6125126135216953,0.6135216952573158,0.6145307769929365,0.615539858728557,0.6165489404641776,0.6175580221997982,0.6185671039354188,0.6195761856710393,0.62058526740666,0.6215943491422805,0.6226034308779012,0.6236125126135217,0.6246215943491423,0.6256306760847629,0.6266397578203835,0.627648839556004,0.6286579212916246,0.6296670030272452,0.6306760847628657,0.6316851664984864,0.6326942482341069,0.6337033299697276,0.6347124117053481,0.6357214934409687,0.6367305751765893,0.6377396569122099,0.6387487386478304,0.6397578203834511,0.6407669021190716,0.6417759838546923,0.6427850655903128,0.6437941473259334,0.644803229061554,0.6458123107971746,0.6468213925327951,0.6478304742684158,0.6488395560040363,0.649848637739657,0.6508577194752775,0.6518668012108981,0.6528758829465187,0.6538849646821393,0.6548940464177598,0.6559031281533805,0.656912209889001,0.6579212916246215,0.6589303733602422,0.6599394550958627,0.6609485368314834,0.6619576185671039,0.6629667003027245,0.6639757820383451,0.6649848637739657,0.6659939455095862,0.6670030272452069,0.6680121089808274,0.669021190716448,0.6700302724520686,0.6710393541876892,0.6720484359233098,0.6730575176589304,0.6740665993945509,0.6750756811301716,0.6760847628657921,0.6770938446014128,0.6781029263370333,0.6791120080726539,0.6801210898082745,0.6811301715438951,0.6821392532795156,0.6831483350151363,0.6841574167507568,0.6851664984863775,0.686175580221998,0.6871846619576185,0.6881937436932392,0.6892028254288597,0.6902119071644803,0.6912209889001009,0.6922300706357215,0.693239152371342,0.6942482341069627,0.6952573158425832,0.6962663975782039,0.6972754793138244,0.698284561049445,0.6992936427850656,0.7003027245206862,0.7013118062563067,0.7023208879919274,0.7033299697275479,0.7043390514631686,0.7053481331987891,0.7063572149344097,0.7073662966700303,0.7083753784056509,0.7093844601412714,0.7103935418768921,0.7114026236125126,0.7124117053481333,0.7134207870837538,0.7144298688193743,0.715438950554995,0.7164480322906155,0.7174571140262361,0.7184661957618567,0.7194752774974773,0.7204843592330978,0.7214934409687185,0.722502522704339,0.7235116044399597,0.7245206861755802,0.7255297679112008,0.7265388496468214,0.727547931382442,0.7285570131180625,0.7295660948536832,0.7305751765893037,0.7315842583249244,0.7325933400605449,0.7336024217961655,0.7346115035317861,0.7356205852674067,0.7366296670030272,0.7376387487386479,0.7386478304742684,0.739656912209889,0.7406659939455096,0.7416750756811302,0.7426841574167508,0.7436932391523713,0.7447023208879919,0.7457114026236125,0.7467204843592331,0.7477295660948536,0.7487386478304743,0.7497477295660948,0.7507568113017155,0.751765893037336,0.7527749747729566,0.7537840565085772,0.7547931382441978,0.7558022199798183,0.756811301715439,0.7578203834510595,0.7588294651866802,0.7598385469223007,0.7608476286579213,0.7618567103935419,0.7628657921291625,0.763874873864783,0.7648839556004037,0.7658930373360242,0.7669021190716448,0.7679112008072654,0.768920282542886,0.7699293642785066,0.7709384460141272,0.7719475277497477,0.7729566094853683,0.7739656912209889,0.7749747729566094,0.7759838546922301,0.7769929364278506,0.7780020181634713,0.7790110998990918,0.7800201816347124,0.781029263370333,0.7820383451059536,0.7830474268415741,0.7840565085771948,0.7850655903128153,0.786074672048436,0.7870837537840565,0.7880928355196771,0.7891019172552977,0.7901109989909183,0.7911200807265388,0.7921291624621595,0.79313824419778,0.7941473259334006,0.7951564076690212,0.7961654894046418,0.7971745711402624,0.798183652875883,0.7991927346115035,0.8002018163471241,0.8012108980827447,0.8022199798183652,0.8032290615539859,0.8042381432896064,0.805247225025227,0.8062563067608476,0.8072653884964682,0.8082744702320888,0.8092835519677094,0.8102926337033299,0.8113017154389506,0.8123107971745711,0.8133198789101918,0.8143289606458123,0.8153380423814329,0.8163471241170535,0.8173562058526741,0.8183652875882946,0.8193743693239153,0.8203834510595358,0.8213925327951564,0.822401614530777,0.8234106962663976,0.8244197780020182,0.8254288597376388,0.8264379414732593,0.82744702320888,0.8284561049445005,0.829465186680121,0.8304742684157417,0.8314833501513622,0.8324924318869829,0.8335015136226034,0.834510595358224,0.8355196770938446,0.8365287588294652,0.8375378405650857,0.8385469223007064,0.8395560040363269,0.8405650857719476,0.8415741675075681,0.8425832492431887,0.8435923309788093,0.8446014127144299,0.8456104944500504,0.8466195761856711,0.8476286579212916,0.8486377396569122,0.8496468213925328,0.8506559031281534,0.851664984863774,0.8526740665993946,0.8536831483350151,0.8546922300706358,0.8557013118062563,0.856710393541877,0.8577194752774975,0.858728557013118,0.8597376387487387,0.8607467204843592,0.8617558022199798,0.8627648839556004,0.863773965691221,0.8647830474268415,0.8657921291624622,0.8668012108980827,0.8678102926337034,0.8688193743693239,0.8698284561049445,0.8708375378405651,0.8718466195761857,0.8728557013118062,0.8738647830474269,0.8748738647830474,0.875882946518668,0.8768920282542886,0.8779011099899092,0.8789101917255298,0.8799192734611504,0.8809283551967709,0.8819374369323916,0.8829465186680121,0.8839556004036327,0.8849646821392533,0.8859737638748738,0.8869828456104945,0.887991927346115,0.8890010090817356,0.8900100908173562,0.8910191725529768,0.8920282542885973,0.893037336024218,0.8940464177598385,0.8950554994954592,0.8960645812310797,0.8970736629667003,0.8980827447023209,0.8990918264379415,0.900100908173562,0.9011099899091827,0.9021190716448032,0.9031281533804238,0.9041372351160444,0.905146316851665,0.9061553985872856,0.9071644803229062,0.9081735620585267,0.9091826437941474,0.9101917255297679,0.9112008072653885,0.9122098890010091,0.9132189707366297,0.9142280524722503,0.9152371342078708,0.9162462159434914,0.917255297679112,0.9182643794147326,0.9192734611503531,0.9202825428859738,0.9212916246215943,0.922300706357215,0.9233097880928355,0.9243188698284561,0.9253279515640767,0.9263370332996973,0.9273461150353178,0.9283551967709385,0.929364278506559,0.9303733602421796,0.9313824419778002,0.9323915237134208,0.9334006054490414,0.934409687184662,0.9354187689202825,0.9364278506559032,0.9374369323915237,0.9384460141271443,0.9394550958627649,0.9404641775983855,0.941473259334006,0.9424823410696267,0.9434914228052472,0.9445005045408678,0.9455095862764884,0.9465186680121089,0.9475277497477296,0.9485368314833501,0.9495459132189707,0.9505549949545913,0.9515640766902119,0.9525731584258325,0.9535822401614531,0.9545913218970736,0.9556004036326943,0.9566094853683148,0.9576185671039354,0.958627648839556,0.9596367305751766,0.9606458123107972,0.9616548940464178,0.9626639757820383,0.963673057517659,0.9646821392532795,0.9656912209889001,0.9667003027245207,0.9677093844601413,0.9687184661957619,0.9697275479313825,0.970736629667003,0.9717457114026236,0.9727547931382442,0.9737638748738647,0.9747729566094854,0.9757820383451059,0.9767911200807265,0.9778002018163471,0.9788092835519677,0.9798183652875883,0.9808274470232089,0.9818365287588294,0.9828456104944501,0.9838546922300706,0.9848637739656912,0.9858728557013118,0.9868819374369324,0.987891019172553,0.9889001009081736,0.9899091826437941,0.9909182643794148,0.9919273461150353,0.992936427850656,0.9939455095862765,0.9949545913218971,0.9959636730575177,0.9969727547931383,0.9979818365287588,0.9989909182643795,1.0],\"yaxis\":\"y2\",\"type\":\"scattergl\"},{\"hovertemplate\":\"subreddit_name_prefixed=r/worldnews<br>ups=%{x}<br>probability=%{y}<extra></extra>\",\"legendgroup\":\"\",\"line\":{\"dash\":\"solid\",\"shape\":\"hv\"},\"marker\":{\"color\":\"#636efa\",\"symbol\":\"circle\"},\"mode\":\"lines\",\"name\":\"\",\"showlegend\":false,\"x\":[69218,69246,69264,69297,69318,69336,69341,69386,69408,69428,69429,69454,69484,69503,69508,69516,69534,69535,69559,69605,69613,69656,69690,69695,69725,69729,69740,69865,69873,69910,69927,69950,70040,70057,70075,70078,70111,70119,70161,70167,70175,70245,70271,70338,70363,70376,70376,70415,70418,70419,70425,70425,70436,70451,70461,70516,70555,70556,70566,70569,70583,70614,70623,70651,70655,70673,70720,70767,70791,70794,70814,70849,70863,70892,70934,70940,70948,70975,70994,71001,71038,71056,71152,71178,71220,71242,71259,71307,71367,71395,71400,71402,71437,71444,71498,71499,71522,71525,71538,71542,71560,71565,71577,71579,71584,71587,71610,71635,71648,71651,71666,71668,71684,71695,71701,71751,71757,71785,71787,71788,71804,71808,71811,71821,71881,71894,71916,71933,71973,71979,71982,72067,72112,72121,72146,72155,72155,72196,72224,72335,72349,72358,72401,72431,72474,72474,72502,72518,72532,72540,72561,72562,72575,72577,72582,72588,72604,72635,72648,72685,72706,72707,72795,72823,72845,72855,72877,72897,72942,72954,72959,72960,72978,72988,73038,73058,73059,73062,73072,73106,73136,73153,73184,73203,73206,73299,73303,73325,73326,73349,73370,73383,73383,73422,73439,73450,73480,73493,73499,73503,73505,73506,73526,73534,73626,73672,73713,73742,73780,73783,73878,73884,73895,73901,73902,73921,73924,73951,73988,74012,74017,74048,74083,74085,74108,74128,74137,74236,74254,74254,74327,74370,74371,74375,74387,74387,74390,74421,74464,74466,74503,74554,74655,74667,74674,74734,74741,74759,74863,74904,74911,74940,74989,75010,75018,75030,75072,75078,75129,75141,75179,75199,75215,75239,75240,75246,75276,75288,75296,75324,75333,75408,75430,75459,75468,75476,75516,75530,75532,75538,75568,75663,75693,75775,75818,75839,75895,75900,75935,76022,76035,76058,76063,76072,76147,76178,76188,76195,76211,76237,76250,76361,76371,76372,76383,76384,76443,76476,76486,76511,76522,76568,76594,76607,76733,76736,76764,76768,76785,76788,76825,76882,76894,76902,76926,76938,76960,76976,77020,77024,77026,77097,77101,77102,77120,77124,77125,77168,77171,77188,77211,77246,77269,77269,77326,77345,77345,77476,77482,77564,77589,77593,77626,77642,77737,77744,77752,77778,77781,77798,77868,77877,77946,78009,78023,78059,78065,78092,78097,78144,78198,78222,78226,78229,78237,78277,78279,78326,78370,78382,78416,78547,78588,78600,78627,78628,78649,78709,78728,78768,78778,78825,78882,78914,78917,78947,78966,78987,79029,79041,79091,79096,79104,79105,79162,79188,79213,79231,79247,79333,79334,79371,79381,79391,79439,79502,79515,79529,79532,79660,79755,79765,79801,79833,79835,79875,79981,80000,80024,80024,80125,80125,80157,80158,80187,80287,80301,80326,80385,80440,80448,80528,80578,80597,80612,80699,80699,80704,80775,80828,80843,80886,80895,80901,80962,81002,81034,81126,81164,81200,81205,81222,81234,81238,81287,81304,81347,81379,81423,81442,81490,81490,81646,81752,81770,81807,81910,81977,82010,82013,82160,82166,82216,82232,82242,82308,82358,82407,82454,82510,82553,82597,82611,82669,82672,82685,82686,82749,82812,82938,82961,82982,82990,83042,83072,83156,83252,83267,83298,83322,83350,83411,83413,83513,83521,83553,83594,83708,83783,83791,83803,83825,83898,83903,83982,83985,83990,84081,84228,84231,84285,84322,84368,84375,84375,84511,84517,84527,84600,84606,84633,84710,84718,84723,84793,84795,84810,84815,84892,84908,84929,84955,84979,85067,85124,85126,85178,85297,85312,85314,85340,85442,85476,85531,85572,85621,85739,86029,86040,86041,86054,86093,86168,86262,86271,86289,86358,86361,86434,86437,86441,86480,86634,86749,86827,86959,87003,87014,87078,87094,87301,87312,87356,87412,87420,87453,87490,87504,87681,87790,87833,87907,87923,87937,87959,88110,88152,88163,88229,88272,88357,88371,88492,88495,88497,88540,88616,88626,88813,88813,88827,88850,88906,88936,89054,89067,89155,89170,89321,89371,89378,89424,89452,89463,89546,89558,89595,89600,89705,89709,89734,89837,89875,89945,89966,90096,90123,90160,90213,90215,90292,90310,90329,90413,90546,90650,90725,90752,90769,90779,90834,90899,91066,91201,91270,91286,91326,91373,91397,91426,91529,91543,91560,91622,91643,91650,91664,91678,91682,91718,91725,91752,91857,92009,92193,92225,92253,92262,92294,92359,92440,92442,92500,92722,92728,92833,92894,93002,93008,93170,93273,93335,93339,93342,93370,93541,93602,93637,93663,93666,93669,93690,93815,93862,93955,93988,94007,94078,94093,94118,94133,94359,94410,94571,94637,94667,94851,94883,94978,95116,95204,95214,95216,95339,95344,95387,95455,95470,95535,95542,95571,95579,95715,95809,95813,95833,95836,96062,96167,96301,96344,96552,96634,96692,96746,96909,96967,96992,97020,97092,97141,97196,97222,97267,97321,97362,97368,97377,97413,97427,97617,97684,98153,98182,98704,98717,98753,98795,99070,99081,99158,99524,99571,99581,99814,99846,100017,100046,100553,100611,100690,100716,100720,100736,100888,100951,101108,101170,101193,101212,101255,101323,101379,101444,101447,101686,101799,101813,101997,102124,102132,102152,102405,102570,102629,102650,102669,102689,102812,103035,103076,103109,103116,103164,103210,103265,103556,103681,103760,103869,103906,103912,103965,104080,104426,104619,104881,104892,104907,104965,105038,105039,105102,105237,105357,105388,105395,105472,105594,105756,105758,105775,105814,105916,105956,106000,106043,106237,106303,106482,106506,106513,106575,106859,106960,106998,107079,107183,107266,107287,107475,107601,107604,107736,107750,107832,108219,108303,108652,108982,109470,109505,109695,110599,110737,111096,111286,111316,111565,111594,111669,111798,112001,112154,112156,112179,112249,112722,113131,113890,114102,114134,114139,114205,114323,114342,115512,115567,115626,115796,115805,115831,116085,116368,116530,116605,117106,117122,117166,117347,117436,117489,117520,117811,118181,118280,118747,118922,119295,119313,119636,119861,121586,121735,122000,123301,123363,123386,123386,123608,124183,124590,124726,125114,125134,125162,126446,126515,126761,126874,127220,127534,127554,127649,127710,127841,128503,129158,129258,129692,129731,129888,130317,131088,131679,132547,132979,133056,133627,133747,134235,134862,134992,135119,135552,138321,138669,139433,139842,141163,142116,142946,144904,145865,146443,146821,148056,150303,150306,154760,168664,189353,202903,204542],\"xaxis\":\"x3\",\"y\":[0.001006036217303823,0.002012072434607646,0.0030181086519114686,0.004024144869215292,0.005030181086519115,0.006036217303822937,0.007042253521126761,0.008048289738430584,0.009054325955734407,0.01006036217303823,0.011066398390342052,0.012072434607645875,0.013078470824949699,0.014084507042253521,0.015090543259557344,0.01609657947686117,0.01710261569416499,0.018108651911468814,0.019114688128772636,0.02012072434607646,0.02112676056338028,0.022132796780684104,0.023138832997987926,0.02414486921529175,0.025150905432595575,0.026156941649899398,0.02716297786720322,0.028169014084507043,0.029175050301810865,0.030181086519114688,0.03118712273641851,0.03219315895372234,0.03319919517102616,0.03420523138832998,0.035211267605633804,0.03621730382293763,0.03722334004024145,0.03822937625754527,0.039235412474849095,0.04024144869215292,0.04124748490945674,0.04225352112676056,0.043259557344064385,0.04426559356136821,0.04527162977867203,0.04627766599597585,0.047283702213279676,0.0482897384305835,0.04929577464788732,0.05030181086519115,0.05130784708249497,0.052313883299798795,0.05331991951710262,0.05432595573440644,0.05533199195171026,0.056338028169014086,0.05734406438631791,0.05835010060362173,0.059356136820925554,0.060362173038229376,0.0613682092555332,0.06237424547283702,0.06338028169014084,0.06438631790744467,0.06539235412474849,0.06639839034205232,0.06740442655935613,0.06841046277665996,0.06941649899396378,0.07042253521126761,0.07142857142857142,0.07243460764587525,0.07344064386317907,0.0744466800804829,0.07545271629778671,0.07645875251509054,0.07746478873239436,0.07847082494969819,0.079476861167002,0.08048289738430583,0.08148893360160966,0.08249496981891348,0.08350100603621731,0.08450704225352113,0.08551307847082495,0.08651911468812877,0.0875251509054326,0.08853118712273642,0.08953722334004025,0.09054325955734406,0.09154929577464789,0.0925553319919517,0.09356136820925554,0.09456740442655935,0.09557344064386318,0.096579476861167,0.09758551307847083,0.09859154929577464,0.09959758551307847,0.1006036217303823,0.10160965794768612,0.10261569416498995,0.10362173038229376,0.10462776659959759,0.1056338028169014,0.10663983903420524,0.10764587525150905,0.10865191146881288,0.1096579476861167,0.11066398390342053,0.11167002012072434,0.11267605633802817,0.11368209255533199,0.11468812877263582,0.11569416498993963,0.11670020120724346,0.11770623742454728,0.11871227364185111,0.11971830985915492,0.12072434607645875,0.12173038229376258,0.1227364185110664,0.12374245472837023,0.12474849094567404,0.12575452716297786,0.1267605633802817,0.12776659959758552,0.12877263581488935,0.12977867203219315,0.13078470824949698,0.1317907444668008,0.13279678068410464,0.13380281690140844,0.13480885311871227,0.1358148893360161,0.13682092555331993,0.13782696177062373,0.13883299798792756,0.1398390342052314,0.14084507042253522,0.14185110663983905,0.14285714285714285,0.14386317907444668,0.1448692152917505,0.14587525150905434,0.14688128772635814,0.14788732394366197,0.1488933601609658,0.14989939637826963,0.15090543259557343,0.15191146881287726,0.1529175050301811,0.15392354124748492,0.15492957746478872,0.15593561368209255,0.15694164989939638,0.1579476861167002,0.158953722334004,0.15995975855130784,0.16096579476861167,0.1619718309859155,0.16297786720321933,0.16398390342052313,0.16498993963782696,0.1659959758551308,0.16700201207243462,0.16800804828973842,0.16901408450704225,0.17002012072434608,0.1710261569416499,0.1720321931589537,0.17303822937625754,0.17404426559356137,0.1750503018108652,0.176056338028169,0.17706237424547283,0.17806841046277666,0.1790744466800805,0.18008048289738432,0.18108651911468812,0.18209255533199195,0.18309859154929578,0.1841046277665996,0.1851106639839034,0.18611670020120724,0.18712273641851107,0.1881287726358149,0.1891348088531187,0.19014084507042253,0.19114688128772636,0.1921529175050302,0.193158953722334,0.19416498993963782,0.19517102615694165,0.19617706237424548,0.19718309859154928,0.1981891348088531,0.19919517102615694,0.20020120724346077,0.2012072434607646,0.2022132796780684,0.20321931589537223,0.20422535211267606,0.2052313883299799,0.2062374245472837,0.20724346076458752,0.20824949698189135,0.20925553319919518,0.21026156941649898,0.2112676056338028,0.21227364185110664,0.21327967806841047,0.21428571428571427,0.2152917505030181,0.21629778672032193,0.21730382293762576,0.21830985915492956,0.2193158953722334,0.22032193158953722,0.22132796780684105,0.22233400402414488,0.22334004024144868,0.2243460764587525,0.22535211267605634,0.22635814889336017,0.22736418511066397,0.2283702213279678,0.22937625754527163,0.23038229376257546,0.23138832997987926,0.2323943661971831,0.23340040241448692,0.23440643863179075,0.23541247484909456,0.23641851106639838,0.23742454728370221,0.23843058350100604,0.23943661971830985,0.24044265593561368,0.2414486921529175,0.24245472837022133,0.24346076458752516,0.24446680080482897,0.2454728370221328,0.24647887323943662,0.24748490945674045,0.24849094567404426,0.24949698189134809,0.2505030181086519,0.2515090543259557,0.25251509054325955,0.2535211267605634,0.2545271629778672,0.25553319919517103,0.25653923541247486,0.2575452716297787,0.25855130784708247,0.2595573440643863,0.2605633802816901,0.26156941649899396,0.2625754527162978,0.2635814889336016,0.26458752515090544,0.2655935613682093,0.2665995975855131,0.2676056338028169,0.2686116700201207,0.26961770623742454,0.27062374245472837,0.2716297786720322,0.272635814889336,0.27364185110663986,0.2746478873239437,0.27565392354124746,0.2766599597585513,0.2776659959758551,0.27867203219315895,0.2796780684104628,0.2806841046277666,0.28169014084507044,0.28269617706237427,0.2837022132796781,0.28470824949698187,0.2857142857142857,0.28672032193158953,0.28772635814889336,0.2887323943661972,0.289738430583501,0.29074446680080485,0.2917505030181087,0.29275653923541245,0.2937625754527163,0.2947686116700201,0.29577464788732394,0.29678068410462777,0.2977867203219316,0.2987927565392354,0.29979879275653926,0.3008048289738431,0.30181086519114686,0.3028169014084507,0.3038229376257545,0.30482897384305835,0.3058350100603622,0.306841046277666,0.30784708249496984,0.30885311871227367,0.30985915492957744,0.31086519114688127,0.3118712273641851,0.31287726358148893,0.31388329979879276,0.3148893360160966,0.3158953722334004,0.31690140845070425,0.317907444668008,0.31891348088531185,0.3199195171026157,0.3209255533199195,0.32193158953722334,0.32293762575452717,0.323943661971831,0.32494969818913483,0.32595573440643866,0.32696177062374243,0.32796780684104626,0.3289738430583501,0.3299798792756539,0.33098591549295775,0.3319919517102616,0.3329979879275654,0.33400402414486924,0.335010060362173,0.33601609657947684,0.33702213279678067,0.3380281690140845,0.33903420523138833,0.34004024144869216,0.341046277665996,0.3420523138832998,0.34305835010060365,0.3440643863179074,0.34507042253521125,0.3460764587525151,0.3470824949698189,0.34808853118712274,0.34909456740442657,0.3501006036217304,0.35110663983903423,0.352112676056338,0.35311871227364183,0.35412474849094566,0.3551307847082495,0.3561368209255533,0.35714285714285715,0.358148893360161,0.3591549295774648,0.36016096579476864,0.3611670020120724,0.36217303822937624,0.3631790744466801,0.3641851106639839,0.36519114688128773,0.36619718309859156,0.3672032193158954,0.3682092555331992,0.369215291750503,0.3702213279678068,0.37122736418511065,0.3722334004024145,0.3732394366197183,0.37424547283702214,0.37525150905432597,0.3762575452716298,0.3772635814889336,0.3782696177062374,0.37927565392354123,0.38028169014084506,0.3812877263581489,0.3822937625754527,0.38329979879275655,0.3843058350100604,0.3853118712273642,0.386317907444668,0.3873239436619718,0.38832997987927564,0.3893360160965795,0.3903420523138833,0.39134808853118713,0.39235412474849096,0.3933601609657948,0.39436619718309857,0.3953722334004024,0.3963782696177062,0.39738430583501005,0.3983903420523139,0.3993963782696177,0.40040241448692154,0.4014084507042254,0.4024144869215292,0.403420523138833,0.4044265593561368,0.40543259557344064,0.40643863179074446,0.4074446680080483,0.4084507042253521,0.40945674044265595,0.4104627766599598,0.41146881287726356,0.4124748490945674,0.4134808853118712,0.41448692152917505,0.4154929577464789,0.4164989939637827,0.41750503018108653,0.41851106639839036,0.41951710261569414,0.42052313883299797,0.4215291750503018,0.4225352112676056,0.42354124748490946,0.4245472837022133,0.4255533199195171,0.42655935613682094,0.4275653923541248,0.42857142857142855,0.4295774647887324,0.4305835010060362,0.43158953722334004,0.43259557344064387,0.4336016096579477,0.4346076458752515,0.43561368209255535,0.43661971830985913,0.43762575452716296,0.4386317907444668,0.4396378269617706,0.44064386317907445,0.4416498993963783,0.4426559356136821,0.44366197183098594,0.44466800804828976,0.44567404426559354,0.44668008048289737,0.4476861167002012,0.448692152917505,0.44969818913480886,0.4507042253521127,0.4517102615694165,0.45271629778672035,0.4537223340040241,0.45472837022132795,0.4557344064386318,0.4567404426559356,0.45774647887323944,0.45875251509054327,0.4597585513078471,0.4607645875251509,0.46177062374245476,0.46277665995975853,0.46378269617706236,0.4647887323943662,0.46579476861167,0.46680080482897385,0.4678068410462777,0.4688128772635815,0.46981891348088534,0.4708249496981891,0.47183098591549294,0.47283702213279677,0.4738430583501006,0.47484909456740443,0.47585513078470826,0.4768611670020121,0.4778672032193159,0.4788732394366197,0.4798792756539235,0.48088531187122735,0.4818913480885312,0.482897384305835,0.48390342052313884,0.48490945674044267,0.4859154929577465,0.4869215291750503,0.4879275653923541,0.48893360160965793,0.48993963782696176,0.4909456740442656,0.4919517102615694,0.49295774647887325,0.4939637826961771,0.4949698189134809,0.4959758551307847,0.4969818913480885,0.49798792756539234,0.49899396378269617,0.5,0.5010060362173038,0.5020120724346077,0.5030181086519114,0.5040241448692153,0.5050301810865191,0.506036217303823,0.5070422535211268,0.5080482897384306,0.5090543259557344,0.5100603621730382,0.5110663983903421,0.5120724346076458,0.5130784708249497,0.5140845070422535,0.5150905432595574,0.5160965794768612,0.5171026156941649,0.5181086519114688,0.5191146881287726,0.5201207243460765,0.5211267605633803,0.5221327967806841,0.5231388329979879,0.5241448692152918,0.5251509054325956,0.5261569416498993,0.5271629778672032,0.528169014084507,0.5291750503018109,0.5301810865191147,0.5311871227364185,0.5321931589537223,0.5331991951710262,0.53420523138833,0.5352112676056338,0.5362173038229376,0.5372233400402414,0.5382293762575453,0.5392354124748491,0.540241448692153,0.5412474849094567,0.5422535211267606,0.5432595573440644,0.5442655935613682,0.545271629778672,0.5462776659959758,0.5472837022132797,0.5482897384305835,0.5492957746478874,0.5503018108651911,0.5513078470824949,0.5523138832997988,0.5533199195171026,0.5543259557344065,0.5553319919517102,0.5563380281690141,0.5573440643863179,0.5583501006036218,0.5593561368209256,0.5603621730382293,0.5613682092555332,0.562374245472837,0.5633802816901409,0.5643863179074446,0.5653923541247485,0.5663983903420523,0.5674044265593562,0.56841046277666,0.5694164989939637,0.5704225352112676,0.5714285714285714,0.5724346076458753,0.5734406438631791,0.5744466800804829,0.5754527162977867,0.5764587525150905,0.5774647887323944,0.5784708249496981,0.579476861167002,0.5804828973843058,0.5814889336016097,0.5824949698189135,0.5835010060362174,0.5845070422535211,0.5855130784708249,0.5865191146881288,0.5875251509054326,0.5885311871227364,0.5895372233400402,0.5905432595573441,0.5915492957746479,0.5925553319919518,0.5935613682092555,0.5945674044265593,0.5955734406438632,0.596579476861167,0.5975855130784709,0.5985915492957746,0.5995975855130785,0.6006036217303823,0.6016096579476862,0.60261569416499,0.6036217303822937,0.6046277665995976,0.6056338028169014,0.6066398390342053,0.607645875251509,0.6086519114688129,0.6096579476861167,0.6106639839034205,0.6116700201207244,0.6126760563380281,0.613682092555332,0.6146881287726358,0.6156941649899397,0.6167002012072434,0.6177062374245473,0.6187122736418511,0.6197183098591549,0.6207243460764588,0.6217303822937625,0.6227364185110664,0.6237424547283702,0.6247484909456741,0.6257545271629779,0.6267605633802817,0.6277665995975855,0.6287726358148893,0.6297786720321932,0.630784708249497,0.6317907444668008,0.6327967806841046,0.6338028169014085,0.6348088531187123,0.635814889336016,0.6368209255533199,0.6378269617706237,0.6388329979879276,0.6398390342052314,0.6408450704225352,0.641851106639839,0.6428571428571429,0.6438631790744467,0.6448692152917505,0.6458752515090543,0.6468812877263581,0.647887323943662,0.6488933601609658,0.6498993963782697,0.6509054325955734,0.6519114688128773,0.6529175050301811,0.6539235412474849,0.6549295774647887,0.6559356136820925,0.6569416498993964,0.6579476861167002,0.6589537223340041,0.6599597585513078,0.6609657947686117,0.6619718309859155,0.6629778672032193,0.6639839034205232,0.6649899396378269,0.6659959758551308,0.6670020120724346,0.6680080482897385,0.6690140845070423,0.670020120724346,0.6710261569416499,0.6720321931589537,0.6730382293762576,0.6740442655935613,0.6750503018108652,0.676056338028169,0.6770623742454729,0.6780684104627767,0.6790744466800804,0.6800804828973843,0.6810865191146881,0.682092555331992,0.6830985915492958,0.6841046277665996,0.6851106639839034,0.6861167002012073,0.6871227364185111,0.6881287726358148,0.6891348088531187,0.6901408450704225,0.6911468812877264,0.6921529175050302,0.693158953722334,0.6941649899396378,0.6951710261569416,0.6961770623742455,0.6971830985915493,0.6981891348088531,0.6991951710261569,0.7002012072434608,0.7012072434607646,0.7022132796780685,0.7032193158953722,0.704225352112676,0.7052313883299799,0.7062374245472837,0.7072434607645876,0.7082494969818913,0.7092555331991952,0.710261569416499,0.7112676056338029,0.7122736418511066,0.7132796780684104,0.7142857142857143,0.7152917505030181,0.716297786720322,0.7173038229376257,0.7183098591549296,0.7193158953722334,0.7203219315895373,0.721327967806841,0.7223340040241448,0.7233400402414487,0.7243460764587525,0.7253521126760564,0.7263581488933601,0.727364185110664,0.7283702213279678,0.7293762575452716,0.7303822937625755,0.7313883299798792,0.7323943661971831,0.7334004024144869,0.7344064386317908,0.7354124748490946,0.7364185110663984,0.7374245472837022,0.738430583501006,0.7394366197183099,0.7404426559356136,0.7414486921529175,0.7424547283702213,0.7434607645875252,0.744466800804829,0.7454728370221329,0.7464788732394366,0.7474849094567404,0.7484909456740443,0.7494969818913481,0.7505030181086519,0.7515090543259557,0.7525150905432596,0.7535211267605634,0.7545271629778671,0.755533199195171,0.7565392354124748,0.7575452716297787,0.7585513078470825,0.7595573440643864,0.7605633802816901,0.761569416498994,0.7625754527162978,0.7635814889336016,0.7645875251509054,0.7655935613682092,0.7665995975855131,0.7676056338028169,0.7686116700201208,0.7696177062374245,0.7706237424547284,0.7716297786720322,0.772635814889336,0.7736418511066399,0.7746478873239436,0.7756539235412475,0.7766599597585513,0.7776659959758552,0.778672032193159,0.7796780684104627,0.7806841046277666,0.7816901408450704,0.7826961770623743,0.783702213279678,0.7847082494969819,0.7857142857142857,0.7867203219315896,0.7877263581488934,0.7887323943661971,0.789738430583501,0.7907444668008048,0.7917505030181087,0.7927565392354124,0.7937625754527163,0.7947686116700201,0.795774647887324,0.7967806841046278,0.7977867203219315,0.7987927565392354,0.7997987927565392,0.8008048289738431,0.8018108651911469,0.8028169014084507,0.8038229376257545,0.8048289738430584,0.8058350100603622,0.806841046277666,0.8078470824949698,0.8088531187122736,0.8098591549295775,0.8108651911468813,0.8118712273641852,0.8128772635814889,0.8138832997987927,0.8148893360160966,0.8158953722334004,0.8169014084507042,0.817907444668008,0.8189134808853119,0.8199195171026157,0.8209255533199196,0.8219315895372233,0.8229376257545271,0.823943661971831,0.8249496981891348,0.8259557344064387,0.8269617706237424,0.8279678068410463,0.8289738430583501,0.829979879275654,0.8309859154929577,0.8319919517102615,0.8329979879275654,0.8340040241448692,0.8350100603621731,0.8360160965794768,0.8370221327967807,0.8380281690140845,0.8390342052313883,0.8400402414486922,0.8410462776659959,0.8420523138832998,0.8430583501006036,0.8440643863179075,0.8450704225352113,0.8460764587525151,0.8470824949698189,0.8480885311871227,0.8490945674044266,0.8501006036217303,0.8511066398390342,0.852112676056338,0.8531187122736419,0.8541247484909457,0.8551307847082495,0.8561368209255533,0.8571428571428571,0.858148893360161,0.8591549295774648,0.8601609657947686,0.8611670020120724,0.8621730382293763,0.8631790744466801,0.864185110663984,0.8651911468812877,0.8661971830985915,0.8672032193158954,0.8682092555331992,0.869215291750503,0.8702213279678068,0.8712273641851107,0.8722334004024145,0.8732394366197183,0.8742454728370221,0.8752515090543259,0.8762575452716298,0.8772635814889336,0.8782696177062375,0.8792756539235412,0.8802816901408451,0.8812877263581489,0.8822937625754527,0.8832997987927566,0.8843058350100603,0.8853118712273642,0.886317907444668,0.8873239436619719,0.8883299798792756,0.8893360160965795,0.8903420523138833,0.8913480885311871,0.892354124748491,0.8933601609657947,0.8943661971830986,0.8953722334004024,0.8963782696177063,0.89738430583501,0.8983903420523138,0.8993963782696177,0.9004024144869215,0.9014084507042254,0.9024144869215291,0.903420523138833,0.9044265593561368,0.9054325955734407,0.9064386317907445,0.9074446680080482,0.9084507042253521,0.9094567404426559,0.9104627766599598,0.9114688128772636,0.9124748490945674,0.9134808853118712,0.9144869215291751,0.9154929577464789,0.9164989939637826,0.9175050301810865,0.9185110663983903,0.9195171026156942,0.920523138832998,0.9215291750503019,0.9225352112676056,0.9235412474849095,0.9245472837022133,0.9255533199195171,0.9265593561368209,0.9275653923541247,0.9285714285714286,0.9295774647887324,0.9305835010060363,0.93158953722334,0.9325955734406438,0.9336016096579477,0.9346076458752515,0.9356136820925554,0.9366197183098591,0.937625754527163,0.9386317907444668,0.9396378269617707,0.9406438631790744,0.9416498993963782,0.9426559356136821,0.9436619718309859,0.9446680080482898,0.9456740442655935,0.9466800804828974,0.9476861167002012,0.9486921529175051,0.9496981891348089,0.9507042253521126,0.9517102615694165,0.9527162977867203,0.9537223340040242,0.954728370221328,0.9557344064386318,0.9567404426559356,0.9577464788732394,0.9587525150905433,0.959758551307847,0.9607645875251509,0.9617706237424547,0.9627766599597586,0.9637826961770624,0.9647887323943662,0.96579476861167,0.9668008048289738,0.9678068410462777,0.9688128772635815,0.9698189134808853,0.9708249496981891,0.971830985915493,0.9728370221327968,0.9738430583501007,0.9748490945674044,0.9758551307847082,0.9768611670020121,0.9778672032193159,0.9788732394366197,0.9798792756539235,0.9808853118712274,0.9818913480885312,0.9828973843058351,0.9839034205231388,0.9849094567404426,0.9859154929577465,0.9869215291750503,0.9879275653923542,0.9889336016096579,0.9899396378269618,0.9909456740442656,0.9919517102615694,0.9929577464788732,0.993963782696177,0.9949698189134809,0.9959758551307847,0.9969818913480886,0.9979879275653923,0.9989939637826962,1.0],\"yaxis\":\"y3\",\"type\":\"scattergl\"}],                        {\"template\":{\"data\":{\"bar\":[{\"error_x\":{\"color\":\"#2a3f5f\"},\"error_y\":{\"color\":\"#2a3f5f\"},\"marker\":{\"line\":{\"color\":\"#E5ECF6\",\"width\":0.5},\"pattern\":{\"fillmode\":\"overlay\",\"size\":10,\"solidity\":0.2}},\"type\":\"bar\"}],\"barpolar\":[{\"marker\":{\"line\":{\"color\":\"#E5ECF6\",\"width\":0.5},\"pattern\":{\"fillmode\":\"overlay\",\"size\":10,\"solidity\":0.2}},\"type\":\"barpolar\"}],\"carpet\":[{\"aaxis\":{\"endlinecolor\":\"#2a3f5f\",\"gridcolor\":\"white\",\"linecolor\":\"white\",\"minorgridcolor\":\"white\",\"startlinecolor\":\"#2a3f5f\"},\"baxis\":{\"endlinecolor\":\"#2a3f5f\",\"gridcolor\":\"white\",\"linecolor\":\"white\",\"minorgridcolor\":\"white\",\"startlinecolor\":\"#2a3f5f\"},\"type\":\"carpet\"}],\"choropleth\":[{\"colorbar\":{\"outlinewidth\":0,\"ticks\":\"\"},\"type\":\"choropleth\"}],\"contour\":[{\"colorbar\":{\"outlinewidth\":0,\"ticks\":\"\"},\"colorscale\":[[0.0,\"#0d0887\"],[0.1111111111111111,\"#46039f\"],[0.2222222222222222,\"#7201a8\"],[0.3333333333333333,\"#9c179e\"],[0.4444444444444444,\"#bd3786\"],[0.5555555555555556,\"#d8576b\"],[0.6666666666666666,\"#ed7953\"],[0.7777777777777778,\"#fb9f3a\"],[0.8888888888888888,\"#fdca26\"],[1.0,\"#f0f921\"]],\"type\":\"contour\"}],\"contourcarpet\":[{\"colorbar\":{\"outlinewidth\":0,\"ticks\":\"\"},\"type\":\"contourcarpet\"}],\"heatmap\":[{\"colorbar\":{\"outlinewidth\":0,\"ticks\":\"\"},\"colorscale\":[[0.0,\"#0d0887\"],[0.1111111111111111,\"#46039f\"],[0.2222222222222222,\"#7201a8\"],[0.3333333333333333,\"#9c179e\"],[0.4444444444444444,\"#bd3786\"],[0.5555555555555556,\"#d8576b\"],[0.6666666666666666,\"#ed7953\"],[0.7777777777777778,\"#fb9f3a\"],[0.8888888888888888,\"#fdca26\"],[1.0,\"#f0f921\"]],\"type\":\"heatmap\"}],\"heatmapgl\":[{\"colorbar\":{\"outlinewidth\":0,\"ticks\":\"\"},\"colorscale\":[[0.0,\"#0d0887\"],[0.1111111111111111,\"#46039f\"],[0.2222222222222222,\"#7201a8\"],[0.3333333333333333,\"#9c179e\"],[0.4444444444444444,\"#bd3786\"],[0.5555555555555556,\"#d8576b\"],[0.6666666666666666,\"#ed7953\"],[0.7777777777777778,\"#fb9f3a\"],[0.8888888888888888,\"#fdca26\"],[1.0,\"#f0f921\"]],\"type\":\"heatmapgl\"}],\"histogram\":[{\"marker\":{\"pattern\":{\"fillmode\":\"overlay\",\"size\":10,\"solidity\":0.2}},\"type\":\"histogram\"}],\"histogram2d\":[{\"colorbar\":{\"outlinewidth\":0,\"ticks\":\"\"},\"colorscale\":[[0.0,\"#0d0887\"],[0.1111111111111111,\"#46039f\"],[0.2222222222222222,\"#7201a8\"],[0.3333333333333333,\"#9c179e\"],[0.4444444444444444,\"#bd3786\"],[0.5555555555555556,\"#d8576b\"],[0.6666666666666666,\"#ed7953\"],[0.7777777777777778,\"#fb9f3a\"],[0.8888888888888888,\"#fdca26\"],[1.0,\"#f0f921\"]],\"type\":\"histogram2d\"}],\"histogram2dcontour\":[{\"colorbar\":{\"outlinewidth\":0,\"ticks\":\"\"},\"colorscale\":[[0.0,\"#0d0887\"],[0.1111111111111111,\"#46039f\"],[0.2222222222222222,\"#7201a8\"],[0.3333333333333333,\"#9c179e\"],[0.4444444444444444,\"#bd3786\"],[0.5555555555555556,\"#d8576b\"],[0.6666666666666666,\"#ed7953\"],[0.7777777777777778,\"#fb9f3a\"],[0.8888888888888888,\"#fdca26\"],[1.0,\"#f0f921\"]],\"type\":\"histogram2dcontour\"}],\"mesh3d\":[{\"colorbar\":{\"outlinewidth\":0,\"ticks\":\"\"},\"type\":\"mesh3d\"}],\"parcoords\":[{\"line\":{\"colorbar\":{\"outlinewidth\":0,\"ticks\":\"\"}},\"type\":\"parcoords\"}],\"pie\":[{\"automargin\":true,\"type\":\"pie\"}],\"scatter\":[{\"marker\":{\"colorbar\":{\"outlinewidth\":0,\"ticks\":\"\"}},\"type\":\"scatter\"}],\"scatter3d\":[{\"line\":{\"colorbar\":{\"outlinewidth\":0,\"ticks\":\"\"}},\"marker\":{\"colorbar\":{\"outlinewidth\":0,\"ticks\":\"\"}},\"type\":\"scatter3d\"}],\"scattercarpet\":[{\"marker\":{\"colorbar\":{\"outlinewidth\":0,\"ticks\":\"\"}},\"type\":\"scattercarpet\"}],\"scattergeo\":[{\"marker\":{\"colorbar\":{\"outlinewidth\":0,\"ticks\":\"\"}},\"type\":\"scattergeo\"}],\"scattergl\":[{\"marker\":{\"colorbar\":{\"outlinewidth\":0,\"ticks\":\"\"}},\"type\":\"scattergl\"}],\"scattermapbox\":[{\"marker\":{\"colorbar\":{\"outlinewidth\":0,\"ticks\":\"\"}},\"type\":\"scattermapbox\"}],\"scatterpolar\":[{\"marker\":{\"colorbar\":{\"outlinewidth\":0,\"ticks\":\"\"}},\"type\":\"scatterpolar\"}],\"scatterpolargl\":[{\"marker\":{\"colorbar\":{\"outlinewidth\":0,\"ticks\":\"\"}},\"type\":\"scatterpolargl\"}],\"scatterternary\":[{\"marker\":{\"colorbar\":{\"outlinewidth\":0,\"ticks\":\"\"}},\"type\":\"scatterternary\"}],\"surface\":[{\"colorbar\":{\"outlinewidth\":0,\"ticks\":\"\"},\"colorscale\":[[0.0,\"#0d0887\"],[0.1111111111111111,\"#46039f\"],[0.2222222222222222,\"#7201a8\"],[0.3333333333333333,\"#9c179e\"],[0.4444444444444444,\"#bd3786\"],[0.5555555555555556,\"#d8576b\"],[0.6666666666666666,\"#ed7953\"],[0.7777777777777778,\"#fb9f3a\"],[0.8888888888888888,\"#fdca26\"],[1.0,\"#f0f921\"]],\"type\":\"surface\"}],\"table\":[{\"cells\":{\"fill\":{\"color\":\"#EBF0F8\"},\"line\":{\"color\":\"white\"}},\"header\":{\"fill\":{\"color\":\"#C8D4E3\"},\"line\":{\"color\":\"white\"}},\"type\":\"table\"}]},\"layout\":{\"annotationdefaults\":{\"arrowcolor\":\"#2a3f5f\",\"arrowhead\":0,\"arrowwidth\":1},\"autotypenumbers\":\"strict\",\"coloraxis\":{\"colorbar\":{\"outlinewidth\":0,\"ticks\":\"\"}},\"colorscale\":{\"diverging\":[[0,\"#8e0152\"],[0.1,\"#c51b7d\"],[0.2,\"#de77ae\"],[0.3,\"#f1b6da\"],[0.4,\"#fde0ef\"],[0.5,\"#f7f7f7\"],[0.6,\"#e6f5d0\"],[0.7,\"#b8e186\"],[0.8,\"#7fbc41\"],[0.9,\"#4d9221\"],[1,\"#276419\"]],\"sequential\":[[0.0,\"#0d0887\"],[0.1111111111111111,\"#46039f\"],[0.2222222222222222,\"#7201a8\"],[0.3333333333333333,\"#9c179e\"],[0.4444444444444444,\"#bd3786\"],[0.5555555555555556,\"#d8576b\"],[0.6666666666666666,\"#ed7953\"],[0.7777777777777778,\"#fb9f3a\"],[0.8888888888888888,\"#fdca26\"],[1.0,\"#f0f921\"]],\"sequentialminus\":[[0.0,\"#0d0887\"],[0.1111111111111111,\"#46039f\"],[0.2222222222222222,\"#7201a8\"],[0.3333333333333333,\"#9c179e\"],[0.4444444444444444,\"#bd3786\"],[0.5555555555555556,\"#d8576b\"],[0.6666666666666666,\"#ed7953\"],[0.7777777777777778,\"#fb9f3a\"],[0.8888888888888888,\"#fdca26\"],[1.0,\"#f0f921\"]]},\"colorway\":[\"#636efa\",\"#EF553B\",\"#00cc96\",\"#ab63fa\",\"#FFA15A\",\"#19d3f3\",\"#FF6692\",\"#B6E880\",\"#FF97FF\",\"#FECB52\"],\"font\":{\"color\":\"#2a3f5f\"},\"geo\":{\"bgcolor\":\"white\",\"lakecolor\":\"white\",\"landcolor\":\"#E5ECF6\",\"showlakes\":true,\"showland\":true,\"subunitcolor\":\"white\"},\"hoverlabel\":{\"align\":\"left\"},\"hovermode\":\"closest\",\"mapbox\":{\"style\":\"light\"},\"paper_bgcolor\":\"white\",\"plot_bgcolor\":\"#E5ECF6\",\"polar\":{\"angularaxis\":{\"gridcolor\":\"white\",\"linecolor\":\"white\",\"ticks\":\"\"},\"bgcolor\":\"#E5ECF6\",\"radialaxis\":{\"gridcolor\":\"white\",\"linecolor\":\"white\",\"ticks\":\"\"}},\"scene\":{\"xaxis\":{\"backgroundcolor\":\"#E5ECF6\",\"gridcolor\":\"white\",\"gridwidth\":2,\"linecolor\":\"white\",\"showbackground\":true,\"ticks\":\"\",\"zerolinecolor\":\"white\"},\"yaxis\":{\"backgroundcolor\":\"#E5ECF6\",\"gridcolor\":\"white\",\"gridwidth\":2,\"linecolor\":\"white\",\"showbackground\":true,\"ticks\":\"\",\"zerolinecolor\":\"white\"},\"zaxis\":{\"backgroundcolor\":\"#E5ECF6\",\"gridcolor\":\"white\",\"gridwidth\":2,\"linecolor\":\"white\",\"showbackground\":true,\"ticks\":\"\",\"zerolinecolor\":\"white\"}},\"shapedefaults\":{\"line\":{\"color\":\"#2a3f5f\"}},\"ternary\":{\"aaxis\":{\"gridcolor\":\"white\",\"linecolor\":\"white\",\"ticks\":\"\"},\"baxis\":{\"gridcolor\":\"white\",\"linecolor\":\"white\",\"ticks\":\"\"},\"bgcolor\":\"#E5ECF6\",\"caxis\":{\"gridcolor\":\"white\",\"linecolor\":\"white\",\"ticks\":\"\"}},\"title\":{\"x\":0.05},\"xaxis\":{\"automargin\":true,\"gridcolor\":\"white\",\"linecolor\":\"white\",\"ticks\":\"\",\"title\":{\"standoff\":15},\"zerolinecolor\":\"white\",\"zerolinewidth\":2},\"yaxis\":{\"automargin\":true,\"gridcolor\":\"white\",\"linecolor\":\"white\",\"ticks\":\"\",\"title\":{\"standoff\":15},\"zerolinecolor\":\"white\",\"zerolinewidth\":2}}},\"xaxis\":{\"anchor\":\"y\",\"domain\":[0.0,0.31999999999999995],\"title\":{\"text\":\"ups\"}},\"yaxis\":{\"anchor\":\"x\",\"domain\":[0.0,1.0],\"title\":{\"text\":\"probability\"},\"rangemode\":\"tozero\"},\"xaxis2\":{\"anchor\":\"y2\",\"domain\":[0.33999999999999997,0.6599999999999999],\"title\":{\"text\":\"ups\"}},\"yaxis2\":{\"anchor\":\"x2\",\"domain\":[0.0,1.0],\"matches\":\"y\",\"showticklabels\":false,\"rangemode\":\"tozero\"},\"xaxis3\":{\"anchor\":\"y3\",\"domain\":[0.6799999999999999,0.9999999999999999],\"title\":{\"text\":\"ups\"}},\"yaxis3\":{\"anchor\":\"x3\",\"domain\":[0.0,1.0],\"matches\":\"y\",\"showticklabels\":false,\"rangemode\":\"tozero\"},\"annotations\":[{\"font\":{},\"showarrow\":false,\"text\":\"r/news\",\"x\":0.15999999999999998,\"xanchor\":\"center\",\"xref\":\"paper\",\"y\":1.0,\"yanchor\":\"bottom\",\"yref\":\"paper\"},{\"font\":{},\"showarrow\":false,\"text\":\"r/science\",\"x\":0.49999999999999994,\"xanchor\":\"center\",\"xref\":\"paper\",\"y\":1.0,\"yanchor\":\"bottom\",\"yref\":\"paper\"},{\"font\":{},\"showarrow\":false,\"text\":\"r/worldnews\",\"x\":0.8399999999999999,\"xanchor\":\"center\",\"xref\":\"paper\",\"y\":1.0,\"yanchor\":\"bottom\",\"yref\":\"paper\"}],\"legend\":{\"tracegroupgap\":0},\"margin\":{\"t\":60},\"height\":400,\"width\":800},                        {\"responsive\": true}                    ).then(function(){\n",
       "                            \n",
       "var gd = document.getElementById('bd18a310-a0a8-4a59-b43d-8b770a04ecee');\n",
       "var x = new MutationObserver(function (mutations, observer) {{\n",
       "        var display = window.getComputedStyle(gd).display;\n",
       "        if (!display || display === 'none') {{\n",
       "            console.log([gd, 'removed!']);\n",
       "            Plotly.purge(gd);\n",
       "            observer.disconnect();\n",
       "        }}\n",
       "}});\n",
       "\n",
       "// Listen for the removal of the full notebook cells\n",
       "var notebookContainer = gd.closest('#notebook-container');\n",
       "if (notebookContainer) {{\n",
       "    x.observe(notebookContainer, {childList: true});\n",
       "}}\n",
       "\n",
       "// Listen for the clearing of the current output cell\n",
       "var outputEl = gd.closest('.output');\n",
       "if (outputEl) {{\n",
       "    x.observe(outputEl, {childList: true});\n",
       "}}\n",
       "\n",
       "                        })                };                            </script>        </div>\n",
       "</body>\n",
       "</html>"
      ]
     },
     "metadata": {},
     "output_type": "display_data"
    }
   ],
   "source": [
    "import plotly.express as px\n",
    "\n",
    "fig = px.ecdf(part2_data[part2_data.subreddit_name_prefixed.isin([\"r/news\",\"r/worldnews\",\"r/science\"])], \n",
    "              x=\"ups\",\n",
    "              facet_col='subreddit_name_prefixed',\n",
    "             height=400,width=800)\n",
    "fig.for_each_annotation(lambda a: a.update(text=a.text.split(\"=\")[-1]))\n",
    "fig.update_xaxes(matches=None)\n",
    "fig.show()"
   ]
  },
  {
   "cell_type": "markdown",
   "metadata": {
    "id": "fl4KHWVtE7Ur"
   },
   "source": [
    "### Temporal Trends \n",
    "\n",
    "To answer this question we are going to plot the average upvotes and number of top posts of a subreddit in our dataset per each year.\n",
    "\n",
    "First, add a ```year``` column to the data, that represents the year in which the post was sent. You likely want to use the [pandas documentation on dates and times](https://pandas.pydata.org/pandas-docs/stable/user_guide/timeseries.html) for this."
   ]
  },
  {
   "cell_type": "code",
   "execution_count": null,
   "metadata": {
    "id": "YUu6W14KE7Us"
   },
   "outputs": [],
   "source": [
    "# Add the year column\n",
    "from datetime import datetime\n",
    "year = [datetime.utcfromtimestamp(int(part2_data.created_utc[i])).strftime(\"%Y\") for i in range(len(part2_data))]\n",
    "part2_data['year'] = year"
   ]
  },
  {
   "cell_type": "code",
   "execution_count": null,
   "metadata": {
    "colab": {
     "base_uri": "https://localhost:8080/"
    },
    "id": "fWlB6R2X88WF",
    "outputId": "28272cfd-e9eb-458a-8c83-a2801293553f"
   },
   "outputs": [
    {
     "name": "stdout",
     "output_type": "stream",
     "text": [
      "r/news 0.8410462776659959\n",
      "r/worldnews 0.7907444668008048\n",
      "r/science 0.9848637739656912\n"
     ]
    }
   ],
   "source": [
    "# 2.2.3\n",
    "sub_reddits = [\"r/news\",\"r/worldnews\",\"r/science\"]\n",
    "for sr in sub_reddits:\n",
    "    \n",
    "    res = part2_data[part2_data.subreddit_name_prefixed.isin([sr])]['ups'].sort_values()\n",
    "    \n",
    "    print(sr,(res < 100000).sum()/len(res))"
   ]
  },
  {
   "cell_type": "code",
   "execution_count": null,
   "metadata": {
    "colab": {
     "base_uri": "https://localhost:8080/"
    },
    "id": "kEF_ir1c89zy",
    "outputId": "65a7665c-c9ff-4d18-d3b4-166c75003afa"
   },
   "outputs": [
    {
     "name": "stdout",
     "output_type": "stream",
     "text": [
      "r/news 0.7334004024144869\n",
      "r/worldnews 0.9678068410462777\n",
      "r/science 0.12613521695257315\n"
     ]
    }
   ],
   "source": [
    "# 2.2.4\n",
    "sub_reddits = [\"r/news\",\"r/worldnews\",\"r/science\"]\n",
    "for sr in sub_reddits:\n",
    "    \n",
    "    res = part2_data[part2_data.subreddit_name_prefixed.isin([sr])]['ups'].sort_values()\n",
    "    \n",
    "    print(sr,(res > 70000).sum()/len(res))"
   ]
  },
  {
   "cell_type": "markdown",
   "metadata": {
    "id": "wUTM3vMmE7Us"
   },
   "source": [
    "As a check on this column, answer the following question:\n",
    "- **2.2.5** - How many posts in the dataset were sent in 2010?"
   ]
  },
  {
   "cell_type": "code",
   "execution_count": null,
   "metadata": {
    "colab": {
     "base_uri": "https://localhost:8080/"
    },
    "id": "KDGQ-lU5E7Us",
    "outputId": "62f38d05-b4e1-4b06-856a-1cb6c31853d5"
   },
   "outputs": [
    {
     "name": "stdout",
     "output_type": "stream",
     "text": [
      "Number of posts sent in 2010 are 35\n"
     ]
    }
   ],
   "source": [
    "# Code for 2.2.5 here\n",
    "var = len(part2_data[part2_data.year == '2010'])\n",
    "print(f\"Number of posts sent in 2010 are {var}\")"
   ]
  },
  {
   "cell_type": "markdown",
   "metadata": {
    "id": "dWwjKHipE7Us"
   },
   "source": [
    "Now, we're going to plot the **yearly trend** of average upvotes for each subreddit.\n",
    "\n",
    "**Hint: We will assume that the average upvotes for a given subreddit in a given year is zero when there are no top posts for that subreddit in that year.** To accurately reflect this, you will have to make sure to account for this case.\n"
   ]
  },
  {
   "cell_type": "code",
   "execution_count": null,
   "metadata": {
    "colab": {
     "base_uri": "https://localhost:8080/"
    },
    "id": "oJ9tcB_PE7Us",
    "outputId": "abdf8dbc-3a7c-4229-a1d1-b91cc7814c36"
   },
   "outputs": [
    {
     "name": "stdout",
     "output_type": "stream",
     "text": [
      "     year subreddit_name_prefixed           ups\n",
      "0    2009                r/hockey      0.000000\n",
      "1    2009        r/PoliticalHumor      0.000000\n",
      "2    2009                  r/news      0.000000\n",
      "3    2009               r/science      0.000000\n",
      "4    2009        r/WritingPrompts      0.000000\n",
      "..    ...                     ...           ...\n",
      "331  2022        r/WritingPrompts      0.000000\n",
      "332  2022               r/science  47803.600000\n",
      "333  2022                  r/news  77173.866667\n",
      "334  2022                  r/food  29243.600000\n",
      "335  2022                r/hockey   7518.642857\n",
      "\n",
      "[336 rows x 3 columns]\n"
     ]
    }
   ],
   "source": [
    "from numpy.lib.function_base import disp\n",
    "# Hint: you do not have to use this function, but it may be useful for you\n",
    "from itertools import product\n",
    "\n",
    "# create the zeros dataframe\n",
    "merge_zeros = pd.DataFrame(product(part2_data.year.unique(), \n",
    "                     part2_data.subreddit_name_prefixed.unique()),\n",
    "                     columns =['year','subreddit_name_prefixed']\n",
    "                )\n",
    "merge_zeros['ups_with_zeros'] = 0\n",
    "\n",
    "# merge with the non-zero data ... you write this code ...\n",
    "temp = part2_data.groupby(['year','subreddit_name_prefixed']).agg({'ups':'mean'}).reset_index()\n",
    "#non_zero = pd.DataFrame(temp.ups.agg(['mean']))\n",
    "#print(temp.ups.agg(['mean']).to_string())\n",
    "new_data = pd.merge(merge_zeros,temp,how = 'left',on=['year','subreddit_name_prefixed']).sort_values('year',ascending = True)\n",
    "new_data = new_data.fillna(0).reset_index(drop=True)\n",
    "del new_data['ups_with_zeros']\n",
    "print(new_data)\n"
   ]
  },
  {
   "cell_type": "markdown",
   "metadata": {
    "id": "fPMKRW44E7Ut"
   },
   "source": [
    "As a check, please do the following:\n",
    "\n",
    "- **2.2.6** - In your report, provide a table (a screenshot of a pandas dataframe is fine) that shows the average number of upvotes for r/memes each year from 2015 to 2020. The table should be sorted by year (i.e. 2015, then 2016, etc.). Note again, if a year does not have data, there should be zeros in this table!"
   ]
  },
  {
   "cell_type": "code",
   "execution_count": null,
   "metadata": {
    "colab": {
     "base_uri": "https://localhost:8080/",
     "height": 238
    },
    "id": "5Nz7wAdWE7Ut",
    "outputId": "88e9a520-58d5-4121-b7cd-a40f72a8487f"
   },
   "outputs": [
    {
     "data": {
      "text/html": [
       "\n",
       "  <div id=\"df-75238693-5e03-483a-90d8-fec0ce7be637\">\n",
       "    <div class=\"colab-df-container\">\n",
       "      <div>\n",
       "<style scoped>\n",
       "    .dataframe tbody tr th:only-of-type {\n",
       "        vertical-align: middle;\n",
       "    }\n",
       "\n",
       "    .dataframe tbody tr th {\n",
       "        vertical-align: top;\n",
       "    }\n",
       "\n",
       "    .dataframe thead th {\n",
       "        text-align: right;\n",
       "    }\n",
       "</style>\n",
       "<table border=\"1\" class=\"dataframe\">\n",
       "  <thead>\n",
       "    <tr style=\"text-align: right;\">\n",
       "      <th></th>\n",
       "      <th>year</th>\n",
       "      <th>subreddit_name_prefixed</th>\n",
       "      <th>ups</th>\n",
       "    </tr>\n",
       "  </thead>\n",
       "  <tbody>\n",
       "    <tr>\n",
       "      <th>156</th>\n",
       "      <td>2015</td>\n",
       "      <td>r/memes</td>\n",
       "      <td>0.000000</td>\n",
       "    </tr>\n",
       "    <tr>\n",
       "      <th>177</th>\n",
       "      <td>2016</td>\n",
       "      <td>r/memes</td>\n",
       "      <td>0.000000</td>\n",
       "    </tr>\n",
       "    <tr>\n",
       "      <th>192</th>\n",
       "      <td>2017</td>\n",
       "      <td>r/memes</td>\n",
       "      <td>0.000000</td>\n",
       "    </tr>\n",
       "    <tr>\n",
       "      <th>235</th>\n",
       "      <td>2018</td>\n",
       "      <td>r/memes</td>\n",
       "      <td>131206.000000</td>\n",
       "    </tr>\n",
       "    <tr>\n",
       "      <th>255</th>\n",
       "      <td>2019</td>\n",
       "      <td>r/memes</td>\n",
       "      <td>135859.126984</td>\n",
       "    </tr>\n",
       "    <tr>\n",
       "      <th>272</th>\n",
       "      <td>2020</td>\n",
       "      <td>r/memes</td>\n",
       "      <td>141141.427305</td>\n",
       "    </tr>\n",
       "  </tbody>\n",
       "</table>\n",
       "</div>\n",
       "      <button class=\"colab-df-convert\" onclick=\"convertToInteractive('df-75238693-5e03-483a-90d8-fec0ce7be637')\"\n",
       "              title=\"Convert this dataframe to an interactive table.\"\n",
       "              style=\"display:none;\">\n",
       "        \n",
       "  <svg xmlns=\"http://www.w3.org/2000/svg\" height=\"24px\"viewBox=\"0 0 24 24\"\n",
       "       width=\"24px\">\n",
       "    <path d=\"M0 0h24v24H0V0z\" fill=\"none\"/>\n",
       "    <path d=\"M18.56 5.44l.94 2.06.94-2.06 2.06-.94-2.06-.94-.94-2.06-.94 2.06-2.06.94zm-11 1L8.5 8.5l.94-2.06 2.06-.94-2.06-.94L8.5 2.5l-.94 2.06-2.06.94zm10 10l.94 2.06.94-2.06 2.06-.94-2.06-.94-.94-2.06-.94 2.06-2.06.94z\"/><path d=\"M17.41 7.96l-1.37-1.37c-.4-.4-.92-.59-1.43-.59-.52 0-1.04.2-1.43.59L10.3 9.45l-7.72 7.72c-.78.78-.78 2.05 0 2.83L4 21.41c.39.39.9.59 1.41.59.51 0 1.02-.2 1.41-.59l7.78-7.78 2.81-2.81c.8-.78.8-2.07 0-2.86zM5.41 20L4 18.59l7.72-7.72 1.47 1.35L5.41 20z\"/>\n",
       "  </svg>\n",
       "      </button>\n",
       "      \n",
       "  <style>\n",
       "    .colab-df-container {\n",
       "      display:flex;\n",
       "      flex-wrap:wrap;\n",
       "      gap: 12px;\n",
       "    }\n",
       "\n",
       "    .colab-df-convert {\n",
       "      background-color: #E8F0FE;\n",
       "      border: none;\n",
       "      border-radius: 50%;\n",
       "      cursor: pointer;\n",
       "      display: none;\n",
       "      fill: #1967D2;\n",
       "      height: 32px;\n",
       "      padding: 0 0 0 0;\n",
       "      width: 32px;\n",
       "    }\n",
       "\n",
       "    .colab-df-convert:hover {\n",
       "      background-color: #E2EBFA;\n",
       "      box-shadow: 0px 1px 2px rgba(60, 64, 67, 0.3), 0px 1px 3px 1px rgba(60, 64, 67, 0.15);\n",
       "      fill: #174EA6;\n",
       "    }\n",
       "\n",
       "    [theme=dark] .colab-df-convert {\n",
       "      background-color: #3B4455;\n",
       "      fill: #D2E3FC;\n",
       "    }\n",
       "\n",
       "    [theme=dark] .colab-df-convert:hover {\n",
       "      background-color: #434B5C;\n",
       "      box-shadow: 0px 1px 3px 1px rgba(0, 0, 0, 0.15);\n",
       "      filter: drop-shadow(0px 1px 2px rgba(0, 0, 0, 0.3));\n",
       "      fill: #FFFFFF;\n",
       "    }\n",
       "  </style>\n",
       "\n",
       "      <script>\n",
       "        const buttonEl =\n",
       "          document.querySelector('#df-75238693-5e03-483a-90d8-fec0ce7be637 button.colab-df-convert');\n",
       "        buttonEl.style.display =\n",
       "          google.colab.kernel.accessAllowed ? 'block' : 'none';\n",
       "\n",
       "        async function convertToInteractive(key) {\n",
       "          const element = document.querySelector('#df-75238693-5e03-483a-90d8-fec0ce7be637');\n",
       "          const dataTable =\n",
       "            await google.colab.kernel.invokeFunction('convertToInteractive',\n",
       "                                                     [key], {});\n",
       "          if (!dataTable) return;\n",
       "\n",
       "          const docLinkHtml = 'Like what you see? Visit the ' +\n",
       "            '<a target=\"_blank\" href=https://colab.research.google.com/notebooks/data_table.ipynb>data table notebook</a>'\n",
       "            + ' to learn more about interactive tables.';\n",
       "          element.innerHTML = '';\n",
       "          dataTable['output_type'] = 'display_data';\n",
       "          await google.colab.output.renderOutput(dataTable, element);\n",
       "          const docLink = document.createElement('div');\n",
       "          docLink.innerHTML = docLinkHtml;\n",
       "          element.appendChild(docLink);\n",
       "        }\n",
       "      </script>\n",
       "    </div>\n",
       "  </div>\n",
       "  "
      ],
      "text/plain": [
       "     year subreddit_name_prefixed            ups\n",
       "156  2015                 r/memes       0.000000\n",
       "177  2016                 r/memes       0.000000\n",
       "192  2017                 r/memes       0.000000\n",
       "235  2018                 r/memes  131206.000000\n",
       "255  2019                 r/memes  135859.126984\n",
       "272  2020                 r/memes  141141.427305"
      ]
     },
     "execution_count": 29,
     "metadata": {},
     "output_type": "execute_result"
    }
   ],
   "source": [
    "# Code for 2.2.6 here\n",
    "new_data[(new_data['subreddit_name_prefixed'] == 'r/memes') & (new_data['year'].isin(['2015','2016','2017','2018','2019','2020']))]"
   ]
  },
  {
   "cell_type": "markdown",
   "metadata": {
    "id": "bvV49AwbE7Ut"
   },
   "source": [
    "- **2.2.7** - Plot a line graph of the temporal trend of mean upvotes from 2016-2020 for the following subreddits: r/Jokes, r/food,r/conspiracy, and r/news . You can plot them individually, or use the faceting approach from above. Write your code for this in the cell below; copy the resulting plot to your PDF report. **Hint: Doing part 2.2.8 will be easiest if you make sure that the plot for each subreddit has its own y-axis!**. \n",
    "- **2.2.8** - Using what you have plotted, make an argument for which of the four subreddits is the most \"up and coming\" - i.e. the one that seems to be getting more popular over time. NOTE: There is more than one reasonable answer here. We are looking for how you justify your answer using the (plotted) data."
   ]
  },
  {
   "cell_type": "code",
   "execution_count": null,
   "metadata": {
    "colab": {
     "base_uri": "https://localhost:8080/",
     "height": 431
    },
    "id": "Ldfv_RQDE7Ut",
    "outputId": "7d9634cd-1600-49ac-8046-f36f97866825"
   },
   "outputs": [
    {
     "data": {
      "image/png": "[encoded data removed]",
      "text/plain": [
       "<Figure size 504x504 with 1 Axes>"
      ]
     },
     "metadata": {},
     "output_type": "display_data"
    }
   ],
   "source": [
    "# Code for 2.2.7 here\n",
    "from matplotlib import pyplot as plt \n",
    "sub_reddits = ['r/Jokes','r/food','r/conspiracy', 'r/news']\n",
    "fig = plt.figure(figsize=(7,7))\n",
    "ax = fig.add_subplot(111)\n",
    "\n",
    "for sr in sub_reddits:\n",
    "    filtered_data = part2_data[(part2_data['subreddit_name_prefixed'] == sr) & (part2_data.year.astype(int).isin([2016,2017,2018,2019,2020]))]\n",
    "#     print(len(filtered_data))\n",
    "    grouped_data = filtered_data.groupby('year').ups.mean()\n",
    "    ax.plot(grouped_data.index,grouped_data.values,label = sr)\n",
    "\n",
    "ax.legend()\n",
    "plt.show()"
   ]
  },
  {
   "cell_type": "markdown",
   "metadata": {
    "id": "QSI1svWPE7Ut"
   },
   "source": [
    "## Part 2.3 - Data Cleaning and some final regression-oriented data exploration\n",
    "\n",
    "With the above analysis, we've learned some things about what predicts upvotes:\n",
    "- Which subreddit the post is in is seems to matter quite a bit for the number of upvotes\n",
    "- Time: there are temporal trends, although separate for each subreddit, that seem to be predictive\n",
    "\n",
    "As we gear up to create our linear regression model to try to predict the number of upvotes for posts, we are going to turn to two last steps:\n",
    "1. Data cleaning - we're going to take a look at some bivariate statistics, which are going to reveal some columns in our data that are not useful.  We'll then remove them.\n",
    "2. Looking at univariate relationships with our outcome - we are going to plot relationships between a few of the remaining interesting continuous variables and our outcome of interest (upvotes)\n",
    "\n",
    "\n",
    "### Cleaning our data\n",
    "\n",
    "Below, we list the columns of our dataset..."
   ]
  },
  {
   "cell_type": "code",
   "execution_count": null,
   "metadata": {
    "colab": {
     "base_uri": "https://localhost:8080/"
    },
    "id": "OjfCuTkyE7Ut",
    "outputId": "c1c93aca-66cb-412c-fa19-3b3b3d2a02c8"
   },
   "outputs": [
    {
     "data": {
      "text/plain": [
       "Index(['created_utc', 'is_crosspostable', 'is_self', 'is_video', 'locked',\n",
       "       'media_only', 'over_18', 'score', 'subreddit_id',\n",
       "       'subreddit_name_prefixed', 'subreddit_subscribers', 'title',\n",
       "       'permalink', 'total_awards_received', 'downs', 'gilded', 'num_comments',\n",
       "       'num_crossposts', 'num_reports', 'ups', 'author_name', 'year'],\n",
       "      dtype='object')"
      ]
     },
     "execution_count": 31,
     "metadata": {},
     "output_type": "execute_result"
    }
   ],
   "source": [
    "part2_data.columns"
   ]
  },
  {
   "cell_type": "markdown",
   "metadata": {
    "id": "d4UN_BafE7Uu"
   },
   "source": [
    "Let's start by looking at the continuous variables. Those are:\n",
    "- ```total_awards_received```\n",
    "- ```downs```\n",
    "- ```gilded```\n",
    "- ```num_comments```\n",
    "- ```num_crossposts```\n",
    "- ```num_reports```\n",
    "- ```created_utc```\n",
    "- ```subreddit_subscribers```\n",
    "\n",
    "- **2.3.1**-  There are two continuous variables that are very clearly not going to be useful for our analysis. Identify them, and explain why they are not useful (**note: you do NOT need to know why these variables take on the values they do in our data. You just need to know why we don't want to use them!**)\n",
    "\n",
    "Let's now look at our (supposedly) binary categorical variables:\n",
    "- ```is_crosspostable```\n",
    "- ```is_self```\n",
    "- ```media_only```\n",
    "- ```is_video```\n",
    "- ```locked```\n",
    "- ```over_18```\n",
    "\n",
    "- **2.3.2**-  There are two (supposedly) binary variables that are very clearly not going to be useful for our analysis. Identify them, and explain why they are not useful (**note: you do NOT need to know why these variables take on the values they do in our data. You just need to know why we don't want to use them!**)\n",
    "\n",
    "Finally, let's look at our remaining variables, which are categorical. One of these, ```title``` (the post's title), is potentially a *very* useful feature... but we haven't yet learned how to use it. So, for now, we're not going to.  The other categorical features are:\n",
    "- ```subreddit_id```\n",
    "- ```subreddit_name_prefixed```\n",
    "- ```permalink```\n",
    "\n",
    "- **2.3.3** -  Explain why we it is not useful to use *both* ```subreddit_id``` and ```subreddit_name_prefixed``` in any predictive analysis of per-post upvotes.\n",
    "- **2.3.4** - Explain why it is not useful to use ```permalink``` in any predictive analysis of per-post upvotes.\n"
   ]
  },
  {
   "cell_type": "code",
   "execution_count": null,
   "metadata": {
    "colab": {
     "base_uri": "https://localhost:8080/"
    },
    "id": "VH-ySySO-lZ1",
    "outputId": "440c0041-c58b-408e-9ecb-fb414fbfbdf9"
   },
   "outputs": [
    {
     "name": "stdout",
     "output_type": "stream",
     "text": [
      "<class 'pandas.core.frame.DataFrame'>\n",
      "RangeIndex: 22968 entries, 0 to 22967\n",
      "Data columns (total 22 columns):\n",
      " #   Column                   Non-Null Count  Dtype  \n",
      "---  ------                   --------------  -----  \n",
      " 0   created_utc              22968 non-null  float64\n",
      " 1   is_crosspostable         22968 non-null  bool   \n",
      " 2   is_self                  22968 non-null  bool   \n",
      " 3   is_video                 22968 non-null  bool   \n",
      " 4   locked                   22968 non-null  bool   \n",
      " 5   media_only               22968 non-null  bool   \n",
      " 6   over_18                  22968 non-null  bool   \n",
      " 7   score                    22968 non-null  int64  \n",
      " 8   subreddit_id             22968 non-null  object \n",
      " 9   subreddit_name_prefixed  22968 non-null  object \n",
      " 10  subreddit_subscribers    22968 non-null  int64  \n",
      " 11  title                    22968 non-null  object \n",
      " 12  permalink                22968 non-null  object \n",
      " 13  total_awards_received    22968 non-null  int64  \n",
      " 14  downs                    22968 non-null  int64  \n",
      " 15  gilded                   22968 non-null  int64  \n",
      " 16  num_comments             22968 non-null  int64  \n",
      " 17  num_crossposts           22968 non-null  int64  \n",
      " 18  num_reports              0 non-null      float64\n",
      " 19  ups                      22968 non-null  int64  \n",
      " 20  author_name              21900 non-null  object \n",
      " 21  year                     22968 non-null  object \n",
      "dtypes: bool(6), float64(2), int64(8), object(6)\n",
      "memory usage: 2.9+ MB\n"
     ]
    }
   ],
   "source": [
    "part2_data.info()"
   ]
  },
  {
   "cell_type": "code",
   "execution_count": null,
   "metadata": {
    "colab": {
     "base_uri": "https://localhost:8080/"
    },
    "id": "xC0DC_qnjR1Z",
    "outputId": "176d2a6d-3a87-4e09-d1a2-39c38993b9bf"
   },
   "outputs": [
    {
     "data": {
      "text/plain": [
       "Index(['is_crosspostable', 'is_self', 'is_video', 'locked', 'media_only',\n",
       "       'over_18'],\n",
       "      dtype='object')"
      ]
     },
     "execution_count": 60,
     "metadata": {},
     "output_type": "execute_result"
    }
   ],
   "source": [
    "part2_data.columns[part2_data.dtypes == 'bool']"
   ]
  },
  {
   "cell_type": "code",
   "execution_count": null,
   "metadata": {
    "id": "5r4s_xDa-o6m"
   },
   "outputs": [],
   "source": [
    "# 2.3.1\n",
    "# There are two continuous variables that are very clearly \n",
    "# not going to be useful for our analysis.\n",
    "# Identify them, and explain why they are not useful \n",
    "# (note: you do NOT need to know why these variables\n",
    "#  take on the values they do in our data.\n",
    "#  You just need to know why we don't want to use them!)\n",
    "\n",
    "not_useful_cols = ['created_utc', 'num_reports']"
   ]
  },
  {
   "cell_type": "code",
   "execution_count": null,
   "metadata": {
    "colab": {
     "base_uri": "https://localhost:8080/"
    },
    "id": "FhRuCTkP0mUJ",
    "outputId": "f3b7458a-193c-4601-917c-de5434bb3e3f"
   },
   "outputs": [
    {
     "data": {
      "text/plain": [
       "created_utc                22966\n",
       "is_crosspostable               1\n",
       "is_self                        2\n",
       "is_video                       2\n",
       "locked                         2\n",
       "media_only                     1\n",
       "over_18                        2\n",
       "score                      20412\n",
       "subreddit_id                  24\n",
       "subreddit_name_prefixed       24\n",
       "subreddit_subscribers         75\n",
       "title                      22773\n",
       "permalink                  22968\n",
       "total_awards_received        840\n",
       "downs                          1\n",
       "gilded                        39\n",
       "num_comments                5172\n",
       "num_crossposts               128\n",
       "num_reports                    0\n",
       "ups                        20412\n",
       "author_name                15617\n",
       "year                          14\n",
       "dtype: int64"
      ]
     },
     "execution_count": 63,
     "metadata": {},
     "output_type": "execute_result"
    }
   ],
   "source": [
    "part2_data.apply(lambda x: x.nunique())"
   ]
  },
  {
   "cell_type": "code",
   "execution_count": null,
   "metadata": {
    "colab": {
     "base_uri": "https://localhost:8080/"
    },
    "id": "_8Wh5pUx1fxF",
    "outputId": "b6ddb7b5-2312-4627-ee38-893283d9b812"
   },
   "outputs": [
    {
     "data": {
      "text/plain": [
       "(0, 0)"
      ]
     },
     "execution_count": 65,
     "metadata": {},
     "output_type": "execute_result"
    }
   ],
   "source": [
    "part2_data.is_crosspostable.sum(), part2_data.media_only.sum(),"
   ]
  },
  {
   "cell_type": "markdown",
   "metadata": {
    "id": "1c04kKOnE7Uu"
   },
   "source": [
    "## Univariate relationships with the outcome\n",
    "\n",
    "- **2.3.5** - Plot the relationship between ```num_comments``` and upvotes as a scatterplot with log-scaled axes, with the posts from different subreddits as different color points. Paste this plot into your PDF writeup\n",
    "\n",
    "- **2.3.6** - Describe, briefly (a sentence) the relationship between ```num_comments``` and upvotes.\n"
   ]
  },
  {
   "cell_type": "code",
   "execution_count": null,
   "metadata": {
    "colab": {
     "base_uri": "https://localhost:8080/",
     "height": 647
    },
    "id": "OYGQFooEE7Uu",
    "outputId": "8b0cc559-a38b-4cd4-8652-c69a2720f0d3"
   },
   "outputs": [
    {
     "data": {
      "image/png": "[encoded data removed]",
      "text/plain": [
       "<Figure size 792x792 with 1 Axes>"
      ]
     },
     "metadata": {},
     "output_type": "display_data"
    }
   ],
   "source": [
    "# Code for 2.3.5 here\n",
    "sub_reddits = part2_data.subreddit_name_prefixed.unique()\n",
    "fig = plt.figure(figsize=(11,11))\n",
    "ax = fig.add_subplot(111)\n",
    "\n",
    "for sr in sub_reddits:\n",
    "    \n",
    "    \n",
    "    \n",
    "    filtered_data = part2_data[(part2_data['subreddit_name_prefixed'] == sr)][['num_comments','ups']]\n",
    "#     print(len(filtered_data))\n",
    "#     grouped_data = filtered_data.groupby('year').ups.mean()\n",
    "    ax.scatter(np.log1p(filtered_data.num_comments),np.log1p(filtered_data.ups),label = sr, s= 5)\n",
    "\n",
    "ax.legend()\n",
    "plt.show()"
   ]
  },
  {
   "cell_type": "markdown",
   "metadata": {
    "id": "m62wvBiBE7Uu"
   },
   "source": [
    "Compute the [Pearson correlation](https://pandas.pydata.org/docs/reference/api/pandas.Series.corr.html#pandas.Series.corr) between ```ups``` and all other continuous variables (minus those you identified as not interesting in 2.3.1).\n",
    "\n",
    "- **2.3.7** - Which of these has the strongest positive correlation with ```ups```?\n",
    "- **2.3.8** - Which of these has the weakest positive correlation with ```ups```?"
   ]
  },
  {
   "cell_type": "code",
   "execution_count": null,
   "metadata": {
    "colab": {
     "base_uri": "https://localhost:8080/"
    },
    "id": "wAXEnN_KE7Uv",
    "outputId": "f2d02940-5905-43fd-9988-a7e18e7cebb3"
   },
   "outputs": [
    {
     "data": {
      "text/plain": [
       "is_self                 -0.304817\n",
       "over_18                 -0.032957\n",
       "locked                  -0.001846\n",
       "is_video                 0.156126\n",
       "created_utc              0.165471\n",
       "gilded                   0.228103\n",
       "num_comments             0.330700\n",
       "total_awards_received    0.388154\n",
       "subreddit_subscribers    0.410248\n",
       "num_crossposts           0.537982\n",
       "score                    1.000000\n",
       "ups                      1.000000\n",
       "is_crosspostable              NaN\n",
       "media_only                    NaN\n",
       "downs                         NaN\n",
       "num_reports                   NaN\n",
       "Name: ups, dtype: float64"
      ]
     },
     "execution_count": 24,
     "metadata": {},
     "output_type": "execute_result"
    }
   ],
   "source": [
    "# Code for 2.3.7-8 here\n",
    "part2_data.corr()['ups'].sort_values()"
   ]
  },
  {
   "cell_type": "markdown",
   "metadata": {
    "id": "IdDcThV1E7Uv"
   },
   "source": [
    "# Part 3 - Linear Regression\n",
    "\n",
    "OK! We've got a decent handle on our data, and we're ready to do some learning. \n",
    "\n",
    "We're going to use a linear regression model to predict the number of upvotes.\n",
    "\n",
    "## Part 3.1 - Regression to predict ```ups```\n",
    "\n",
    "You will need to write code that does the following:\n",
    "\n",
    "1. Recreates (if you did not already store it in your dataset) a variable for the year a post was sent in. Now, create a column ```year```, which. Then, subsets your data to only posts from 2015-2021 (inclusive).\n",
    "\n",
    "2. Creates a feature matrix, ```X```, that contains features for the following variables:\n",
    "- ```total_awards_received```\n",
    "- ```gilded```\n",
    "- ```num_comments```\n",
    "- ```num_crossposts```\n",
    "- ```year```\n",
    "- ```is_self```\n",
    "- ```is_video```\n",
    "- ```locked```\n",
    "- ```over_18```\n",
    "- ```subreddit_name_prefixed```\n",
    "\n",
    "3. Creates an outcome variable, ```y```, that is **the logarithm of** ```ups +1```.\n",
    "4. Splits the data into train and test (80% training, 20% testing) using the relevant ```sklearn``` function. **We have written this line of code for you below, please do not change the random state!**\n",
    "5. Trains a linear regression model on the training data\n",
    "6. Evaluates the model you have trained on the test set, using ```RMSE``` as an error metric. **You should calculate this error using ONLY ```pandas``` and/or ```numpy```, not ```sklearn```.**\n",
    "7. Prints the error\n",
    "\n",
    "A few useful hints:\n",
    "- You cannot use ```subreddit_name_prefixed``` as is, you have to transform it somehow. We have suggested a tool to do so below (the ```OneHotEncoder```)\n",
    "- You also need to transform any boolean variables to 0/1 encodings\n"
   ]
  },
  {
   "cell_type": "code",
   "execution_count": null,
   "metadata": {
    "id": "bjffJphfE7Uw"
   },
   "outputs": [],
   "source": [
    "# Lets just reload the data in to make sure we're all starting fresh!\n",
    "part3_data = pd.read_csv(\"part2_data.csv\")\n",
    "\n",
    "\n",
    "from datetime import datetime\n",
    "year = [datetime.utcfromtimestamp(int(part3_data.created_utc[i])).strftime(\"%Y\") for i in range(len(part3_data))]\n",
    "part3_data['year'] = year\n",
    "part3_data['year'] = part3_data['year'].astype(int)\n",
    "\n",
    "part3_data = part3_data[(part3_data['year'] >=2015) & (part3_data['year'] <=2021)]"
   ]
  },
  {
   "cell_type": "code",
   "execution_count": null,
   "metadata": {
    "id": "KqlC6GYwE7Uw"
   },
   "outputs": [],
   "source": [
    "## NOTE: Typically we would not rescale a time variable, but it's fine for this assignment.\n",
    "CONTINUOUS_VARS = [\n",
    "    \"total_awards_received\", \"gilded\", \"num_comments\", \"num_crossposts\",\n",
    "    \"created_utc\"\n",
    "                  ]\n",
    "BINARY_VARS = [\"is_self\", \"is_video\", \"locked\", \"over_18\"]\n",
    "\n",
    "CATEGORICAL_VARS = ['year','subreddit_name_prefixed']\n",
    "\n",
    "\n",
    "for var in BINARY_VARS:\n",
    "    # Write your code here to make sure the boolean variables are formatted as integers, as is required by sklearn\n",
    "    part3_data[var] = part3_data[var].astype(int)\n",
    "    "
   ]
  },
  {
   "cell_type": "code",
   "execution_count": null,
   "metadata": {
    "id": "5k9CocdeE7Uw"
   },
   "outputs": [],
   "source": [
    "from sklearn.preprocessing import OneHotEncoder\n",
    "\n",
    "def onehot_encode_var(data, varname):\n",
    "    # This function should take in a variable name in part3_data and return a onehot encoded matrix for that variable\n",
    "    \n",
    "    # Here's a starting point!\n",
    "    encoder = OneHotEncoder(\n",
    "        drop = \"first\",\n",
    "        categories='auto')\n",
    "    onehot_encoded_variable = encoder.fit_transform(data[varname]).toarray()\n",
    "    \n",
    "\n",
    "# Which enables you to name your columns like you wanted:\n",
    "\n",
    "#     features = pd.DataFrame(feature_arr, columns=feature_labels)\n",
    "\n",
    "#     import pandas as pd\n",
    "#     onehot_encoded_variable = pd.get_dummies(data[varname])\n",
    "    \n",
    "    \n",
    "    # return the onehot encoded variable\n",
    "    return onehot_encoded_variable, encoder.categories_"
   ]
  },
  {
   "cell_type": "code",
   "execution_count": null,
   "metadata": {
    "colab": {
     "base_uri": "https://localhost:8080/"
    },
    "id": "BZ4Ml-96E7Ux",
    "outputId": "9dd18dfb-122c-4c97-b8c9-036fd246468c"
   },
   "outputs": [
    {
     "name": "stdout",
     "output_type": "stream",
     "text": [
      "0.32215056739370984\n"
     ]
    }
   ],
   "source": [
    "# OK, now we're going to write our code to run the model!\n",
    "from sklearn.linear_model import LinearRegression\n",
    "from sklearn.preprocessing import StandardScaler\n",
    "from sklearn.model_selection import train_test_split\n",
    "\n",
    "# First, rescale the continuous variables\n",
    "continuous_rescaled_X = StandardScaler().fit_transform(part3_data[CONTINUOUS_VARS].values)\n",
    "\n",
    "# Now, we can use our function above to get the onehotencoding for the subreddits ... go ahead!\n",
    "categorical_X, feature_labels =  onehot_encode_var(part3_data, CATEGORICAL_VARS)\n",
    "\n",
    "# Now you can combine all of your features into a single feature matrix. Call it X\n",
    "binary_X = part3_data[BINARY_VARS]\n",
    "\n",
    "X = np.concatenate((continuous_rescaled_X,categorical_X, binary_X), axis=1)\n",
    "\n",
    "# And create your outcome variable, call it y\n",
    "y = np.log1p(part3_data['ups'].values)\n",
    "\n",
    "\n",
    "# Don't change this line!\n",
    "X_train, X_test, y_train, y_test = train_test_split(X, y, \n",
    "                                                    test_size=0.2, \n",
    "                                                    random_state=1)\n",
    "\n",
    "# fit a linear regression model, with an intercept\n",
    "lnr_mdl = LinearRegression(fit_intercept = True)\n",
    "lnr_mdl.fit(X_train,y_train)\n",
    "\n",
    "preds = lnr_mdl.predict(X_test)\n",
    "\n",
    "abs_diff = abs(preds-y_test)\n",
    "\n",
    "rmse_calc = np.sqrt(np.mean(np.square(preds - y_test)))\n",
    "\n",
    "# Compute RMSE\n",
    "print(rmse_calc)"
   ]
  },
  {
   "cell_type": "code",
   "execution_count": null,
   "metadata": {
    "colab": {
     "base_uri": "https://localhost:8080/",
     "height": 286
    },
    "id": "6YqifjsO7cQe",
    "outputId": "c0740ece-d309-41ad-a4a7-cf049427936d"
   },
   "outputs": [
    {
     "data": {
      "text/plain": [
       "<matplotlib.axes._subplots.AxesSubplot at 0x7f10a66a2510>"
      ]
     },
     "execution_count": 11,
     "metadata": {},
     "output_type": "execute_result"
    },
    {
     "data": {
      "image/png": "[encoded data removed]",
      "text/plain": [
       "<Figure size 432x288 with 1 Axes>"
      ]
     },
     "metadata": {},
     "output_type": "display_data"
    }
   ],
   "source": [
    "sns.histplot(abs_diff)"
   ]
  },
  {
   "cell_type": "code",
   "execution_count": null,
   "metadata": {
    "colab": {
     "base_uri": "https://localhost:8080/"
    },
    "id": "0sxAPav5Z4FL",
    "outputId": "5cbf12ba-3317-415c-febb-253e3ec657e8"
   },
   "outputs": [
    {
     "data": {
      "text/plain": [
       "count    4513.000000\n",
       "mean        0.207707\n",
       "std         0.246277\n",
       "min         0.000048\n",
       "25%         0.076057\n",
       "50%         0.154858\n",
       "75%         0.272233\n",
       "max         8.387956\n",
       "dtype: float64"
      ]
     },
     "execution_count": 12,
     "metadata": {},
     "output_type": "execute_result"
    }
   ],
   "source": [
    "pd.Series(abs_diff).describe()"
   ]
  },
  {
   "cell_type": "markdown",
   "metadata": {
    "id": "WtFgNrPXE7Ux"
   },
   "source": [
    "### Questions to check understanding\n",
    "\n",
    "- **3.1.1** - Report your error on the test data, in RMSE. State what this metric means for the expected error in terms of the number of upvotes (not log upvotes!) you should expect to be off on any given prediction\n",
    "\n",
    "Also, a few questions to target your understanding of how we set up the model:\n",
    "- **3.1.2** - What did the whole one-hot encoding thing on ```subreddit_name_prefixed``` actually do? \n",
    "- **3.1.3** - What does the argument ```drop = \"first\"``` do for us when we are doing that to ```subreddit_name_prefixed```?\n",
    "- **3.1.3** - Why did we need to add one to the outcome variable before using ```log```?\n",
    "- **3.1.4** - What does the ```StandardScaler``` do? Why do we want to do that?\n",
    "\n",
    "\n",
    "OK. Having looked at our RMSE, we should now realize that we have to be careful about assuming that this one statistic is actually a good estimate of how far we're going to be off on any prediction, selected at random. To see this, let's do the following:\n",
    "- **3.1.5** - Provide a scatterplot that compares the true values in ```y_test``` to the absolute value of the difference between ```y_test``` and your predictions. **The axes should be on the original scale** (i.e. not the log scale you're predicting on.\n",
    "- **3.1.6** - What does this plot suggest about how well your model fits the data as the true number of upvotes changes? \n"
   ]
  },
  {
   "cell_type": "code",
   "execution_count": null,
   "metadata": {
    "colab": {
     "base_uri": "https://localhost:8080/",
     "height": 502
    },
    "id": "3Vcqx8lwE7Uy",
    "outputId": "85eab9bd-2acb-4492-e115-56cd5f34ee11"
   },
   "outputs": [
    {
     "data": {
      "image/png": "[encoded data removed]",
      "text/plain": [
       "<Figure size 720x576 with 1 Axes>"
      ]
     },
     "metadata": {},
     "output_type": "display_data"
    }
   ],
   "source": [
    "# Code for 3.1.5 here\n",
    "from matplotlib import pyplot as plt \n",
    "actual_preds = np.exp(preds) - 1\n",
    "\n",
    "fig = plt.figure(figsize=(10,8))\n",
    "ax = fig.add_subplot(111)\n",
    "ax.scatter(np.exp(y_test) -1, actual_preds, s= 10, alpha=0.2)\n",
    "ax.set_xlabel('Actual Values')\n",
    "ax.set_ylabel('Predicted Values')\n",
    "\n",
    "# ax.legend()\n",
    "plt.show()"
   ]
  },
  {
   "cell_type": "markdown",
   "metadata": {
    "id": "u6SxcGl_E7Uy"
   },
   "source": [
    "One final thing we are going to play with in 3.1. Logging the dependent variable is useful for a few reasons we have or will discuss in class (depending on when you're reading this). But it's also sometimes useful to log *independent* variables as well. Below, redo the same analysis as above, but after logging the non-temporal continuous variables (i.e. all the continuous variables except ```created_utc```). Use these as predictors instead of the original continuous variables. **Note: Perform the logging before you rescale the variables. Also, you should add 1 as we did for the dependent variable above**.\n",
    "\n",
    "- **3.1.7** - What is the new RMSE with the logged independent variables?\n",
    "- **3.1.8** - How did this compare to the old RMSE? Why do you think that is? Hint: It may help to re-plot the same figure as you did in 3.1.5, but with the new model, in order to answer this question.\n"
   ]
  },
  {
   "cell_type": "code",
   "execution_count": null,
   "metadata": {
    "colab": {
     "base_uri": "https://localhost:8080/"
    },
    "id": "QpltONFcE7Uz",
    "outputId": "1589625e-719c-4f58-9a2d-e9fe0cb49e06"
   },
   "outputs": [
    {
     "name": "stdout",
     "output_type": "stream",
     "text": [
      "0.2967378402306904\n"
     ]
    }
   ],
   "source": [
    "# Code for 3.1.7 here\n",
    "\n",
    "logged_continuous_data = pd.DataFrame()\n",
    "\n",
    "for cont_var in CONTINUOUS_VARS:\n",
    "    logged_continuous_data[cont_var] = np.log1p(part3_data[cont_var])\n",
    "\n",
    "continuous_rescaled_X = StandardScaler().fit_transform(logged_continuous_data.values)\n",
    "\n",
    "# Now, we can use our function above to get the onehotencoding for the subreddits ... go ahead!\n",
    "categorical_X, feature_labels =  onehot_encode_var(part3_data, CATEGORICAL_VARS)\n",
    "\n",
    "# Now you can combine all of your features into a single feature matrix. Call it X\n",
    "binary_X = part3_data[BINARY_VARS]\n",
    "\n",
    "X = np.concatenate((continuous_rescaled_X,categorical_X, binary_X), axis=1)\n",
    "\n",
    "# And create your outcome variable, call it y\n",
    "y = np.log1p(part3_data['ups'].values)\n",
    "\n",
    "\n",
    "# Don't change this line!\n",
    "X_train, X_test, y_train, y_test = train_test_split(X, y, \n",
    "                                                    test_size=0.2, \n",
    "                                                    random_state=1)\n",
    "\n",
    "# fit a linear regression model, with an intercept\n",
    "lnr_mdl = LinearRegression(fit_intercept=True)\n",
    "lnr_mdl.fit(X_train,y_train)\n",
    "\n",
    "preds = lnr_mdl.predict(X_test)\n",
    "\n",
    "abs_diff = abs(preds-y_test)\n",
    "\n",
    "rmse_calc = np.sqrt(np.mean(np.square(preds - y_test)))\n",
    "\n",
    "# Compute RMSE\n",
    "print(rmse_calc)"
   ]
  },
  {
   "cell_type": "code",
   "execution_count": null,
   "metadata": {
    "colab": {
     "base_uri": "https://localhost:8080/",
     "height": 502
    },
    "id": "O1hFYgKbudAp",
    "outputId": "75480ada-fd3c-4d86-a7c1-c53b279007b6"
   },
   "outputs": [
    {
     "data": {
      "image/png": "[encoded data removed]",
      "text/plain": [
       "<Figure size 720x576 with 1 Axes>"
      ]
     },
     "metadata": {},
     "output_type": "display_data"
    }
   ],
   "source": [
    "# Code for 3.1.8 here\n",
    "from matplotlib import pyplot as plt \n",
    "actual_preds = np.exp(preds) - 1\n",
    "\n",
    "fig = plt.figure(figsize=(10,8))\n",
    "ax = fig.add_subplot(111)\n",
    "ax.scatter(np.exp(y_test) -1, actual_preds, s= 10, alpha=0.2)\n",
    "ax.set_xlabel('Actual Values')\n",
    "ax.set_ylabel('Predicted Values')\n",
    "\n",
    "# ax.legend()\n",
    "plt.show()"
   ]
  },
  {
   "cell_type": "markdown",
   "metadata": {
    "id": "JbpO707NE7Uz"
   },
   "source": [
    "## Part 3.2 - Exploration of regression coefficients\n",
    "\n",
    "Now, let's look at the effects of our variables for this last model (with the logarithms of the independent variables). Carefully re-combine your features with their labels (*hint, ```encoder.categories_``` will be your friend, and remember, we dropped the first category!*)\n",
    "\n",
    "- **3.2.1** - What is the strongest positive predictor of upvotes? How many more log(upvotes+1) does a one standard deviation increase in the feature correspond to?\n",
    "- **3.2.2** - What is the strongest negative predictor of upvotes? How many fewer log(upvotes+1) does a one standard deviation increase in the feature correspond to?"
   ]
  },
  {
   "cell_type": "code",
   "execution_count": null,
   "metadata": {
    "colab": {
     "base_uri": "https://localhost:8080/",
     "height": 526
    },
    "id": "_xeUiwDfALdm",
    "outputId": "805ab893-f6c5-4df8-cf00-701aa285ab7e"
   },
   "outputs": [
    {
     "data": {
      "text/html": [
       "\n",
       "  <div id=\"df-3d9ba635-92ac-4ece-8850-83afc5c0c0f9\">\n",
       "    <div class=\"colab-df-container\">\n",
       "      <div>\n",
       "<style scoped>\n",
       "    .dataframe tbody tr th:only-of-type {\n",
       "        vertical-align: middle;\n",
       "    }\n",
       "\n",
       "    .dataframe tbody tr th {\n",
       "        vertical-align: top;\n",
       "    }\n",
       "\n",
       "    .dataframe thead th {\n",
       "        text-align: right;\n",
       "    }\n",
       "</style>\n",
       "<table border=\"1\" class=\"dataframe\">\n",
       "  <thead>\n",
       "    <tr style=\"text-align: right;\">\n",
       "      <th></th>\n",
       "      <th>Coefficients</th>\n",
       "    </tr>\n",
       "  </thead>\n",
       "  <tbody>\n",
       "    <tr>\n",
       "      <th>r/memes</th>\n",
       "      <td>0.762657</td>\n",
       "    </tr>\n",
       "    <tr>\n",
       "      <th>r/learnprogramming</th>\n",
       "      <td>-2.823576</td>\n",
       "    </tr>\n",
       "  </tbody>\n",
       "</table>\n",
       "</div>\n",
       "      <button class=\"colab-df-convert\" onclick=\"convertToInteractive('df-3d9ba635-92ac-4ece-8850-83afc5c0c0f9')\"\n",
       "              title=\"Convert this dataframe to an interactive table.\"\n",
       "              style=\"display:none;\">\n",
       "        \n",
       "  <svg xmlns=\"http://www.w3.org/2000/svg\" height=\"24px\"viewBox=\"0 0 24 24\"\n",
       "       width=\"24px\">\n",
       "    <path d=\"M0 0h24v24H0V0z\" fill=\"none\"/>\n",
       "    <path d=\"M18.56 5.44l.94 2.06.94-2.06 2.06-.94-2.06-.94-.94-2.06-.94 2.06-2.06.94zm-11 1L8.5 8.5l.94-2.06 2.06-.94-2.06-.94L8.5 2.5l-.94 2.06-2.06.94zm10 10l.94 2.06.94-2.06 2.06-.94-2.06-.94-.94-2.06-.94 2.06-2.06.94z\"/><path d=\"M17.41 7.96l-1.37-1.37c-.4-.4-.92-.59-1.43-.59-.52 0-1.04.2-1.43.59L10.3 9.45l-7.72 7.72c-.78.78-.78 2.05 0 2.83L4 21.41c.39.39.9.59 1.41.59.51 0 1.02-.2 1.41-.59l7.78-7.78 2.81-2.81c.8-.78.8-2.07 0-2.86zM5.41 20L4 18.59l7.72-7.72 1.47 1.35L5.41 20z\"/>\n",
       "  </svg>\n",
       "      </button>\n",
       "      \n",
       "  <style>\n",
       "    .colab-df-container {\n",
       "      display:flex;\n",
       "      flex-wrap:wrap;\n",
       "      gap: 12px;\n",
       "    }\n",
       "\n",
       "    .colab-df-convert {\n",
       "      background-color: #E8F0FE;\n",
       "      border: none;\n",
       "      border-radius: 50%;\n",
       "      cursor: pointer;\n",
       "      display: none;\n",
       "      fill: #1967D2;\n",
       "      height: 32px;\n",
       "      padding: 0 0 0 0;\n",
       "      width: 32px;\n",
       "    }\n",
       "\n",
       "    .colab-df-convert:hover {\n",
       "      background-color: #E2EBFA;\n",
       "      box-shadow: 0px 1px 2px rgba(60, 64, 67, 0.3), 0px 1px 3px 1px rgba(60, 64, 67, 0.15);\n",
       "      fill: #174EA6;\n",
       "    }\n",
       "\n",
       "    [theme=dark] .colab-df-convert {\n",
       "      background-color: #3B4455;\n",
       "      fill: #D2E3FC;\n",
       "    }\n",
       "\n",
       "    [theme=dark] .colab-df-convert:hover {\n",
       "      background-color: #434B5C;\n",
       "      box-shadow: 0px 1px 3px 1px rgba(0, 0, 0, 0.15);\n",
       "      filter: drop-shadow(0px 1px 2px rgba(0, 0, 0, 0.3));\n",
       "      fill: #FFFFFF;\n",
       "    }\n",
       "  </style>\n",
       "\n",
       "      <script>\n",
       "        const buttonEl =\n",
       "          document.querySelector('#df-3d9ba635-92ac-4ece-8850-83afc5c0c0f9 button.colab-df-convert');\n",
       "        buttonEl.style.display =\n",
       "          google.colab.kernel.accessAllowed ? 'block' : 'none';\n",
       "\n",
       "        async function convertToInteractive(key) {\n",
       "          const element = document.querySelector('#df-3d9ba635-92ac-4ece-8850-83afc5c0c0f9');\n",
       "          const dataTable =\n",
       "            await google.colab.kernel.invokeFunction('convertToInteractive',\n",
       "                                                     [key], {});\n",
       "          if (!dataTable) return;\n",
       "\n",
       "          const docLinkHtml = 'Like what you see? Visit the ' +\n",
       "            '<a target=\"_blank\" href=https://colab.research.google.com/notebooks/data_table.ipynb>data table notebook</a>'\n",
       "            + ' to learn more about interactive tables.';\n",
       "          element.innerHTML = '';\n",
       "          dataTable['output_type'] = 'display_data';\n",
       "          await google.colab.output.renderOutput(dataTable, element);\n",
       "          const docLink = document.createElement('div');\n",
       "          docLink.innerHTML = docLinkHtml;\n",
       "          element.appendChild(docLink);\n",
       "        }\n",
       "      </script>\n",
       "    </div>\n",
       "  </div>\n",
       "  "
      ],
      "text/plain": [
       "                    Coefficients\n",
       "r/memes                 0.762657\n",
       "r/learnprogramming     -2.823576"
      ]
     },
     "metadata": {},
     "output_type": "display_data"
    },
    {
     "data": {
      "image/png": "[encoded data removed]",
      "text/plain": [
       "<Figure size 648x504 with 1 Axes>"
      ]
     },
     "metadata": {},
     "output_type": "display_data"
    }
   ],
   "source": [
    "\n",
    "input_features = CONTINUOUS_VARS + feature_labels[0][1:].tolist() + feature_labels[1][1:].tolist() + BINARY_VARS\n",
    "\n",
    "coefs = pd.DataFrame(\n",
    "    lnr_mdl.coef_,\n",
    "    columns=[\"Coefficients\"],\n",
    "    index=input_features,\n",
    ")\n",
    "\n",
    "min_and_max_coefs = coefs.sort_values('Coefficients', ascending = False).iloc[[0,-1]]\n",
    "\n",
    "display(min_and_max_coefs)\n",
    "\n",
    "# import matplotlib.pyplot as plt\n",
    "coefs.plot(kind=\"barh\", figsize=(9, 7))\n",
    "# plt.title(\"Ridge model, small regularization\")\n",
    "plt.axvline(x=0, color=\".5\")\n",
    "plt.subplots_adjust(left=0.3)"
   ]
  },
  {
   "cell_type": "code",
   "execution_count": null,
   "metadata": {
    "colab": {
     "base_uri": "https://localhost:8080/",
     "height": 148
    },
    "id": "BXQ4emkIE7Uz",
    "outputId": "694c7809-d041-4357-c0b4-e009abfe6140"
   },
   "outputs": [
    {
     "name": "stdout",
     "output_type": "stream",
     "text": [
      "Change in Prediction on 1 unit change of strongest negative predictor: r/learnprogramming [-2.82357577]\n",
      "Change in Prediction on 1 unit change of strongest positive predictor: r/memes [0.76265694]\n"
     ]
    },
    {
     "data": {
      "text/html": [
       "\n",
       "  <div id=\"df-8ac16129-842f-42fe-87f7-c48b8a428cda\">\n",
       "    <div class=\"colab-df-container\">\n",
       "      <div>\n",
       "<style scoped>\n",
       "    .dataframe tbody tr th:only-of-type {\n",
       "        vertical-align: middle;\n",
       "    }\n",
       "\n",
       "    .dataframe tbody tr th {\n",
       "        vertical-align: top;\n",
       "    }\n",
       "\n",
       "    .dataframe thead th {\n",
       "        text-align: right;\n",
       "    }\n",
       "</style>\n",
       "<table border=\"1\" class=\"dataframe\">\n",
       "  <thead>\n",
       "    <tr style=\"text-align: right;\">\n",
       "      <th></th>\n",
       "      <th>Coefficients</th>\n",
       "    </tr>\n",
       "  </thead>\n",
       "  <tbody>\n",
       "    <tr>\n",
       "      <th>r/memes</th>\n",
       "      <td>0.762657</td>\n",
       "    </tr>\n",
       "    <tr>\n",
       "      <th>r/learnprogramming</th>\n",
       "      <td>-2.823576</td>\n",
       "    </tr>\n",
       "  </tbody>\n",
       "</table>\n",
       "</div>\n",
       "      <button class=\"colab-df-convert\" onclick=\"convertToInteractive('df-8ac16129-842f-42fe-87f7-c48b8a428cda')\"\n",
       "              title=\"Convert this dataframe to an interactive table.\"\n",
       "              style=\"display:none;\">\n",
       "        \n",
       "  <svg xmlns=\"http://www.w3.org/2000/svg\" height=\"24px\"viewBox=\"0 0 24 24\"\n",
       "       width=\"24px\">\n",
       "    <path d=\"M0 0h24v24H0V0z\" fill=\"none\"/>\n",
       "    <path d=\"M18.56 5.44l.94 2.06.94-2.06 2.06-.94-2.06-.94-.94-2.06-.94 2.06-2.06.94zm-11 1L8.5 8.5l.94-2.06 2.06-.94-2.06-.94L8.5 2.5l-.94 2.06-2.06.94zm10 10l.94 2.06.94-2.06 2.06-.94-2.06-.94-.94-2.06-.94 2.06-2.06.94z\"/><path d=\"M17.41 7.96l-1.37-1.37c-.4-.4-.92-.59-1.43-.59-.52 0-1.04.2-1.43.59L10.3 9.45l-7.72 7.72c-.78.78-.78 2.05 0 2.83L4 21.41c.39.39.9.59 1.41.59.51 0 1.02-.2 1.41-.59l7.78-7.78 2.81-2.81c.8-.78.8-2.07 0-2.86zM5.41 20L4 18.59l7.72-7.72 1.47 1.35L5.41 20z\"/>\n",
       "  </svg>\n",
       "      </button>\n",
       "      \n",
       "  <style>\n",
       "    .colab-df-container {\n",
       "      display:flex;\n",
       "      flex-wrap:wrap;\n",
       "      gap: 12px;\n",
       "    }\n",
       "\n",
       "    .colab-df-convert {\n",
       "      background-color: #E8F0FE;\n",
       "      border: none;\n",
       "      border-radius: 50%;\n",
       "      cursor: pointer;\n",
       "      display: none;\n",
       "      fill: #1967D2;\n",
       "      height: 32px;\n",
       "      padding: 0 0 0 0;\n",
       "      width: 32px;\n",
       "    }\n",
       "\n",
       "    .colab-df-convert:hover {\n",
       "      background-color: #E2EBFA;\n",
       "      box-shadow: 0px 1px 2px rgba(60, 64, 67, 0.3), 0px 1px 3px 1px rgba(60, 64, 67, 0.15);\n",
       "      fill: #174EA6;\n",
       "    }\n",
       "\n",
       "    [theme=dark] .colab-df-convert {\n",
       "      background-color: #3B4455;\n",
       "      fill: #D2E3FC;\n",
       "    }\n",
       "\n",
       "    [theme=dark] .colab-df-convert:hover {\n",
       "      background-color: #434B5C;\n",
       "      box-shadow: 0px 1px 3px 1px rgba(0, 0, 0, 0.15);\n",
       "      filter: drop-shadow(0px 1px 2px rgba(0, 0, 0, 0.3));\n",
       "      fill: #FFFFFF;\n",
       "    }\n",
       "  </style>\n",
       "\n",
       "      <script>\n",
       "        const buttonEl =\n",
       "          document.querySelector('#df-8ac16129-842f-42fe-87f7-c48b8a428cda button.colab-df-convert');\n",
       "        buttonEl.style.display =\n",
       "          google.colab.kernel.accessAllowed ? 'block' : 'none';\n",
       "\n",
       "        async function convertToInteractive(key) {\n",
       "          const element = document.querySelector('#df-8ac16129-842f-42fe-87f7-c48b8a428cda');\n",
       "          const dataTable =\n",
       "            await google.colab.kernel.invokeFunction('convertToInteractive',\n",
       "                                                     [key], {});\n",
       "          if (!dataTable) return;\n",
       "\n",
       "          const docLinkHtml = 'Like what you see? Visit the ' +\n",
       "            '<a target=\"_blank\" href=https://colab.research.google.com/notebooks/data_table.ipynb>data table notebook</a>'\n",
       "            + ' to learn more about interactive tables.';\n",
       "          element.innerHTML = '';\n",
       "          dataTable['output_type'] = 'display_data';\n",
       "          await google.colab.output.renderOutput(dataTable, element);\n",
       "          const docLink = document.createElement('div');\n",
       "          docLink.innerHTML = docLinkHtml;\n",
       "          element.appendChild(docLink);\n",
       "        }\n",
       "      </script>\n",
       "    </div>\n",
       "  </div>\n",
       "  "
      ],
      "text/plain": [
       "                    Coefficients\n",
       "r/memes                 0.762657\n",
       "r/learnprogramming     -2.823576"
      ]
     },
     "metadata": {},
     "output_type": "display_data"
    }
   ],
   "source": [
    "# Add your code for 3.2 here\n",
    "\n",
    "min_coeff_idx = np.arange(len(input_features))[np.array(input_features) == min_and_max_coefs.index[-1]][0]\n",
    "\n",
    "ab_test_input_1 = X_test[0].copy()\n",
    "\n",
    "ab_test_input_1[min_coeff_idx] += 1 # increasig value of coeff by 1 unit\n",
    "\n",
    "# print([lnr_mdl.predict([ab_test_input_1]) , lnr_mdl.predict([X_test[0]])])\n",
    "print('Change in Prediction on 1 unit change of strongest negative predictor:', min_and_max_coefs.index[-1],\n",
    "      lnr_mdl.predict([ab_test_input_1]) - lnr_mdl.predict([X_test[0]]))\n",
    "\n",
    "max_coeff_idx = np.arange(len(input_features))[np.array(input_features) == min_and_max_coefs.index[0]][0]\n",
    "\n",
    "ab_test_input_1 = X_test[0].copy()\n",
    "\n",
    "ab_test_input_1[max_coeff_idx] +=1 # increasig value of coeff by 1 unit\n",
    "\n",
    "# print([lnr_mdl.predict([ab_test_input_1]) , lnr_mdl.predict([X_test[0]])])\n",
    "print('Change in Prediction on 1 unit change of strongest positive predictor:',min_and_max_coefs.index[0],\n",
    "      lnr_mdl.predict([ab_test_input_1]) - lnr_mdl.predict([X_test[0]]))\n",
    "display(min_and_max_coefs)"
   ]
  },
  {
   "cell_type": "markdown",
   "metadata": {
    "id": "tDDOJQQ-E7U0"
   },
   "source": [
    "# Part 3.3 - 574 Only - Attempting to Improve Your Predictions \n",
    "\n",
    "In class, we talked about a few things we might do to improve our model's predictions. These include adding interaction terms, including different functional forms of a feature, using a different model, etc. Here, we ask that you implement at least two of these, and then re-evaluate your model. We'll ask some of the teams with some of the more interesting/effective ideas here to come present their solutions to the class!\n",
    "\n",
    "- **3.3.1** - Describe at least two changes you made -- at least one to the feature set, and at least one different model -- to try to improve prediction.  Explain *why* you think that these changes make sense, given the Exploratory analyeses above, or any other exploratory analysis you choose to do.\n",
    "- **3.3.2** - By how much did your RMSE improve? Which change that you made improved it the most? How do you know?"
   ]
  },
  {
   "cell_type": "code",
   "execution_count": null,
   "metadata": {
    "colab": {
     "base_uri": "https://localhost:8080/"
    },
    "id": "JBXp71_5E7U0",
    "outputId": "a9b4d892-8968-4541-efa9-dd1fe62c9710"
   },
   "outputs": [
    {
     "name": "stdout",
     "output_type": "stream",
     "text": [
      "0.28332117940112606\n",
      "0.2954391613409312\n"
     ]
    }
   ],
   "source": [
    "# Add your code for 3.3.1 here\n",
    "\n",
    "# Improving by making changing the model\n",
    "\n",
    "from sklearn.ensemble import RandomForestRegressor\n",
    "mdl = RandomForestRegressor()\n",
    "\n",
    "mdl.fit(X_train,y_train)\n",
    "\n",
    "preds = mdl.predict(X_test)\n",
    "\n",
    "abs_diff = abs(preds-y_test)\n",
    "\n",
    "rmse_calc = np.sqrt(np.mean(np.square(preds - y_test)))\n",
    "\n",
    "# Compute RMSE\n",
    "print(rmse_calc)\n",
    "\n",
    "\n",
    "# Improving by making changes in the feature set\n",
    "\n",
    "X_squared = np.square(X)\n",
    "X_cubed = np.power(X, 3)\n",
    "\n",
    "X = np.concatenate((X,X_squared, X_cubed), axis=1)\n",
    "\n",
    "# And create your outcome variable, call it y\n",
    "y = np.log1p(part3_data['ups'].values)\n",
    "\n",
    "\n",
    "# Don't change this line!\n",
    "X_train, X_test, y_train, y_test = train_test_split(X, y, \n",
    "                                                    test_size=0.2, \n",
    "                                                    random_state=1)\n",
    "\n",
    "# fit a linear regression model, with an intercept\n",
    "lnr_mdl = LinearRegression()\n",
    "\n",
    "lnr_mdl.fit(X_train,y_train)\n",
    "\n",
    "preds = lnr_mdl.predict(X_test)\n",
    "\n",
    "abs_diff = abs(preds-y_test)\n",
    "\n",
    "rmse_calc = np.sqrt(np.mean(np.square(preds - y_test)))\n",
    "\n",
    "# Compute RMSE\n",
    "print(rmse_calc)\n",
    "\n",
    "\n"
   ]
  }
 ],
 "metadata": {
  "colab": {
   "collapsed_sections": [],
   "name": "assignment_1_474_s22.ipynb",
   "provenance": []
  },
  "kernelspec": {
   "display_name": "Python 3",
   "language": "python",
   "name": "python3"
  },
  "language_info": {
   "codemirror_mode": {
    "name": "ipython",
    "version": 3
   },
   "file_extension": ".py",
   "mimetype": "text/x-python",
   "name": "python",
   "nbconvert_exporter": "python",
   "pygments_lexer": "ipython3",
   "version": "3.8.8"
  },
  "toc": {
   "base_numbering": 1,
   "nav_menu": {},
   "number_sections": true,
   "sideBar": true,
   "skip_h1_title": false,
   "title_cell": "Table of Contents",
   "title_sidebar": "Contents",
   "toc_cell": false,
   "toc_position": {},
   "toc_section_display": true,
   "toc_window_display": true
  }
 },
 "nbformat": 4,
 "nbformat_minor": 1
}
